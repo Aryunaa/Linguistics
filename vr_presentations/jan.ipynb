{
 "cells": [
  {
   "cell_type": "code",
   "execution_count": 1,
   "id": "ef584486-6846-4708-be46-6178e3789656",
   "metadata": {
    "scrolled": true
   },
   "outputs": [],
   "source": [
    "#!pip install pandas\n",
    "#!pip install xlrd"
   ]
  },
  {
   "cell_type": "code",
   "execution_count": 1,
   "id": "6c284a1b-08c4-4493-a970-2d6bd5d9a644",
   "metadata": {},
   "outputs": [],
   "source": [
    "import pandas as pd"
   ]
  },
  {
   "cell_type": "code",
   "execution_count": 2,
   "id": "676635a6",
   "metadata": {},
   "outputs": [],
   "source": [
    "lsk = pd.read_excel('vr_report2.xls')"
   ]
  },
  {
   "cell_type": "code",
   "execution_count": 3,
   "id": "b443c8cc",
   "metadata": {},
   "outputs": [],
   "source": [
    "#lsk2 = pd.read_excel('vr_report2.xls')"
   ]
  },
  {
   "cell_type": "markdown",
   "id": "445195b5",
   "metadata": {},
   "source": [
    "В  общем суть такая. мы студентам давали делать презентации в VR  очках. кто-то делал 1 раз, кто-то 2 или 3. вопрос 1) есть ли корреляции чего-то с чем-то ( там количества слов-паразитов и качества контакта с аудиторией)  2) есть ли улучшение по тем, кто презентовал 2 и 3 раз по выделенным параметрам..."
   ]
  },
  {
   "cell_type": "code",
   "execution_count": 4,
   "id": "d8c2f5c1",
   "metadata": {},
   "outputs": [
    {
     "data": {
      "text/html": [
       "<div>\n",
       "<style scoped>\n",
       "    .dataframe tbody tr th:only-of-type {\n",
       "        vertical-align: middle;\n",
       "    }\n",
       "\n",
       "    .dataframe tbody tr th {\n",
       "        vertical-align: top;\n",
       "    }\n",
       "\n",
       "    .dataframe thead th {\n",
       "        text-align: right;\n",
       "    }\n",
       "</style>\n",
       "<table border=\"1\" class=\"dataframe\">\n",
       "  <thead>\n",
       "    <tr style=\"text-align: right;\">\n",
       "      <th></th>\n",
       "      <th>Фамилия</th>\n",
       "      <th>Имя</th>\n",
       "      <th>Отчество</th>\n",
       "      <th>Номер сессии</th>\n",
       "      <th>Дата</th>\n",
       "      <th>Длительность (минуты)</th>\n",
       "      <th>Зрительный контакт</th>\n",
       "      <th>Потеря зрительного контакта (сек)</th>\n",
       "      <th>Отсутствие зрительного контакта (раз)</th>\n",
       "      <th>Взгляд на презентацию (раз)</th>\n",
       "      <th>Слова паразиты, общее количество</th>\n",
       "      <th>Слова паразиты, конкретные слова-паразиты и их количество</th>\n",
       "      <th>Грубые слова, общее количество</th>\n",
       "      <th>Распределение внимания</th>\n",
       "      <th>Внимание к посторонним объектам</th>\n",
       "      <th>Ссылка на аудиозапись выступления</th>\n",
       "    </tr>\n",
       "  </thead>\n",
       "  <tbody>\n",
       "    <tr>\n",
       "      <th>192</th>\n",
       "      <td>Trofimov</td>\n",
       "      <td>Michil</td>\n",
       "      <td>A</td>\n",
       "      <td>90.0</td>\n",
       "      <td>22.11.23 16:54</td>\n",
       "      <td>3:16</td>\n",
       "      <td>82%</td>\n",
       "      <td>6.0</td>\n",
       "      <td>1.0</td>\n",
       "      <td>3.0</td>\n",
       "      <td>17.0</td>\n",
       "      <td>Like(8) Uh(2) So(4) Um(1) Kind of(2)</td>\n",
       "      <td>0.0</td>\n",
       "      <td>Средняя</td>\n",
       "      <td>Избыточное</td>\n",
       "      <td>https://pubspeak-skoltech.modumlab.com/audio/9...</td>\n",
       "    </tr>\n",
       "  </tbody>\n",
       "</table>\n",
       "</div>"
      ],
      "text/plain": [
       "      Фамилия     Имя Отчество  Номер сессии            Дата  \\\n",
       "192  Trofimov  Michil        A          90.0  22.11.23 16:54   \n",
       "\n",
       "    Длительность (минуты) Зрительный контакт  \\\n",
       "192                  3:16                82%   \n",
       "\n",
       "     Потеря зрительного контакта (сек)  Отсутствие зрительного контакта (раз)  \\\n",
       "192                                6.0                                    1.0   \n",
       "\n",
       "     Взгляд на презентацию (раз)  Слова паразиты, общее количество  \\\n",
       "192                          3.0                              17.0   \n",
       "\n",
       "    Слова паразиты, конкретные слова-паразиты и их количество  \\\n",
       "192               Like(8) Uh(2) So(4) Um(1) Kind of(2)          \n",
       "\n",
       "     Грубые слова, общее количество Распределение внимания  \\\n",
       "192                             0.0                Средняя   \n",
       "\n",
       "    Внимание к посторонним объектам  \\\n",
       "192                      Избыточное   \n",
       "\n",
       "                     Ссылка на аудиозапись выступления  \n",
       "192  https://pubspeak-skoltech.modumlab.com/audio/9...  "
      ]
     },
     "execution_count": 4,
     "metadata": {},
     "output_type": "execute_result"
    }
   ],
   "source": [
    "lsk[lsk['Фамилия']=='Trofimov']"
   ]
  },
  {
   "cell_type": "code",
   "execution_count": 5,
   "id": "efc7a9c2",
   "metadata": {},
   "outputs": [
    {
     "data": {
      "text/plain": [
       "Index(['Фамилия', 'Имя', 'Отчество', 'Номер сессии', 'Дата',\n",
       "       'Длительность (минуты)', 'Зрительный контакт',\n",
       "       'Потеря зрительного контакта (сек)',\n",
       "       'Отсутствие зрительного контакта (раз)', 'Взгляд на презентацию (раз)',\n",
       "       'Слова паразиты, общее количество',\n",
       "       'Слова паразиты, конкретные слова-паразиты и их количество',\n",
       "       'Грубые слова, общее количество', 'Распределение внимания',\n",
       "       'Внимание к посторонним объектам', 'Ссылка на аудиозапись выступления'],\n",
       "      dtype='object')"
      ]
     },
     "execution_count": 5,
     "metadata": {},
     "output_type": "execute_result"
    }
   ],
   "source": [
    "lsk.columns"
   ]
  },
  {
   "cell_type": "markdown",
   "id": "a60af825",
   "metadata": {},
   "source": [
    "Разницы между данными нет. просто второй датасет дополнен. мерджить не надо"
   ]
  },
  {
   "cell_type": "code",
   "execution_count": 6,
   "id": "1e518d0a",
   "metadata": {},
   "outputs": [],
   "source": [
    "#lsk = lsk2.copy()\n",
    "cols = ['fam', 'name', 'otch', 'numsession', 'date',\n",
    "       'dlitelnost', 'eye_contact',\n",
    "       'time_losing_contact',\n",
    "       'number_losing', 'num_preslook',\n",
    "       'num_fillerwords',\n",
    "       'garbage',\n",
    "       'num_shitwords', 'distrib_attent',\n",
    "       'pass_attent', 'garba2']\n",
    "lsk.columns = cols"
   ]
  },
  {
   "cell_type": "code",
   "execution_count": 7,
   "id": "fa28f135",
   "metadata": {},
   "outputs": [
    {
     "data": {
      "text/html": [
       "<div>\n",
       "<style scoped>\n",
       "    .dataframe tbody tr th:only-of-type {\n",
       "        vertical-align: middle;\n",
       "    }\n",
       "\n",
       "    .dataframe tbody tr th {\n",
       "        vertical-align: top;\n",
       "    }\n",
       "\n",
       "    .dataframe thead th {\n",
       "        text-align: right;\n",
       "    }\n",
       "</style>\n",
       "<table border=\"1\" class=\"dataframe\">\n",
       "  <thead>\n",
       "    <tr style=\"text-align: right;\">\n",
       "      <th></th>\n",
       "      <th>fam</th>\n",
       "      <th>name</th>\n",
       "      <th>otch</th>\n",
       "      <th>numsession</th>\n",
       "      <th>date</th>\n",
       "      <th>dlitelnost</th>\n",
       "      <th>eye_contact</th>\n",
       "      <th>time_losing_contact</th>\n",
       "      <th>number_losing</th>\n",
       "      <th>num_preslook</th>\n",
       "      <th>num_fillerwords</th>\n",
       "      <th>garbage</th>\n",
       "      <th>num_shitwords</th>\n",
       "      <th>distrib_attent</th>\n",
       "      <th>pass_attent</th>\n",
       "      <th>garba2</th>\n",
       "    </tr>\n",
       "  </thead>\n",
       "  <tbody>\n",
       "    <tr>\n",
       "      <th>0</th>\n",
       "      <td>Сувала</td>\n",
       "      <td>Владислав</td>\n",
       "      <td>А</td>\n",
       "      <td>282.0</td>\n",
       "      <td>03.04.24 15:43</td>\n",
       "      <td>6:57</td>\n",
       "      <td>96%</td>\n",
       "      <td>2.0</td>\n",
       "      <td>0.0</td>\n",
       "      <td>0.0</td>\n",
       "      <td>13.0</td>\n",
       "      <td>I mean(1) Uh(5) Well(1) Sorry(1) Um(1) So(2) S...</td>\n",
       "      <td>0.0</td>\n",
       "      <td>Плохая</td>\n",
       "      <td>Избыточное</td>\n",
       "      <td>https://pubspeak-skoltech.modumlab.com/audio/2...</td>\n",
       "    </tr>\n",
       "    <tr>\n",
       "      <th>1</th>\n",
       "      <td>Сувала</td>\n",
       "      <td>Владислав</td>\n",
       "      <td>А</td>\n",
       "      <td>281.0</td>\n",
       "      <td>03.04.24 15:33</td>\n",
       "      <td>7:06</td>\n",
       "      <td>98%</td>\n",
       "      <td>3.0</td>\n",
       "      <td>0.0</td>\n",
       "      <td>0.0</td>\n",
       "      <td>9.0</td>\n",
       "      <td>I mean(1) Well(3) Uh(4) Um(1)</td>\n",
       "      <td>0.0</td>\n",
       "      <td>Плохая</td>\n",
       "      <td>Оптимальное</td>\n",
       "      <td>https://pubspeak-skoltech.modumlab.com/audio/2...</td>\n",
       "    </tr>\n",
       "    <tr>\n",
       "      <th>2</th>\n",
       "      <td>Стрелец</td>\n",
       "      <td>Татьяна</td>\n",
       "      <td>А</td>\n",
       "      <td>280.0</td>\n",
       "      <td>03.04.24 15:29</td>\n",
       "      <td>5:48</td>\n",
       "      <td>98%</td>\n",
       "      <td>1.0</td>\n",
       "      <td>0.0</td>\n",
       "      <td>3.0</td>\n",
       "      <td>13.0</td>\n",
       "      <td>You know(1) I mean(3) So(8) Like(1)</td>\n",
       "      <td>0.0</td>\n",
       "      <td>Плохая</td>\n",
       "      <td>Оптимальное</td>\n",
       "      <td>https://pubspeak-skoltech.modumlab.com/audio/2...</td>\n",
       "    </tr>\n",
       "    <tr>\n",
       "      <th>3</th>\n",
       "      <td>Заименко</td>\n",
       "      <td>Ангелина</td>\n",
       "      <td>А</td>\n",
       "      <td>279.0</td>\n",
       "      <td>03.04.24 15:26</td>\n",
       "      <td>6:20</td>\n",
       "      <td>0%</td>\n",
       "      <td>380.0</td>\n",
       "      <td>1.0</td>\n",
       "      <td>0.0</td>\n",
       "      <td>10.0</td>\n",
       "      <td>Like(5) So(4) Um(1)</td>\n",
       "      <td>0.0</td>\n",
       "      <td>Плохая</td>\n",
       "      <td>Избыточное</td>\n",
       "      <td>https://pubspeak-skoltech.modumlab.com/audio/2...</td>\n",
       "    </tr>\n",
       "    <tr>\n",
       "      <th>4</th>\n",
       "      <td>Заименко</td>\n",
       "      <td>Ангелина</td>\n",
       "      <td>А</td>\n",
       "      <td>278.0</td>\n",
       "      <td>03.04.24 15:19</td>\n",
       "      <td>0:34</td>\n",
       "      <td>0%</td>\n",
       "      <td>34.0</td>\n",
       "      <td>1.0</td>\n",
       "      <td>0.0</td>\n",
       "      <td>1.0</td>\n",
       "      <td>So(1)</td>\n",
       "      <td>0.0</td>\n",
       "      <td>Плохая</td>\n",
       "      <td>Избыточное</td>\n",
       "      <td>https://pubspeak-skoltech.modumlab.com/audio/2...</td>\n",
       "    </tr>\n",
       "  </tbody>\n",
       "</table>\n",
       "</div>"
      ],
      "text/plain": [
       "         fam        name otch  numsession            date dlitelnost  \\\n",
       "0    Сувала   Владислав     А       282.0  03.04.24 15:43       6:57   \n",
       "1    Сувала   Владислав     А       281.0  03.04.24 15:33       7:06   \n",
       "2   Стрелец      Татьяна    А       280.0  03.04.24 15:29       5:48   \n",
       "3  Заименко    Ангелина     А       279.0  03.04.24 15:26       6:20   \n",
       "4  Заименко    Ангелина     А       278.0  03.04.24 15:19       0:34   \n",
       "\n",
       "  eye_contact  time_losing_contact  number_losing  num_preslook  \\\n",
       "0         96%                  2.0            0.0           0.0   \n",
       "1         98%                  3.0            0.0           0.0   \n",
       "2         98%                  1.0            0.0           3.0   \n",
       "3          0%                380.0            1.0           0.0   \n",
       "4          0%                 34.0            1.0           0.0   \n",
       "\n",
       "   num_fillerwords                                            garbage  \\\n",
       "0             13.0  I mean(1) Uh(5) Well(1) Sorry(1) Um(1) So(2) S...   \n",
       "1              9.0                      I mean(1) Well(3) Uh(4) Um(1)   \n",
       "2             13.0                You know(1) I mean(3) So(8) Like(1)   \n",
       "3             10.0                                Like(5) So(4) Um(1)   \n",
       "4              1.0                                              So(1)   \n",
       "\n",
       "   num_shitwords distrib_attent  pass_attent  \\\n",
       "0            0.0         Плохая   Избыточное   \n",
       "1            0.0         Плохая  Оптимальное   \n",
       "2            0.0         Плохая  Оптимальное   \n",
       "3            0.0         Плохая   Избыточное   \n",
       "4            0.0         Плохая   Избыточное   \n",
       "\n",
       "                                              garba2  \n",
       "0  https://pubspeak-skoltech.modumlab.com/audio/2...  \n",
       "1  https://pubspeak-skoltech.modumlab.com/audio/2...  \n",
       "2  https://pubspeak-skoltech.modumlab.com/audio/2...  \n",
       "3  https://pubspeak-skoltech.modumlab.com/audio/2...  \n",
       "4  https://pubspeak-skoltech.modumlab.com/audio/2...  "
      ]
     },
     "execution_count": 7,
     "metadata": {},
     "output_type": "execute_result"
    }
   ],
   "source": [
    "lsk.head()"
   ]
  },
  {
   "cell_type": "code",
   "execution_count": 8,
   "id": "919bbc6f",
   "metadata": {},
   "outputs": [
    {
     "name": "stdout",
     "output_type": "stream",
     "text": [
      "cannot convert float NaN to integer\n",
      "cannot convert float NaN to integer\n",
      "cannot convert float NaN to integer\n",
      "cannot convert float NaN to integer\n",
      "cannot convert float NaN to integer\n",
      "cannot convert float NaN to integer\n",
      "cannot convert float NaN to integer\n",
      "cannot convert float NaN to integer\n",
      "cannot convert float NaN to integer\n"
     ]
    }
   ],
   "source": [
    "'''\n",
    "lsk['dlitelnost'] = lsk['dlitelnost'].str.replace(' ', '')\n",
    "lsk['dlitelnost_min'] = lsk['dlitelnost'].str[0]\n",
    "lsk['dlitelnost_sec_str'] = lsk['dlitelnost'].str[2:]\n",
    "lsk['dlitelnost_secs'] = lsk['dlitelnost_min'].astype('Int32')*60 + lsk['dlitelnost_sec_str'].astype('Int32')\n",
    "'''\n",
    "lsk['dlitelnost_secs'] = 0\n",
    "def get_sec(row):\n",
    "    \"\"\"Get seconds from time.\"\"\"\n",
    "    if not (isinstance(row['dlitelnost'], int) or isinstance(row['dlitelnost'], float)) : \n",
    "        m, s = row['dlitelnost'].split(':')  \n",
    "    else :\n",
    "        m, s = 0, row['dlitelnost']\n",
    "    try:\n",
    "        row['dlitelnost_secs'] = int(m) * 60 + int(s)\n",
    "    except ValueError as e:\n",
    "        print(str(e))\n",
    "    return row\n",
    "\n",
    "lsk = lsk.apply(get_sec, axis=1)"
   ]
  },
  {
   "cell_type": "code",
   "execution_count": 9,
   "id": "99d3b6ad",
   "metadata": {},
   "outputs": [],
   "source": [
    "formati = '%d.%m.%y %H:%M'\n",
    "lsk.date = pd.to_datetime(lsk[\"date\"], format=formati)\n",
    "#formati2 = '%'\n",
    "#lsk['dlitelnost']"
   ]
  },
  {
   "cell_type": "code",
   "execution_count": 10,
   "id": "3cab6e28",
   "metadata": {},
   "outputs": [
    {
     "name": "stdout",
     "output_type": "stream",
     "text": [
      "<class 'pandas.core.frame.DataFrame'>\n",
      "RangeIndex: 212 entries, 0 to 211\n",
      "Data columns (total 17 columns):\n",
      " #   Column               Non-Null Count  Dtype         \n",
      "---  ------               --------------  -----         \n",
      " 0   fam                  203 non-null    object        \n",
      " 1   name                 203 non-null    object        \n",
      " 2   otch                 203 non-null    object        \n",
      " 3   numsession           203 non-null    float64       \n",
      " 4   date                 203 non-null    datetime64[ns]\n",
      " 5   dlitelnost           203 non-null    object        \n",
      " 6   eye_contact          203 non-null    object        \n",
      " 7   time_losing_contact  203 non-null    float64       \n",
      " 8   number_losing        203 non-null    float64       \n",
      " 9   num_preslook         203 non-null    float64       \n",
      " 10  num_fillerwords      203 non-null    float64       \n",
      " 11  garbage              146 non-null    object        \n",
      " 12  num_shitwords        203 non-null    float64       \n",
      " 13  distrib_attent       203 non-null    object        \n",
      " 14  pass_attent          203 non-null    object        \n",
      " 15  garba2               203 non-null    object        \n",
      " 16  dlitelnost_secs      212 non-null    int64         \n",
      "dtypes: datetime64[ns](1), float64(6), int64(1), object(9)\n",
      "memory usage: 28.3+ KB\n"
     ]
    }
   ],
   "source": [
    "lsk.info()"
   ]
  },
  {
   "cell_type": "code",
   "execution_count": 11,
   "id": "52eca236",
   "metadata": {},
   "outputs": [
    {
     "data": {
      "text/html": [
       "<div>\n",
       "<style scoped>\n",
       "    .dataframe tbody tr th:only-of-type {\n",
       "        vertical-align: middle;\n",
       "    }\n",
       "\n",
       "    .dataframe tbody tr th {\n",
       "        vertical-align: top;\n",
       "    }\n",
       "\n",
       "    .dataframe thead th {\n",
       "        text-align: right;\n",
       "    }\n",
       "</style>\n",
       "<table border=\"1\" class=\"dataframe\">\n",
       "  <thead>\n",
       "    <tr style=\"text-align: right;\">\n",
       "      <th></th>\n",
       "      <th>numsession</th>\n",
       "      <th>date</th>\n",
       "      <th>time_losing_contact</th>\n",
       "      <th>number_losing</th>\n",
       "      <th>num_preslook</th>\n",
       "      <th>num_fillerwords</th>\n",
       "      <th>num_shitwords</th>\n",
       "      <th>dlitelnost_secs</th>\n",
       "    </tr>\n",
       "  </thead>\n",
       "  <tbody>\n",
       "    <tr>\n",
       "      <th>count</th>\n",
       "      <td>203.000000</td>\n",
       "      <td>203</td>\n",
       "      <td>203.000000</td>\n",
       "      <td>203.000000</td>\n",
       "      <td>203.000000</td>\n",
       "      <td>203.000000</td>\n",
       "      <td>203.000000</td>\n",
       "      <td>212.000000</td>\n",
       "    </tr>\n",
       "    <tr>\n",
       "      <th>mean</th>\n",
       "      <td>178.295567</td>\n",
       "      <td>2024-01-16 05:56:10.640393984</td>\n",
       "      <td>15.433498</td>\n",
       "      <td>0.940887</td>\n",
       "      <td>1.458128</td>\n",
       "      <td>9.118227</td>\n",
       "      <td>0.009852</td>\n",
       "      <td>157.429245</td>\n",
       "    </tr>\n",
       "    <tr>\n",
       "      <th>min</th>\n",
       "      <td>71.000000</td>\n",
       "      <td>2023-11-22 13:27:00</td>\n",
       "      <td>0.000000</td>\n",
       "      <td>0.000000</td>\n",
       "      <td>0.000000</td>\n",
       "      <td>0.000000</td>\n",
       "      <td>0.000000</td>\n",
       "      <td>0.000000</td>\n",
       "    </tr>\n",
       "    <tr>\n",
       "      <th>25%</th>\n",
       "      <td>121.500000</td>\n",
       "      <td>2023-12-12 17:32:00</td>\n",
       "      <td>1.000000</td>\n",
       "      <td>0.000000</td>\n",
       "      <td>0.000000</td>\n",
       "      <td>0.000000</td>\n",
       "      <td>0.000000</td>\n",
       "      <td>25.000000</td>\n",
       "    </tr>\n",
       "    <tr>\n",
       "      <th>50%</th>\n",
       "      <td>181.000000</td>\n",
       "      <td>2024-01-11 15:29:00</td>\n",
       "      <td>3.000000</td>\n",
       "      <td>0.000000</td>\n",
       "      <td>0.000000</td>\n",
       "      <td>5.000000</td>\n",
       "      <td>0.000000</td>\n",
       "      <td>115.500000</td>\n",
       "    </tr>\n",
       "    <tr>\n",
       "      <th>75%</th>\n",
       "      <td>231.500000</td>\n",
       "      <td>2024-01-24 15:34:30</td>\n",
       "      <td>9.000000</td>\n",
       "      <td>1.000000</td>\n",
       "      <td>1.000000</td>\n",
       "      <td>13.000000</td>\n",
       "      <td>0.000000</td>\n",
       "      <td>264.000000</td>\n",
       "    </tr>\n",
       "    <tr>\n",
       "      <th>max</th>\n",
       "      <td>282.000000</td>\n",
       "      <td>2024-04-03 15:43:00</td>\n",
       "      <td>559.000000</td>\n",
       "      <td>12.000000</td>\n",
       "      <td>25.000000</td>\n",
       "      <td>62.000000</td>\n",
       "      <td>1.000000</td>\n",
       "      <td>676.000000</td>\n",
       "    </tr>\n",
       "    <tr>\n",
       "      <th>std</th>\n",
       "      <td>62.080922</td>\n",
       "      <td>NaN</td>\n",
       "      <td>58.155214</td>\n",
       "      <td>1.839192</td>\n",
       "      <td>3.692643</td>\n",
       "      <td>11.324459</td>\n",
       "      <td>0.099012</td>\n",
       "      <td>150.014722</td>\n",
       "    </tr>\n",
       "  </tbody>\n",
       "</table>\n",
       "</div>"
      ],
      "text/plain": [
       "       numsession                           date  time_losing_contact  \\\n",
       "count  203.000000                            203           203.000000   \n",
       "mean   178.295567  2024-01-16 05:56:10.640393984            15.433498   \n",
       "min     71.000000            2023-11-22 13:27:00             0.000000   \n",
       "25%    121.500000            2023-12-12 17:32:00             1.000000   \n",
       "50%    181.000000            2024-01-11 15:29:00             3.000000   \n",
       "75%    231.500000            2024-01-24 15:34:30             9.000000   \n",
       "max    282.000000            2024-04-03 15:43:00           559.000000   \n",
       "std     62.080922                            NaN            58.155214   \n",
       "\n",
       "       number_losing  num_preslook  num_fillerwords  num_shitwords  \\\n",
       "count     203.000000    203.000000       203.000000     203.000000   \n",
       "mean        0.940887      1.458128         9.118227       0.009852   \n",
       "min         0.000000      0.000000         0.000000       0.000000   \n",
       "25%         0.000000      0.000000         0.000000       0.000000   \n",
       "50%         0.000000      0.000000         5.000000       0.000000   \n",
       "75%         1.000000      1.000000        13.000000       0.000000   \n",
       "max        12.000000     25.000000        62.000000       1.000000   \n",
       "std         1.839192      3.692643        11.324459       0.099012   \n",
       "\n",
       "       dlitelnost_secs  \n",
       "count       212.000000  \n",
       "mean        157.429245  \n",
       "min           0.000000  \n",
       "25%          25.000000  \n",
       "50%         115.500000  \n",
       "75%         264.000000  \n",
       "max         676.000000  \n",
       "std         150.014722  "
      ]
     },
     "execution_count": 11,
     "metadata": {},
     "output_type": "execute_result"
    }
   ],
   "source": [
    "lsk.describe()"
   ]
  },
  {
   "cell_type": "code",
   "execution_count": 12,
   "id": "0773a389",
   "metadata": {},
   "outputs": [],
   "source": [
    "lsk = lsk[lsk['dlitelnost_secs']>25]"
   ]
  },
  {
   "cell_type": "code",
   "execution_count": 13,
   "id": "d95cda8e",
   "metadata": {},
   "outputs": [
    {
     "data": {
      "text/plain": [
       "<seaborn.axisgrid.FacetGrid at 0x7f6b4833a150>"
      ]
     },
     "execution_count": 13,
     "metadata": {},
     "output_type": "execute_result"
    },
    {
     "data": {
      "image/png": "[encoded data removed]",
      "text/plain": [
       "<Figure size 500x500 with 1 Axes>"
      ]
     },
     "metadata": {},
     "output_type": "display_data"
    }
   ],
   "source": [
    "import seaborn as sns\n",
    "sns.displot(lsk, x = 'dlitelnost_secs')"
   ]
  },
  {
   "cell_type": "code",
   "execution_count": 14,
   "id": "6b9515c0",
   "metadata": {},
   "outputs": [],
   "source": [
    "lsk['eye_contact'] = lsk['eye_contact'].str.replace('%', '', regex=True)"
   ]
  },
  {
   "cell_type": "code",
   "execution_count": 15,
   "id": "7b9bf630",
   "metadata": {},
   "outputs": [],
   "source": [
    "lsk[\"eye_contact\"] = lsk[\"eye_contact\"].fillna(0)\n",
    "lsk[\"eye_contact\"] = lsk[\"eye_contact\"].astype(int)"
   ]
  },
  {
   "cell_type": "code",
   "execution_count": 12,
   "id": "1d27c1a3",
   "metadata": {},
   "outputs": [],
   "source": [
    "lsk = lsk[['fam', 'name', 'date',\n",
    "       'dlitelnost', 'eye_contact',\n",
    "       'time_losing_contact',\n",
    "       'number_losing', 'num_preslook',\n",
    "       'num_fillerwords',\n",
    "       'num_shitwords', 'distrib_attent',\n",
    "       'pass_attent' ]]"
   ]
  },
  {
   "cell_type": "code",
   "execution_count": 13,
   "id": "9ae24c9d",
   "metadata": {},
   "outputs": [
    {
     "data": {
      "text/html": [
       "<div>\n",
       "<style scoped>\n",
       "    .dataframe tbody tr th:only-of-type {\n",
       "        vertical-align: middle;\n",
       "    }\n",
       "\n",
       "    .dataframe tbody tr th {\n",
       "        vertical-align: top;\n",
       "    }\n",
       "\n",
       "    .dataframe thead th {\n",
       "        text-align: right;\n",
       "    }\n",
       "</style>\n",
       "<table border=\"1\" class=\"dataframe\">\n",
       "  <thead>\n",
       "    <tr style=\"text-align: right;\">\n",
       "      <th></th>\n",
       "      <th>fam</th>\n",
       "      <th>name</th>\n",
       "      <th>date</th>\n",
       "      <th>dlitelnost</th>\n",
       "      <th>eye_contact</th>\n",
       "      <th>time_losing_contact</th>\n",
       "      <th>number_losing</th>\n",
       "      <th>num_preslook</th>\n",
       "      <th>num_fillerwords</th>\n",
       "      <th>num_shitwords</th>\n",
       "      <th>pass_attent</th>\n",
       "    </tr>\n",
       "    <tr>\n",
       "      <th>distrib_attent</th>\n",
       "      <th></th>\n",
       "      <th></th>\n",
       "      <th></th>\n",
       "      <th></th>\n",
       "      <th></th>\n",
       "      <th></th>\n",
       "      <th></th>\n",
       "      <th></th>\n",
       "      <th></th>\n",
       "      <th></th>\n",
       "      <th></th>\n",
       "    </tr>\n",
       "  </thead>\n",
       "  <tbody>\n",
       "    <tr>\n",
       "      <th>Плохая</th>\n",
       "      <td>189</td>\n",
       "      <td>189</td>\n",
       "      <td>189</td>\n",
       "      <td>189</td>\n",
       "      <td>189</td>\n",
       "      <td>189</td>\n",
       "      <td>189</td>\n",
       "      <td>189</td>\n",
       "      <td>189</td>\n",
       "      <td>189</td>\n",
       "      <td>189</td>\n",
       "    </tr>\n",
       "    <tr>\n",
       "      <th>Средняя</th>\n",
       "      <td>12</td>\n",
       "      <td>12</td>\n",
       "      <td>12</td>\n",
       "      <td>12</td>\n",
       "      <td>12</td>\n",
       "      <td>12</td>\n",
       "      <td>12</td>\n",
       "      <td>12</td>\n",
       "      <td>12</td>\n",
       "      <td>12</td>\n",
       "      <td>12</td>\n",
       "    </tr>\n",
       "    <tr>\n",
       "      <th>Хорошая</th>\n",
       "      <td>2</td>\n",
       "      <td>2</td>\n",
       "      <td>2</td>\n",
       "      <td>2</td>\n",
       "      <td>2</td>\n",
       "      <td>2</td>\n",
       "      <td>2</td>\n",
       "      <td>2</td>\n",
       "      <td>2</td>\n",
       "      <td>2</td>\n",
       "      <td>2</td>\n",
       "    </tr>\n",
       "  </tbody>\n",
       "</table>\n",
       "</div>"
      ],
      "text/plain": [
       "                fam  name  date  dlitelnost  eye_contact  time_losing_contact  \\\n",
       "distrib_attent                                                                  \n",
       "Плохая          189   189   189         189          189                  189   \n",
       "Средняя          12    12    12          12           12                   12   \n",
       "Хорошая           2     2     2           2            2                    2   \n",
       "\n",
       "                number_losing  num_preslook  num_fillerwords  num_shitwords  \\\n",
       "distrib_attent                                                                \n",
       "Плохая                    189           189              189            189   \n",
       "Средняя                    12            12               12             12   \n",
       "Хорошая                     2             2                2              2   \n",
       "\n",
       "                pass_attent  \n",
       "distrib_attent               \n",
       "Плохая                  189  \n",
       "Средняя                  12  \n",
       "Хорошая                   2  "
      ]
     },
     "execution_count": 13,
     "metadata": {},
     "output_type": "execute_result"
    }
   ],
   "source": [
    "lsk.groupby(['distrib_attent']).count()"
   ]
  },
  {
   "cell_type": "code",
   "execution_count": 14,
   "id": "934e234b",
   "metadata": {},
   "outputs": [],
   "source": [
    "def categ(item):\n",
    "    if item=='Плохая':\n",
    "        temp = 1\n",
    "    elif item =='Средняя':\n",
    "        temp = 2\n",
    "    else:\n",
    "        temp = 3\n",
    "    return temp    "
   ]
  },
  {
   "cell_type": "code",
   "execution_count": 15,
   "id": "a928a8fd",
   "metadata": {},
   "outputs": [],
   "source": [
    "def categ2(item):\n",
    "    if item=='Избыточное':\n",
    "        temp = 0\n",
    "    else:    \n",
    "        temp = 1\n",
    "    return temp   "
   ]
  },
  {
   "cell_type": "code",
   "execution_count": 16,
   "id": "1c94c0af",
   "metadata": {},
   "outputs": [],
   "source": [
    "lsk['distrib_attent'] = lsk['distrib_attent'].apply(categ)"
   ]
  },
  {
   "cell_type": "code",
   "execution_count": 17,
   "id": "34373989",
   "metadata": {},
   "outputs": [],
   "source": [
    "lsk.groupby(['pass_attent']).count()\n",
    "lsk['pass_attent'] = lsk['pass_attent'].apply(categ2)"
   ]
  },
  {
   "cell_type": "code",
   "execution_count": 18,
   "id": "726beabd",
   "metadata": {},
   "outputs": [],
   "source": [
    "lsk = lsk.fillna(0)"
   ]
  },
  {
   "cell_type": "code",
   "execution_count": 19,
   "id": "643403d8",
   "metadata": {},
   "outputs": [
    {
     "ename": "TypeError",
     "evalue": "'values' is not ordered, please explicitly specify the categories order by passing in a categories argument.",
     "output_type": "error",
     "traceback": [
      "\u001b[0;31m---------------------------------------------------------------------------\u001b[0m",
      "\u001b[0;31mTypeError\u001b[0m                                 Traceback (most recent call last)",
      "File \u001b[0;32m~/micromamba/envs/sharapkova/lib/python3.12/site-packages/numpy/core/fromnumeric.py:59\u001b[0m, in \u001b[0;36m_wrapfunc\u001b[0;34m(obj, method, *args, **kwds)\u001b[0m\n\u001b[1;32m     58\u001b[0m \u001b[38;5;28;01mtry\u001b[39;00m:\n\u001b[0;32m---> 59\u001b[0m     \u001b[38;5;28;01mreturn\u001b[39;00m \u001b[43mbound\u001b[49m\u001b[43m(\u001b[49m\u001b[38;5;241;43m*\u001b[39;49m\u001b[43margs\u001b[49m\u001b[43m,\u001b[49m\u001b[43m \u001b[49m\u001b[38;5;241;43m*\u001b[39;49m\u001b[38;5;241;43m*\u001b[39;49m\u001b[43mkwds\u001b[49m\u001b[43m)\u001b[49m\n\u001b[1;32m     60\u001b[0m \u001b[38;5;28;01mexcept\u001b[39;00m \u001b[38;5;167;01mTypeError\u001b[39;00m:\n\u001b[1;32m     61\u001b[0m     \u001b[38;5;66;03m# A TypeError occurs if the object does have such a method in its\u001b[39;00m\n\u001b[1;32m     62\u001b[0m     \u001b[38;5;66;03m# class, but its signature is not identical to that of NumPy's. This\u001b[39;00m\n\u001b[0;32m   (...)\u001b[0m\n\u001b[1;32m     66\u001b[0m     \u001b[38;5;66;03m# Call _wrapit from within the except clause to ensure a potential\u001b[39;00m\n\u001b[1;32m     67\u001b[0m     \u001b[38;5;66;03m# exception has a traceback chain.\u001b[39;00m\n",
      "\u001b[0;31mTypeError\u001b[0m: '<' not supported between instances of 'Timestamp' and 'int'",
      "\nDuring handling of the above exception, another exception occurred:\n",
      "\u001b[0;31mTypeError\u001b[0m                                 Traceback (most recent call last)",
      "File \u001b[0;32m~/micromamba/envs/sharapkova/lib/python3.12/site-packages/pandas/core/arrays/categorical.py:460\u001b[0m, in \u001b[0;36mCategorical.__init__\u001b[0;34m(self, values, categories, ordered, dtype, fastpath, copy)\u001b[0m\n\u001b[1;32m    459\u001b[0m \u001b[38;5;28;01mtry\u001b[39;00m:\n\u001b[0;32m--> 460\u001b[0m     codes, categories \u001b[38;5;241m=\u001b[39m \u001b[43mfactorize\u001b[49m\u001b[43m(\u001b[49m\u001b[43mvalues\u001b[49m\u001b[43m,\u001b[49m\u001b[43m \u001b[49m\u001b[43msort\u001b[49m\u001b[38;5;241;43m=\u001b[39;49m\u001b[38;5;28;43;01mTrue\u001b[39;49;00m\u001b[43m)\u001b[49m\n\u001b[1;32m    461\u001b[0m \u001b[38;5;28;01mexcept\u001b[39;00m \u001b[38;5;167;01mTypeError\u001b[39;00m \u001b[38;5;28;01mas\u001b[39;00m err:\n",
      "File \u001b[0;32m~/micromamba/envs/sharapkova/lib/python3.12/site-packages/pandas/core/algorithms.py:802\u001b[0m, in \u001b[0;36mfactorize\u001b[0;34m(values, sort, use_na_sentinel, size_hint)\u001b[0m\n\u001b[1;32m    801\u001b[0m \u001b[38;5;28;01mif\u001b[39;00m sort \u001b[38;5;129;01mand\u001b[39;00m \u001b[38;5;28mlen\u001b[39m(uniques) \u001b[38;5;241m>\u001b[39m \u001b[38;5;241m0\u001b[39m:\n\u001b[0;32m--> 802\u001b[0m     uniques, codes \u001b[38;5;241m=\u001b[39m \u001b[43msafe_sort\u001b[49m\u001b[43m(\u001b[49m\n\u001b[1;32m    803\u001b[0m \u001b[43m        \u001b[49m\u001b[43muniques\u001b[49m\u001b[43m,\u001b[49m\n\u001b[1;32m    804\u001b[0m \u001b[43m        \u001b[49m\u001b[43mcodes\u001b[49m\u001b[43m,\u001b[49m\n\u001b[1;32m    805\u001b[0m \u001b[43m        \u001b[49m\u001b[43muse_na_sentinel\u001b[49m\u001b[38;5;241;43m=\u001b[39;49m\u001b[43muse_na_sentinel\u001b[49m\u001b[43m,\u001b[49m\n\u001b[1;32m    806\u001b[0m \u001b[43m        \u001b[49m\u001b[43massume_unique\u001b[49m\u001b[38;5;241;43m=\u001b[39;49m\u001b[38;5;28;43;01mTrue\u001b[39;49;00m\u001b[43m,\u001b[49m\n\u001b[1;32m    807\u001b[0m \u001b[43m        \u001b[49m\u001b[43mverify\u001b[49m\u001b[38;5;241;43m=\u001b[39;49m\u001b[38;5;28;43;01mFalse\u001b[39;49;00m\u001b[43m,\u001b[49m\n\u001b[1;32m    808\u001b[0m \u001b[43m    \u001b[49m\u001b[43m)\u001b[49m\n\u001b[1;32m    810\u001b[0m uniques \u001b[38;5;241m=\u001b[39m _reconstruct_data(uniques, original\u001b[38;5;241m.\u001b[39mdtype, original)\n",
      "File \u001b[0;32m~/micromamba/envs/sharapkova/lib/python3.12/site-packages/pandas/core/algorithms.py:1513\u001b[0m, in \u001b[0;36msafe_sort\u001b[0;34m(values, codes, use_na_sentinel, assume_unique, verify)\u001b[0m\n\u001b[1;32m   1509\u001b[0m \u001b[38;5;28;01mif\u001b[39;00m (\n\u001b[1;32m   1510\u001b[0m     \u001b[38;5;129;01mnot\u001b[39;00m \u001b[38;5;28misinstance\u001b[39m(values\u001b[38;5;241m.\u001b[39mdtype, ExtensionDtype)\n\u001b[1;32m   1511\u001b[0m     \u001b[38;5;129;01mand\u001b[39;00m lib\u001b[38;5;241m.\u001b[39minfer_dtype(values, skipna\u001b[38;5;241m=\u001b[39m\u001b[38;5;28;01mFalse\u001b[39;00m) \u001b[38;5;241m==\u001b[39m \u001b[38;5;124m\"\u001b[39m\u001b[38;5;124mmixed-integer\u001b[39m\u001b[38;5;124m\"\u001b[39m\n\u001b[1;32m   1512\u001b[0m ):\n\u001b[0;32m-> 1513\u001b[0m     ordered \u001b[38;5;241m=\u001b[39m \u001b[43m_sort_mixed\u001b[49m\u001b[43m(\u001b[49m\u001b[43mvalues\u001b[49m\u001b[43m)\u001b[49m\n\u001b[1;32m   1514\u001b[0m \u001b[38;5;28;01melse\u001b[39;00m:\n",
      "File \u001b[0;32m~/micromamba/envs/sharapkova/lib/python3.12/site-packages/pandas/core/algorithms.py:1588\u001b[0m, in \u001b[0;36m_sort_mixed\u001b[0;34m(values)\u001b[0m\n\u001b[1;32m   1587\u001b[0m str_argsort \u001b[38;5;241m=\u001b[39m np\u001b[38;5;241m.\u001b[39margsort(values[str_pos])\n\u001b[0;32m-> 1588\u001b[0m num_argsort \u001b[38;5;241m=\u001b[39m \u001b[43mnp\u001b[49m\u001b[38;5;241;43m.\u001b[39;49m\u001b[43margsort\u001b[49m\u001b[43m(\u001b[49m\u001b[43mvalues\u001b[49m\u001b[43m[\u001b[49m\u001b[43mnum_pos\u001b[49m\u001b[43m]\u001b[49m\u001b[43m)\u001b[49m\n\u001b[1;32m   1589\u001b[0m \u001b[38;5;66;03m# convert boolean arrays to positional indices, then order by underlying values\u001b[39;00m\n",
      "File \u001b[0;32m~/micromamba/envs/sharapkova/lib/python3.12/site-packages/numpy/core/fromnumeric.py:1133\u001b[0m, in \u001b[0;36margsort\u001b[0;34m(a, axis, kind, order)\u001b[0m\n\u001b[1;32m   1027\u001b[0m \u001b[38;5;250m\u001b[39m\u001b[38;5;124;03m\"\"\"\u001b[39;00m\n\u001b[1;32m   1028\u001b[0m \u001b[38;5;124;03mReturns the indices that would sort an array.\u001b[39;00m\n\u001b[1;32m   1029\u001b[0m \n\u001b[0;32m   (...)\u001b[0m\n\u001b[1;32m   1131\u001b[0m \n\u001b[1;32m   1132\u001b[0m \u001b[38;5;124;03m\"\"\"\u001b[39;00m\n\u001b[0;32m-> 1133\u001b[0m \u001b[38;5;28;01mreturn\u001b[39;00m \u001b[43m_wrapfunc\u001b[49m\u001b[43m(\u001b[49m\u001b[43ma\u001b[49m\u001b[43m,\u001b[49m\u001b[43m \u001b[49m\u001b[38;5;124;43m'\u001b[39;49m\u001b[38;5;124;43margsort\u001b[39;49m\u001b[38;5;124;43m'\u001b[39;49m\u001b[43m,\u001b[49m\u001b[43m \u001b[49m\u001b[43maxis\u001b[49m\u001b[38;5;241;43m=\u001b[39;49m\u001b[43maxis\u001b[49m\u001b[43m,\u001b[49m\u001b[43m \u001b[49m\u001b[43mkind\u001b[49m\u001b[38;5;241;43m=\u001b[39;49m\u001b[43mkind\u001b[49m\u001b[43m,\u001b[49m\u001b[43m \u001b[49m\u001b[43morder\u001b[49m\u001b[38;5;241;43m=\u001b[39;49m\u001b[43morder\u001b[49m\u001b[43m)\u001b[49m\n",
      "File \u001b[0;32m~/micromamba/envs/sharapkova/lib/python3.12/site-packages/numpy/core/fromnumeric.py:68\u001b[0m, in \u001b[0;36m_wrapfunc\u001b[0;34m(obj, method, *args, **kwds)\u001b[0m\n\u001b[1;32m     60\u001b[0m \u001b[38;5;28;01mexcept\u001b[39;00m \u001b[38;5;167;01mTypeError\u001b[39;00m:\n\u001b[1;32m     61\u001b[0m     \u001b[38;5;66;03m# A TypeError occurs if the object does have such a method in its\u001b[39;00m\n\u001b[1;32m     62\u001b[0m     \u001b[38;5;66;03m# class, but its signature is not identical to that of NumPy's. This\u001b[39;00m\n\u001b[0;32m   (...)\u001b[0m\n\u001b[1;32m     66\u001b[0m     \u001b[38;5;66;03m# Call _wrapit from within the except clause to ensure a potential\u001b[39;00m\n\u001b[1;32m     67\u001b[0m     \u001b[38;5;66;03m# exception has a traceback chain.\u001b[39;00m\n\u001b[0;32m---> 68\u001b[0m     \u001b[38;5;28;01mreturn\u001b[39;00m \u001b[43m_wrapit\u001b[49m\u001b[43m(\u001b[49m\u001b[43mobj\u001b[49m\u001b[43m,\u001b[49m\u001b[43m \u001b[49m\u001b[43mmethod\u001b[49m\u001b[43m,\u001b[49m\u001b[43m \u001b[49m\u001b[38;5;241;43m*\u001b[39;49m\u001b[43margs\u001b[49m\u001b[43m,\u001b[49m\u001b[43m \u001b[49m\u001b[38;5;241;43m*\u001b[39;49m\u001b[38;5;241;43m*\u001b[39;49m\u001b[43mkwds\u001b[49m\u001b[43m)\u001b[49m\n",
      "File \u001b[0;32m~/micromamba/envs/sharapkova/lib/python3.12/site-packages/numpy/core/fromnumeric.py:45\u001b[0m, in \u001b[0;36m_wrapit\u001b[0;34m(obj, method, *args, **kwds)\u001b[0m\n\u001b[1;32m     44\u001b[0m     wrap \u001b[38;5;241m=\u001b[39m \u001b[38;5;28;01mNone\u001b[39;00m\n\u001b[0;32m---> 45\u001b[0m result \u001b[38;5;241m=\u001b[39m \u001b[38;5;28;43mgetattr\u001b[39;49m\u001b[43m(\u001b[49m\u001b[43masarray\u001b[49m\u001b[43m(\u001b[49m\u001b[43mobj\u001b[49m\u001b[43m)\u001b[49m\u001b[43m,\u001b[49m\u001b[43m \u001b[49m\u001b[43mmethod\u001b[49m\u001b[43m)\u001b[49m\u001b[43m(\u001b[49m\u001b[38;5;241;43m*\u001b[39;49m\u001b[43margs\u001b[49m\u001b[43m,\u001b[49m\u001b[43m \u001b[49m\u001b[38;5;241;43m*\u001b[39;49m\u001b[38;5;241;43m*\u001b[39;49m\u001b[43mkwds\u001b[49m\u001b[43m)\u001b[49m\n\u001b[1;32m     46\u001b[0m \u001b[38;5;28;01mif\u001b[39;00m wrap:\n",
      "\u001b[0;31mTypeError\u001b[0m: '<' not supported between instances of 'Timestamp' and 'int'",
      "\nThe above exception was the direct cause of the following exception:\n",
      "\u001b[0;31mTypeError\u001b[0m                                 Traceback (most recent call last)",
      "Cell \u001b[0;32mIn[19], line 1\u001b[0m\n\u001b[0;32m----> 1\u001b[0m df2 \u001b[38;5;241m=\u001b[39m \u001b[43mlsk\u001b[49m\u001b[38;5;241;43m.\u001b[39;49m\u001b[43msort_values\u001b[49m\u001b[43m(\u001b[49m\u001b[43m[\u001b[49m\u001b[38;5;124;43m'\u001b[39;49m\u001b[38;5;124;43mfam\u001b[39;49m\u001b[38;5;124;43m'\u001b[39;49m\u001b[43m,\u001b[49m\u001b[43m \u001b[49m\u001b[38;5;124;43m'\u001b[39;49m\u001b[38;5;124;43mname\u001b[39;49m\u001b[38;5;124;43m'\u001b[39;49m\u001b[43m,\u001b[49m\u001b[43m \u001b[49m\u001b[38;5;124;43m'\u001b[39;49m\u001b[38;5;124;43mdate\u001b[39;49m\u001b[38;5;124;43m'\u001b[39;49m\u001b[43m]\u001b[49m\u001b[43m,\u001b[49m\n\u001b[1;32m      2\u001b[0m \u001b[43m              \u001b[49m\u001b[43mascending\u001b[49m\u001b[43m \u001b[49m\u001b[38;5;241;43m=\u001b[39;49m\u001b[43m \u001b[49m\u001b[43m[\u001b[49m\u001b[38;5;28;43;01mTrue\u001b[39;49;00m\u001b[43m,\u001b[49m\u001b[43m \u001b[49m\u001b[38;5;28;43;01mTrue\u001b[39;49;00m\u001b[43m,\u001b[49m\u001b[43m \u001b[49m\u001b[38;5;28;43;01mTrue\u001b[39;49;00m\u001b[43m]\u001b[49m\u001b[43m)\u001b[49m\n\u001b[1;32m      3\u001b[0m first \u001b[38;5;241m=\u001b[39m df2\u001b[38;5;241m.\u001b[39mdrop_duplicates(subset\u001b[38;5;241m=\u001b[39m[\u001b[38;5;124m'\u001b[39m\u001b[38;5;124mfam\u001b[39m\u001b[38;5;124m'\u001b[39m, \u001b[38;5;124m'\u001b[39m\u001b[38;5;124mname\u001b[39m\u001b[38;5;124m'\u001b[39m], keep \u001b[38;5;241m=\u001b[39m \u001b[38;5;124m'\u001b[39m\u001b[38;5;124mfirst\u001b[39m\u001b[38;5;124m'\u001b[39m)\n\u001b[1;32m      4\u001b[0m last \u001b[38;5;241m=\u001b[39m df2\u001b[38;5;241m.\u001b[39mdrop_duplicates(subset\u001b[38;5;241m=\u001b[39m[\u001b[38;5;124m'\u001b[39m\u001b[38;5;124mfam\u001b[39m\u001b[38;5;124m'\u001b[39m, \u001b[38;5;124m'\u001b[39m\u001b[38;5;124mname\u001b[39m\u001b[38;5;124m'\u001b[39m], keep \u001b[38;5;241m=\u001b[39m \u001b[38;5;124m'\u001b[39m\u001b[38;5;124mlast\u001b[39m\u001b[38;5;124m'\u001b[39m)\n",
      "File \u001b[0;32m~/micromamba/envs/sharapkova/lib/python3.12/site-packages/pandas/core/frame.py:7170\u001b[0m, in \u001b[0;36mDataFrame.sort_values\u001b[0;34m(self, by, axis, ascending, inplace, kind, na_position, ignore_index, key)\u001b[0m\n\u001b[1;32m   7162\u001b[0m     \u001b[38;5;28;01mif\u001b[39;00m key \u001b[38;5;129;01mis\u001b[39;00m \u001b[38;5;129;01mnot\u001b[39;00m \u001b[38;5;28;01mNone\u001b[39;00m:\n\u001b[1;32m   7163\u001b[0m         \u001b[38;5;66;03m# error: List comprehension has incompatible type List[Series];\u001b[39;00m\n\u001b[1;32m   7164\u001b[0m         \u001b[38;5;66;03m# expected List[ndarray]\u001b[39;00m\n\u001b[1;32m   7165\u001b[0m         keys \u001b[38;5;241m=\u001b[39m [\n\u001b[1;32m   7166\u001b[0m             Series(k, name\u001b[38;5;241m=\u001b[39mname)  \u001b[38;5;66;03m# type: ignore[misc]\u001b[39;00m\n\u001b[1;32m   7167\u001b[0m             \u001b[38;5;28;01mfor\u001b[39;00m (k, name) \u001b[38;5;129;01min\u001b[39;00m \u001b[38;5;28mzip\u001b[39m(keys, by)\n\u001b[1;32m   7168\u001b[0m         ]\n\u001b[0;32m-> 7170\u001b[0m     indexer \u001b[38;5;241m=\u001b[39m \u001b[43mlexsort_indexer\u001b[49m\u001b[43m(\u001b[49m\n\u001b[1;32m   7171\u001b[0m \u001b[43m        \u001b[49m\u001b[43mkeys\u001b[49m\u001b[43m,\u001b[49m\u001b[43m \u001b[49m\u001b[43morders\u001b[49m\u001b[38;5;241;43m=\u001b[39;49m\u001b[43mascending\u001b[49m\u001b[43m,\u001b[49m\u001b[43m \u001b[49m\u001b[43mna_position\u001b[49m\u001b[38;5;241;43m=\u001b[39;49m\u001b[43mna_position\u001b[49m\u001b[43m,\u001b[49m\u001b[43m \u001b[49m\u001b[43mkey\u001b[49m\u001b[38;5;241;43m=\u001b[39;49m\u001b[43mkey\u001b[49m\n\u001b[1;32m   7172\u001b[0m \u001b[43m    \u001b[49m\u001b[43m)\u001b[49m\n\u001b[1;32m   7173\u001b[0m \u001b[38;5;28;01melif\u001b[39;00m \u001b[38;5;28mlen\u001b[39m(by):\n\u001b[1;32m   7174\u001b[0m     \u001b[38;5;66;03m# len(by) == 1\u001b[39;00m\n\u001b[1;32m   7176\u001b[0m     k \u001b[38;5;241m=\u001b[39m \u001b[38;5;28mself\u001b[39m\u001b[38;5;241m.\u001b[39m_get_label_or_level_values(by[\u001b[38;5;241m0\u001b[39m], axis\u001b[38;5;241m=\u001b[39maxis)\n",
      "File \u001b[0;32m~/micromamba/envs/sharapkova/lib/python3.12/site-packages/pandas/core/sorting.py:351\u001b[0m, in \u001b[0;36mlexsort_indexer\u001b[0;34m(keys, orders, na_position, key, codes_given)\u001b[0m\n\u001b[1;32m    349\u001b[0m     n \u001b[38;5;241m=\u001b[39m codes\u001b[38;5;241m.\u001b[39mmax() \u001b[38;5;241m+\u001b[39m \u001b[38;5;241m1\u001b[39m \u001b[38;5;28;01mif\u001b[39;00m \u001b[38;5;28mlen\u001b[39m(codes) \u001b[38;5;28;01melse\u001b[39;00m \u001b[38;5;241m0\u001b[39m\n\u001b[1;32m    350\u001b[0m \u001b[38;5;28;01melse\u001b[39;00m:\n\u001b[0;32m--> 351\u001b[0m     cat \u001b[38;5;241m=\u001b[39m \u001b[43mCategorical\u001b[49m\u001b[43m(\u001b[49m\u001b[43mk\u001b[49m\u001b[43m,\u001b[49m\u001b[43m \u001b[49m\u001b[43mordered\u001b[49m\u001b[38;5;241;43m=\u001b[39;49m\u001b[38;5;28;43;01mTrue\u001b[39;49;00m\u001b[43m)\u001b[49m\n\u001b[1;32m    352\u001b[0m     codes \u001b[38;5;241m=\u001b[39m cat\u001b[38;5;241m.\u001b[39mcodes\n\u001b[1;32m    353\u001b[0m     n \u001b[38;5;241m=\u001b[39m \u001b[38;5;28mlen\u001b[39m(cat\u001b[38;5;241m.\u001b[39mcategories)\n",
      "File \u001b[0;32m~/micromamba/envs/sharapkova/lib/python3.12/site-packages/pandas/core/arrays/categorical.py:466\u001b[0m, in \u001b[0;36mCategorical.__init__\u001b[0;34m(self, values, categories, ordered, dtype, fastpath, copy)\u001b[0m\n\u001b[1;32m    462\u001b[0m     codes, categories \u001b[38;5;241m=\u001b[39m factorize(values, sort\u001b[38;5;241m=\u001b[39m\u001b[38;5;28;01mFalse\u001b[39;00m)\n\u001b[1;32m    463\u001b[0m     \u001b[38;5;28;01mif\u001b[39;00m dtype\u001b[38;5;241m.\u001b[39mordered:\n\u001b[1;32m    464\u001b[0m         \u001b[38;5;66;03m# raise, as we don't have a sortable data structure and so\u001b[39;00m\n\u001b[1;32m    465\u001b[0m         \u001b[38;5;66;03m# the user should give us one by specifying categories\u001b[39;00m\n\u001b[0;32m--> 466\u001b[0m         \u001b[38;5;28;01mraise\u001b[39;00m \u001b[38;5;167;01mTypeError\u001b[39;00m(\n\u001b[1;32m    467\u001b[0m             \u001b[38;5;124m\"\u001b[39m\u001b[38;5;124m'\u001b[39m\u001b[38;5;124mvalues\u001b[39m\u001b[38;5;124m'\u001b[39m\u001b[38;5;124m is not ordered, please \u001b[39m\u001b[38;5;124m\"\u001b[39m\n\u001b[1;32m    468\u001b[0m             \u001b[38;5;124m\"\u001b[39m\u001b[38;5;124mexplicitly specify the categories order \u001b[39m\u001b[38;5;124m\"\u001b[39m\n\u001b[1;32m    469\u001b[0m             \u001b[38;5;124m\"\u001b[39m\u001b[38;5;124mby passing in a categories argument.\u001b[39m\u001b[38;5;124m\"\u001b[39m\n\u001b[1;32m    470\u001b[0m         ) \u001b[38;5;28;01mfrom\u001b[39;00m \u001b[38;5;21;01merr\u001b[39;00m\n\u001b[1;32m    472\u001b[0m \u001b[38;5;66;03m# we're inferring from values\u001b[39;00m\n\u001b[1;32m    473\u001b[0m dtype \u001b[38;5;241m=\u001b[39m CategoricalDtype(categories, dtype\u001b[38;5;241m.\u001b[39mordered)\n",
      "\u001b[0;31mTypeError\u001b[0m: 'values' is not ordered, please explicitly specify the categories order by passing in a categories argument."
     ]
    }
   ],
   "source": [
    "df2 = lsk.sort_values(['fam', 'name', 'date'],\n",
    "              ascending = [True, True, True])\n",
    "first = df2.drop_duplicates(subset=['fam', 'name'], keep = 'first')\n",
    "last = df2.drop_duplicates(subset=['fam', 'name'], keep = 'last')"
   ]
  },
  {
   "cell_type": "code",
   "execution_count": null,
   "id": "d9fd571d",
   "metadata": {},
   "outputs": [],
   "source": [
    "df3 = pd.merge(first, last, on=['fam','name'], how = 'inner')\n"
   ]
  },
  {
   "cell_type": "code",
   "execution_count": null,
   "id": "b826c6ce",
   "metadata": {},
   "outputs": [],
   "source": [
    "dff1 = df3[['date_x', 'dlitelnost_x', 'eye_contact_x',\n",
    "       'time_losing_contact_x', 'number_losing_x', 'num_preslook_x',\n",
    "       'num_fillerwords_x', 'num_shitwords_x', 'distrib_attent_x', 'pass_attent_x']]\n",
    "dff2 = df3[['date_y', 'dlitelnost_y', 'eye_contact_y', 'time_losing_contact_y',\n",
    "       'number_losing_y', 'num_preslook_y', 'num_fillerwords_y', 'num_shitwords_y',\n",
    "       'distrib_attent_y', 'pass_attent_y']]\n",
    "dff1.columns = [ 'date',\n",
    "       'dlitelnost', 'eye_contact',\n",
    "       'time_losing_contact',\n",
    "       'number_losing', 'num_preslook',\n",
    "       'num_fillerwords',\n",
    "       'num_shitwords', 'distrib_attent',\n",
    "       'pass_attent' ]\n",
    "dff2.columns = [ 'date',\n",
    "       'dlitelnost', 'eye_contact',\n",
    "       'time_losing_contact',\n",
    "       'number_losing', 'num_preslook',\n",
    "       'num_fillerwords',\n",
    "       'num_shitwords', 'distrib_attent',\n",
    "       'pass_attent' ]"
   ]
  },
  {
   "cell_type": "code",
   "execution_count": null,
   "id": "94637e98",
   "metadata": {},
   "outputs": [
    {
     "data": {
      "text/html": [
       "<div>\n",
       "<style scoped>\n",
       "    .dataframe tbody tr th:only-of-type {\n",
       "        vertical-align: middle;\n",
       "    }\n",
       "\n",
       "    .dataframe tbody tr th {\n",
       "        vertical-align: top;\n",
       "    }\n",
       "\n",
       "    .dataframe thead th {\n",
       "        text-align: right;\n",
       "    }\n",
       "</style>\n",
       "<table border=\"1\" class=\"dataframe\">\n",
       "  <thead>\n",
       "    <tr style=\"text-align: right;\">\n",
       "      <th></th>\n",
       "      <th>date</th>\n",
       "      <th>dlitelnost</th>\n",
       "      <th>eye_contact</th>\n",
       "      <th>time_losing_contact</th>\n",
       "      <th>number_losing</th>\n",
       "      <th>num_preslook</th>\n",
       "      <th>num_fillerwords</th>\n",
       "      <th>num_shitwords</th>\n",
       "      <th>distrib_attent</th>\n",
       "      <th>pass_attent</th>\n",
       "    </tr>\n",
       "  </thead>\n",
       "  <tbody>\n",
       "    <tr>\n",
       "      <th>0</th>\n",
       "      <td>0</td>\n",
       "      <td>0</td>\n",
       "      <td>0</td>\n",
       "      <td>0.0</td>\n",
       "      <td>0.0</td>\n",
       "      <td>0.0</td>\n",
       "      <td>0.0</td>\n",
       "      <td>0.0</td>\n",
       "      <td>3</td>\n",
       "      <td>1</td>\n",
       "    </tr>\n",
       "    <tr>\n",
       "      <th>1</th>\n",
       "      <td>2024-03-13 17:25:00</td>\n",
       "      <td>2:55</td>\n",
       "      <td>85</td>\n",
       "      <td>6.0</td>\n",
       "      <td>1.0</td>\n",
       "      <td>0.0</td>\n",
       "      <td>0.0</td>\n",
       "      <td>0.0</td>\n",
       "      <td>1</td>\n",
       "      <td>0</td>\n",
       "    </tr>\n",
       "    <tr>\n",
       "      <th>2</th>\n",
       "      <td>2024-01-09 13:38:00</td>\n",
       "      <td>0:02</td>\n",
       "      <td>100</td>\n",
       "      <td>0.0</td>\n",
       "      <td>0.0</td>\n",
       "      <td>0.0</td>\n",
       "      <td>0.0</td>\n",
       "      <td>0.0</td>\n",
       "      <td>1</td>\n",
       "      <td>1</td>\n",
       "    </tr>\n",
       "    <tr>\n",
       "      <th>3</th>\n",
       "      <td>2024-01-18 14:44:00</td>\n",
       "      <td>4:23</td>\n",
       "      <td>83</td>\n",
       "      <td>10.0</td>\n",
       "      <td>1.0</td>\n",
       "      <td>0.0</td>\n",
       "      <td>46.0</td>\n",
       "      <td>0.0</td>\n",
       "      <td>1</td>\n",
       "      <td>0</td>\n",
       "    </tr>\n",
       "    <tr>\n",
       "      <th>4</th>\n",
       "      <td>2024-03-13 17:45:00</td>\n",
       "      <td>5:42</td>\n",
       "      <td>99</td>\n",
       "      <td>1.0</td>\n",
       "      <td>0.0</td>\n",
       "      <td>0.0</td>\n",
       "      <td>20.0</td>\n",
       "      <td>0.0</td>\n",
       "      <td>1</td>\n",
       "      <td>0</td>\n",
       "    </tr>\n",
       "  </tbody>\n",
       "</table>\n",
       "</div>"
      ],
      "text/plain": [
       "                  date dlitelnost  eye_contact  time_losing_contact  \\\n",
       "0                    0          0            0                  0.0   \n",
       "1  2024-03-13 17:25:00       2:55           85                  6.0   \n",
       "2  2024-01-09 13:38:00       0:02          100                  0.0   \n",
       "3  2024-01-18 14:44:00       4:23           83                 10.0   \n",
       "4  2024-03-13 17:45:00       5:42           99                  1.0   \n",
       "\n",
       "   number_losing  num_preslook  num_fillerwords  num_shitwords  \\\n",
       "0            0.0           0.0              0.0            0.0   \n",
       "1            1.0           0.0              0.0            0.0   \n",
       "2            0.0           0.0              0.0            0.0   \n",
       "3            1.0           0.0             46.0            0.0   \n",
       "4            0.0           0.0             20.0            0.0   \n",
       "\n",
       "   distrib_attent  pass_attent  \n",
       "0               3            1  \n",
       "1               1            0  \n",
       "2               1            1  \n",
       "3               1            0  \n",
       "4               1            0  "
      ]
     },
     "execution_count": 23,
     "metadata": {},
     "output_type": "execute_result"
    }
   ],
   "source": [
    "dff2.head()"
   ]
  },
  {
   "cell_type": "code",
   "execution_count": null,
   "id": "3eb32cde",
   "metadata": {},
   "outputs": [],
   "source": [
    "import numpy as np\n",
    "import pingouin as pg"
   ]
  },
  {
   "cell_type": "markdown",
   "id": "560a70b6",
   "metadata": {},
   "source": [
    "Начинаем анализ"
   ]
  },
  {
   "cell_type": "code",
   "execution_count": null,
   "id": "f2aec459",
   "metadata": {},
   "outputs": [],
   "source": [
    "import scipy.stats as stats"
   ]
  },
  {
   "cell_type": "code",
   "execution_count": null,
   "id": "36f4144d",
   "metadata": {},
   "outputs": [
    {
     "name": "stderr",
     "output_type": "stream",
     "text": [
      "/home/aryuna/micromamba/envs/sharapkova/lib/python3.12/site-packages/scipy/stats/_axis_nan_policy.py:600: UserWarning: Exact p-value calculation does not work if there are zeros. Switching to normal approximation.\n",
      "  return result_to_tuple(hypotest_fun_out(*samples, **kwds))\n"
     ]
    },
    {
     "data": {
      "text/plain": [
       "WilcoxonResult(statistic=array([212.5]), pvalue=array([0.48646349]))"
      ]
     },
     "execution_count": 26,
     "metadata": {},
     "output_type": "execute_result"
    }
   ],
   "source": [
    "res = stats.wilcoxon(dff1[['time_losing_contact']], dff2[['time_losing_contact']])\n",
    "res"
   ]
  },
  {
   "cell_type": "code",
   "execution_count": null,
   "id": "199d1ca8",
   "metadata": {},
   "outputs": [
    {
     "name": "stderr",
     "output_type": "stream",
     "text": [
      "/home/aryuna/micromamba/envs/sharapkova/lib/python3.12/site-packages/scipy/stats/_axis_nan_policy.py:600: UserWarning: Exact p-value calculation does not work if there are zeros. Switching to normal approximation.\n",
      "  return result_to_tuple(hypotest_fun_out(*samples, **kwds))\n"
     ]
    },
    {
     "data": {
      "text/plain": [
       "WilcoxonResult(statistic=array([110.]), pvalue=array([0.00683501]))"
      ]
     },
     "execution_count": 27,
     "metadata": {},
     "output_type": "execute_result"
    }
   ],
   "source": [
    "stats.wilcoxon(dff1[['eye_contact']], dff2[['eye_contact']])"
   ]
  },
  {
   "cell_type": "code",
   "execution_count": null,
   "id": "f1a3ee59",
   "metadata": {},
   "outputs": [],
   "source": [
    "import seaborn as sns\n",
    "import numpy as np  # для треугольной матрицы в хитмапе, чтобы красиво"
   ]
  },
  {
   "cell_type": "code",
   "execution_count": null,
   "id": "8b498259",
   "metadata": {},
   "outputs": [],
   "source": [
    "sns.set_theme(style=\"whitegrid\")"
   ]
  },
  {
   "cell_type": "code",
   "execution_count": null,
   "id": "6b9f0104",
   "metadata": {},
   "outputs": [
    {
     "data": {
      "text/html": [
       "<div>\n",
       "<style scoped>\n",
       "    .dataframe tbody tr th:only-of-type {\n",
       "        vertical-align: middle;\n",
       "    }\n",
       "\n",
       "    .dataframe tbody tr th {\n",
       "        vertical-align: top;\n",
       "    }\n",
       "\n",
       "    .dataframe thead th {\n",
       "        text-align: right;\n",
       "    }\n",
       "</style>\n",
       "<table border=\"1\" class=\"dataframe\">\n",
       "  <thead>\n",
       "    <tr style=\"text-align: right;\">\n",
       "      <th></th>\n",
       "      <th>date</th>\n",
       "      <th>dlitelnost</th>\n",
       "      <th>eye_contact</th>\n",
       "      <th>time_losing_contact</th>\n",
       "      <th>number_losing</th>\n",
       "      <th>num_preslook</th>\n",
       "      <th>num_fillerwords</th>\n",
       "      <th>num_shitwords</th>\n",
       "      <th>distrib_attent</th>\n",
       "      <th>pass_attent</th>\n",
       "    </tr>\n",
       "  </thead>\n",
       "  <tbody>\n",
       "    <tr>\n",
       "      <th>0</th>\n",
       "      <td>0</td>\n",
       "      <td>0</td>\n",
       "      <td>0</td>\n",
       "      <td>0.0</td>\n",
       "      <td>0.0</td>\n",
       "      <td>0.0</td>\n",
       "      <td>0.0</td>\n",
       "      <td>0.0</td>\n",
       "      <td>3</td>\n",
       "      <td>1</td>\n",
       "    </tr>\n",
       "    <tr>\n",
       "      <th>1</th>\n",
       "      <td>2024-03-13 17:25:00</td>\n",
       "      <td>2:55</td>\n",
       "      <td>85</td>\n",
       "      <td>6.0</td>\n",
       "      <td>1.0</td>\n",
       "      <td>0.0</td>\n",
       "      <td>0.0</td>\n",
       "      <td>0.0</td>\n",
       "      <td>1</td>\n",
       "      <td>0</td>\n",
       "    </tr>\n",
       "    <tr>\n",
       "      <th>2</th>\n",
       "      <td>2024-01-25 15:41:00</td>\n",
       "      <td>5:21</td>\n",
       "      <td>78</td>\n",
       "      <td>9.0</td>\n",
       "      <td>3.0</td>\n",
       "      <td>16.0</td>\n",
       "      <td>26.0</td>\n",
       "      <td>0.0</td>\n",
       "      <td>1</td>\n",
       "      <td>1</td>\n",
       "    </tr>\n",
       "    <tr>\n",
       "      <th>3</th>\n",
       "      <td>2024-01-25 16:00:00</td>\n",
       "      <td>4:24</td>\n",
       "      <td>96</td>\n",
       "      <td>3.0</td>\n",
       "      <td>0.0</td>\n",
       "      <td>0.0</td>\n",
       "      <td>36.0</td>\n",
       "      <td>0.0</td>\n",
       "      <td>1</td>\n",
       "      <td>1</td>\n",
       "    </tr>\n",
       "    <tr>\n",
       "      <th>4</th>\n",
       "      <td>2024-03-13 17:45:00</td>\n",
       "      <td>5:42</td>\n",
       "      <td>99</td>\n",
       "      <td>1.0</td>\n",
       "      <td>0.0</td>\n",
       "      <td>0.0</td>\n",
       "      <td>20.0</td>\n",
       "      <td>0.0</td>\n",
       "      <td>1</td>\n",
       "      <td>0</td>\n",
       "    </tr>\n",
       "  </tbody>\n",
       "</table>\n",
       "</div>"
      ],
      "text/plain": [
       "                  date dlitelnost  eye_contact  time_losing_contact  \\\n",
       "0                    0          0            0                  0.0   \n",
       "1  2024-03-13 17:25:00       2:55           85                  6.0   \n",
       "2  2024-01-25 15:41:00       5:21           78                  9.0   \n",
       "3  2024-01-25 16:00:00       4:24           96                  3.0   \n",
       "4  2024-03-13 17:45:00       5:42           99                  1.0   \n",
       "\n",
       "   number_losing  num_preslook  num_fillerwords  num_shitwords  \\\n",
       "0            0.0           0.0              0.0            0.0   \n",
       "1            1.0           0.0              0.0            0.0   \n",
       "2            3.0          16.0             26.0            0.0   \n",
       "3            0.0           0.0             36.0            0.0   \n",
       "4            0.0           0.0             20.0            0.0   \n",
       "\n",
       "   distrib_attent  pass_attent  \n",
       "0               3            1  \n",
       "1               1            0  \n",
       "2               1            1  \n",
       "3               1            1  \n",
       "4               1            0  "
      ]
     },
     "execution_count": 30,
     "metadata": {},
     "output_type": "execute_result"
    }
   ],
   "source": [
    "dff1.head()"
   ]
  },
  {
   "cell_type": "code",
   "execution_count": null,
   "id": "f0d231dc",
   "metadata": {},
   "outputs": [
    {
     "data": {
      "text/plain": [
       "Index(['date', 'dlitelnost', 'eye_contact', 'time_losing_contact',\n",
       "       'number_losing', 'num_preslook', 'num_fillerwords', 'num_shitwords',\n",
       "       'distrib_attent', 'pass_attent'],\n",
       "      dtype='object')"
      ]
     },
     "execution_count": 31,
     "metadata": {},
     "output_type": "execute_result"
    }
   ],
   "source": [
    "dff1.columns"
   ]
  },
  {
   "cell_type": "code",
   "execution_count": null,
   "id": "1803679e",
   "metadata": {},
   "outputs": [],
   "source": [
    "corr_matrix = dff1[['eye_contact', 'time_losing_contact',\n",
    "       'number_losing', 'num_preslook', 'num_fillerwords']].corr(method = 'spearman')\n",
    "corr_matrix2 = dff2[['eye_contact', 'time_losing_contact',\n",
    "       'number_losing', 'num_preslook', 'num_fillerwords']].corr(method = 'spearman')\n",
    "\n",
    "num1 = dff1[['eye_contact', 'time_losing_contact',\n",
    "       'number_losing', 'num_preslook', 'num_fillerwords']]\n",
    "num2 = dff2[['eye_contact', 'time_losing_contact',\n",
    "       'number_losing', 'num_preslook', 'num_fillerwords']]"
   ]
  },
  {
   "cell_type": "code",
   "execution_count": null,
   "id": "f09d0761",
   "metadata": {},
   "outputs": [
    {
     "data": {
      "text/plain": [
       "<Axes: >"
      ]
     },
     "execution_count": 33,
     "metadata": {},
     "output_type": "execute_result"
    },
    {
     "data": {
      "image/png": "[encoded data removed]",
      "text/plain": [
       "<Figure size 640x480 with 2 Axes>"
      ]
     },
     "metadata": {},
     "output_type": "display_data"
    }
   ],
   "source": [
    "#sns.heatmap(corr_matrix, annot=True)\n",
    "sns.heatmap(corr_matrix, annot=True)\n"
   ]
  },
  {
   "cell_type": "code",
   "execution_count": null,
   "id": "e9f180a6",
   "metadata": {},
   "outputs": [
    {
     "data": {
      "text/html": [
       "<div>\n",
       "<style scoped>\n",
       "    .dataframe tbody tr th:only-of-type {\n",
       "        vertical-align: middle;\n",
       "    }\n",
       "\n",
       "    .dataframe tbody tr th {\n",
       "        vertical-align: top;\n",
       "    }\n",
       "\n",
       "    .dataframe thead th {\n",
       "        text-align: right;\n",
       "    }\n",
       "</style>\n",
       "<table border=\"1\" class=\"dataframe\">\n",
       "  <thead>\n",
       "    <tr style=\"text-align: right;\">\n",
       "      <th></th>\n",
       "      <th>T</th>\n",
       "      <th>dof</th>\n",
       "      <th>alternative</th>\n",
       "      <th>p-val</th>\n",
       "      <th>CI95%</th>\n",
       "      <th>cohen-d</th>\n",
       "      <th>BF10</th>\n",
       "      <th>power</th>\n",
       "    </tr>\n",
       "  </thead>\n",
       "  <tbody>\n",
       "    <tr>\n",
       "      <th>T-test</th>\n",
       "      <td>1.662295</td>\n",
       "      <td>96</td>\n",
       "      <td>two-sided</td>\n",
       "      <td>0.099716</td>\n",
       "      <td>[-2.07, 23.37]</td>\n",
       "      <td>0.335834</td>\n",
       "      <td>0.719</td>\n",
       "      <td>0.376804</td>\n",
       "    </tr>\n",
       "  </tbody>\n",
       "</table>\n",
       "</div>"
      ],
      "text/plain": [
       "               T  dof alternative     p-val           CI95%   cohen-d   BF10  \\\n",
       "T-test  1.662295   96   two-sided  0.099716  [-2.07, 23.37]  0.335834  0.719   \n",
       "\n",
       "           power  \n",
       "T-test  0.376804  "
      ]
     },
     "execution_count": 34,
     "metadata": {},
     "output_type": "execute_result"
    }
   ],
   "source": [
    "x = dff1['eye_contact'].tolist()\n",
    "y = dff2['eye_contact'].tolist()\n",
    "pg.ttest(x,y)"
   ]
  },
  {
   "cell_type": "code",
   "execution_count": null,
   "id": "66ae251b",
   "metadata": {},
   "outputs": [
    {
     "data": {
      "text/html": [
       "<div>\n",
       "<style scoped>\n",
       "    .dataframe tbody tr th:only-of-type {\n",
       "        vertical-align: middle;\n",
       "    }\n",
       "\n",
       "    .dataframe tbody tr th {\n",
       "        vertical-align: top;\n",
       "    }\n",
       "\n",
       "    .dataframe thead th {\n",
       "        text-align: right;\n",
       "    }\n",
       "</style>\n",
       "<table border=\"1\" class=\"dataframe\">\n",
       "  <thead>\n",
       "    <tr style=\"text-align: right;\">\n",
       "      <th></th>\n",
       "      <th>X</th>\n",
       "      <th>Y</th>\n",
       "      <th>method</th>\n",
       "      <th>alternative</th>\n",
       "      <th>n</th>\n",
       "      <th>r</th>\n",
       "      <th>CI95%</th>\n",
       "      <th>p-unc</th>\n",
       "      <th>power</th>\n",
       "    </tr>\n",
       "  </thead>\n",
       "  <tbody>\n",
       "    <tr>\n",
       "      <th>0</th>\n",
       "      <td>eye_contact</td>\n",
       "      <td>time_losing_contact</td>\n",
       "      <td>spearman</td>\n",
       "      <td>two-sided</td>\n",
       "      <td>49</td>\n",
       "      <td>-0.588</td>\n",
       "      <td>[-0.75, -0.37]</td>\n",
       "      <td>0.000</td>\n",
       "      <td>0.996</td>\n",
       "    </tr>\n",
       "    <tr>\n",
       "      <th>1</th>\n",
       "      <td>eye_contact</td>\n",
       "      <td>number_losing</td>\n",
       "      <td>spearman</td>\n",
       "      <td>two-sided</td>\n",
       "      <td>49</td>\n",
       "      <td>-0.410</td>\n",
       "      <td>[-0.62, -0.15]</td>\n",
       "      <td>0.003</td>\n",
       "      <td>0.846</td>\n",
       "    </tr>\n",
       "    <tr>\n",
       "      <th>4</th>\n",
       "      <td>time_losing_contact</td>\n",
       "      <td>number_losing</td>\n",
       "      <td>spearman</td>\n",
       "      <td>two-sided</td>\n",
       "      <td>49</td>\n",
       "      <td>0.828</td>\n",
       "      <td>[0.71, 0.9]</td>\n",
       "      <td>0.000</td>\n",
       "      <td>1.000</td>\n",
       "    </tr>\n",
       "    <tr>\n",
       "      <th>5</th>\n",
       "      <td>time_losing_contact</td>\n",
       "      <td>num_preslook</td>\n",
       "      <td>spearman</td>\n",
       "      <td>two-sided</td>\n",
       "      <td>49</td>\n",
       "      <td>0.289</td>\n",
       "      <td>[0.01, 0.53]</td>\n",
       "      <td>0.044</td>\n",
       "      <td>0.529</td>\n",
       "    </tr>\n",
       "    <tr>\n",
       "      <th>6</th>\n",
       "      <td>time_losing_contact</td>\n",
       "      <td>num_fillerwords</td>\n",
       "      <td>spearman</td>\n",
       "      <td>two-sided</td>\n",
       "      <td>49</td>\n",
       "      <td>0.415</td>\n",
       "      <td>[0.15, 0.62]</td>\n",
       "      <td>0.003</td>\n",
       "      <td>0.856</td>\n",
       "    </tr>\n",
       "    <tr>\n",
       "      <th>7</th>\n",
       "      <td>number_losing</td>\n",
       "      <td>num_preslook</td>\n",
       "      <td>spearman</td>\n",
       "      <td>two-sided</td>\n",
       "      <td>49</td>\n",
       "      <td>0.301</td>\n",
       "      <td>[0.02, 0.54]</td>\n",
       "      <td>0.035</td>\n",
       "      <td>0.566</td>\n",
       "    </tr>\n",
       "    <tr>\n",
       "      <th>8</th>\n",
       "      <td>number_losing</td>\n",
       "      <td>num_fillerwords</td>\n",
       "      <td>spearman</td>\n",
       "      <td>two-sided</td>\n",
       "      <td>49</td>\n",
       "      <td>0.488</td>\n",
       "      <td>[0.24, 0.68]</td>\n",
       "      <td>0.000</td>\n",
       "      <td>0.955</td>\n",
       "    </tr>\n",
       "    <tr>\n",
       "      <th>9</th>\n",
       "      <td>num_preslook</td>\n",
       "      <td>num_fillerwords</td>\n",
       "      <td>spearman</td>\n",
       "      <td>two-sided</td>\n",
       "      <td>49</td>\n",
       "      <td>0.418</td>\n",
       "      <td>[0.15, 0.63]</td>\n",
       "      <td>0.003</td>\n",
       "      <td>0.861</td>\n",
       "    </tr>\n",
       "  </tbody>\n",
       "</table>\n",
       "</div>"
      ],
      "text/plain": [
       "                     X                    Y    method alternative   n      r  \\\n",
       "0          eye_contact  time_losing_contact  spearman   two-sided  49 -0.588   \n",
       "1          eye_contact        number_losing  spearman   two-sided  49 -0.410   \n",
       "4  time_losing_contact        number_losing  spearman   two-sided  49  0.828   \n",
       "5  time_losing_contact         num_preslook  spearman   two-sided  49  0.289   \n",
       "6  time_losing_contact      num_fillerwords  spearman   two-sided  49  0.415   \n",
       "7        number_losing         num_preslook  spearman   two-sided  49  0.301   \n",
       "8        number_losing      num_fillerwords  spearman   two-sided  49  0.488   \n",
       "9         num_preslook      num_fillerwords  spearman   two-sided  49  0.418   \n",
       "\n",
       "            CI95%  p-unc  power  \n",
       "0  [-0.75, -0.37]  0.000  0.996  \n",
       "1  [-0.62, -0.15]  0.003  0.846  \n",
       "4     [0.71, 0.9]  0.000  1.000  \n",
       "5    [0.01, 0.53]  0.044  0.529  \n",
       "6    [0.15, 0.62]  0.003  0.856  \n",
       "7    [0.02, 0.54]  0.035  0.566  \n",
       "8    [0.24, 0.68]  0.000  0.955  \n",
       "9    [0.15, 0.63]  0.003  0.861  "
      ]
     },
     "execution_count": 35,
     "metadata": {},
     "output_type": "execute_result"
    }
   ],
   "source": [
    "corrs2 = pg.pairwise_corr(num2, method='spearman').round(3)\n",
    "corrs2[corrs2['p-unc']<0.05]"
   ]
  },
  {
   "cell_type": "code",
   "execution_count": null,
   "id": "a074dc0e",
   "metadata": {},
   "outputs": [
    {
     "data": {
      "text/html": [
       "<div>\n",
       "<style scoped>\n",
       "    .dataframe tbody tr th:only-of-type {\n",
       "        vertical-align: middle;\n",
       "    }\n",
       "\n",
       "    .dataframe tbody tr th {\n",
       "        vertical-align: top;\n",
       "    }\n",
       "\n",
       "    .dataframe thead th {\n",
       "        text-align: right;\n",
       "    }\n",
       "</style>\n",
       "<table border=\"1\" class=\"dataframe\">\n",
       "  <thead>\n",
       "    <tr style=\"text-align: right;\">\n",
       "      <th></th>\n",
       "      <th>X</th>\n",
       "      <th>Y</th>\n",
       "      <th>method</th>\n",
       "      <th>alternative</th>\n",
       "      <th>n</th>\n",
       "      <th>r</th>\n",
       "      <th>CI95%</th>\n",
       "      <th>p-unc</th>\n",
       "      <th>power</th>\n",
       "    </tr>\n",
       "  </thead>\n",
       "  <tbody>\n",
       "    <tr>\n",
       "      <th>0</th>\n",
       "      <td>eye_contact</td>\n",
       "      <td>time_losing_contact</td>\n",
       "      <td>spearman</td>\n",
       "      <td>two-sided</td>\n",
       "      <td>49</td>\n",
       "      <td>-0.763</td>\n",
       "      <td>[-0.86, -0.61]</td>\n",
       "      <td>0.000</td>\n",
       "      <td>1.000</td>\n",
       "    </tr>\n",
       "    <tr>\n",
       "      <th>1</th>\n",
       "      <td>eye_contact</td>\n",
       "      <td>number_losing</td>\n",
       "      <td>spearman</td>\n",
       "      <td>two-sided</td>\n",
       "      <td>49</td>\n",
       "      <td>-0.670</td>\n",
       "      <td>[-0.8, -0.48]</td>\n",
       "      <td>0.000</td>\n",
       "      <td>1.000</td>\n",
       "    </tr>\n",
       "    <tr>\n",
       "      <th>2</th>\n",
       "      <td>eye_contact</td>\n",
       "      <td>num_preslook</td>\n",
       "      <td>spearman</td>\n",
       "      <td>two-sided</td>\n",
       "      <td>49</td>\n",
       "      <td>-0.347</td>\n",
       "      <td>[-0.57, -0.07]</td>\n",
       "      <td>0.014</td>\n",
       "      <td>0.698</td>\n",
       "    </tr>\n",
       "    <tr>\n",
       "      <th>4</th>\n",
       "      <td>time_losing_contact</td>\n",
       "      <td>number_losing</td>\n",
       "      <td>spearman</td>\n",
       "      <td>two-sided</td>\n",
       "      <td>49</td>\n",
       "      <td>0.854</td>\n",
       "      <td>[0.75, 0.92]</td>\n",
       "      <td>0.000</td>\n",
       "      <td>1.000</td>\n",
       "    </tr>\n",
       "    <tr>\n",
       "      <th>5</th>\n",
       "      <td>time_losing_contact</td>\n",
       "      <td>num_preslook</td>\n",
       "      <td>spearman</td>\n",
       "      <td>two-sided</td>\n",
       "      <td>49</td>\n",
       "      <td>0.413</td>\n",
       "      <td>[0.15, 0.62]</td>\n",
       "      <td>0.003</td>\n",
       "      <td>0.851</td>\n",
       "    </tr>\n",
       "    <tr>\n",
       "      <th>7</th>\n",
       "      <td>number_losing</td>\n",
       "      <td>num_preslook</td>\n",
       "      <td>spearman</td>\n",
       "      <td>two-sided</td>\n",
       "      <td>49</td>\n",
       "      <td>0.479</td>\n",
       "      <td>[0.23, 0.67]</td>\n",
       "      <td>0.000</td>\n",
       "      <td>0.946</td>\n",
       "    </tr>\n",
       "  </tbody>\n",
       "</table>\n",
       "</div>"
      ],
      "text/plain": [
       "                     X                    Y    method alternative   n      r  \\\n",
       "0          eye_contact  time_losing_contact  spearman   two-sided  49 -0.763   \n",
       "1          eye_contact        number_losing  spearman   two-sided  49 -0.670   \n",
       "2          eye_contact         num_preslook  spearman   two-sided  49 -0.347   \n",
       "4  time_losing_contact        number_losing  spearman   two-sided  49  0.854   \n",
       "5  time_losing_contact         num_preslook  spearman   two-sided  49  0.413   \n",
       "7        number_losing         num_preslook  spearman   two-sided  49  0.479   \n",
       "\n",
       "            CI95%  p-unc  power  \n",
       "0  [-0.86, -0.61]  0.000  1.000  \n",
       "1   [-0.8, -0.48]  0.000  1.000  \n",
       "2  [-0.57, -0.07]  0.014  0.698  \n",
       "4    [0.75, 0.92]  0.000  1.000  \n",
       "5    [0.15, 0.62]  0.003  0.851  \n",
       "7    [0.23, 0.67]  0.000  0.946  "
      ]
     },
     "execution_count": 36,
     "metadata": {},
     "output_type": "execute_result"
    }
   ],
   "source": [
    "corrs1 = pg.pairwise_corr(num1, method='spearman').round(3)\n",
    "corrs1[corrs1['p-unc']<0.05]"
   ]
  },
  {
   "cell_type": "code",
   "execution_count": null,
   "id": "b3593a34",
   "metadata": {},
   "outputs": [],
   "source": [
    "corrs1.to_csv('corrtable1.tsv', sep = '\\t', index = False)\n",
    "corrs2.to_csv('corrtable2.tsv', sep = '\\t', index = False)"
   ]
  },
  {
   "cell_type": "code",
   "execution_count": null,
   "id": "8abef4c6",
   "metadata": {},
   "outputs": [
    {
     "name": "stderr",
     "output_type": "stream",
     "text": [
      "/home/aryuna/micromamba/envs/sharapkova/lib/python3.12/site-packages/pingouin/correlation.py:1116: FutureWarning: DataFrame.applymap has been deprecated. Use DataFrame.map instead.\n",
      "  mat_upper = mat_upper.applymap(replace_pval)\n"
     ]
    },
    {
     "data": {
      "text/html": [
       "<div>\n",
       "<style scoped>\n",
       "    .dataframe tbody tr th:only-of-type {\n",
       "        vertical-align: middle;\n",
       "    }\n",
       "\n",
       "    .dataframe tbody tr th {\n",
       "        vertical-align: top;\n",
       "    }\n",
       "\n",
       "    .dataframe thead th {\n",
       "        text-align: right;\n",
       "    }\n",
       "</style>\n",
       "<table border=\"1\" class=\"dataframe\">\n",
       "  <thead>\n",
       "    <tr style=\"text-align: right;\">\n",
       "      <th></th>\n",
       "      <th>eye_contact</th>\n",
       "      <th>time_losing_contact</th>\n",
       "      <th>number_losing</th>\n",
       "      <th>num_preslook</th>\n",
       "      <th>num_fillerwords</th>\n",
       "    </tr>\n",
       "  </thead>\n",
       "  <tbody>\n",
       "    <tr>\n",
       "      <th>eye_contact</th>\n",
       "      <td>-</td>\n",
       "      <td>***</td>\n",
       "      <td>***</td>\n",
       "      <td>*</td>\n",
       "      <td></td>\n",
       "    </tr>\n",
       "    <tr>\n",
       "      <th>time_losing_contact</th>\n",
       "      <td>-0.763</td>\n",
       "      <td>-</td>\n",
       "      <td>***</td>\n",
       "      <td>**</td>\n",
       "      <td></td>\n",
       "    </tr>\n",
       "    <tr>\n",
       "      <th>number_losing</th>\n",
       "      <td>-0.67</td>\n",
       "      <td>0.854</td>\n",
       "      <td>-</td>\n",
       "      <td>***</td>\n",
       "      <td></td>\n",
       "    </tr>\n",
       "    <tr>\n",
       "      <th>num_preslook</th>\n",
       "      <td>-0.347</td>\n",
       "      <td>0.413</td>\n",
       "      <td>0.479</td>\n",
       "      <td>-</td>\n",
       "      <td></td>\n",
       "    </tr>\n",
       "    <tr>\n",
       "      <th>num_fillerwords</th>\n",
       "      <td>0.215</td>\n",
       "      <td>0.041</td>\n",
       "      <td>0.045</td>\n",
       "      <td>0.268</td>\n",
       "      <td>-</td>\n",
       "    </tr>\n",
       "  </tbody>\n",
       "</table>\n",
       "</div>"
      ],
      "text/plain": [
       "                    eye_contact time_losing_contact number_losing  \\\n",
       "eye_contact                   -                 ***           ***   \n",
       "time_losing_contact      -0.763                   -           ***   \n",
       "number_losing             -0.67               0.854             -   \n",
       "num_preslook             -0.347               0.413         0.479   \n",
       "num_fillerwords           0.215               0.041         0.045   \n",
       "\n",
       "                    num_preslook num_fillerwords  \n",
       "eye_contact                    *                  \n",
       "time_losing_contact           **                  \n",
       "number_losing                ***                  \n",
       "num_preslook                   -                  \n",
       "num_fillerwords            0.268               -  "
      ]
     },
     "execution_count": 38,
     "metadata": {},
     "output_type": "execute_result"
    }
   ],
   "source": [
    "rcorr1 = pg.rcorr(num1, method='spearman')\n",
    "rcorr1.to_csv('spearman_firstpres.tsv', sep = '\\t', index = False)\n",
    "rcorr1"
   ]
  },
  {
   "cell_type": "code",
   "execution_count": null,
   "id": "8502aa36",
   "metadata": {},
   "outputs": [
    {
     "name": "stderr",
     "output_type": "stream",
     "text": [
      "/home/aryuna/micromamba/envs/sharapkova/lib/python3.12/site-packages/pingouin/correlation.py:1116: FutureWarning: DataFrame.applymap has been deprecated. Use DataFrame.map instead.\n",
      "  mat_upper = mat_upper.applymap(replace_pval)\n"
     ]
    },
    {
     "data": {
      "text/html": [
       "<div>\n",
       "<style scoped>\n",
       "    .dataframe tbody tr th:only-of-type {\n",
       "        vertical-align: middle;\n",
       "    }\n",
       "\n",
       "    .dataframe tbody tr th {\n",
       "        vertical-align: top;\n",
       "    }\n",
       "\n",
       "    .dataframe thead th {\n",
       "        text-align: right;\n",
       "    }\n",
       "</style>\n",
       "<table border=\"1\" class=\"dataframe\">\n",
       "  <thead>\n",
       "    <tr style=\"text-align: right;\">\n",
       "      <th></th>\n",
       "      <th>eye_contact</th>\n",
       "      <th>time_losing_contact</th>\n",
       "      <th>number_losing</th>\n",
       "      <th>num_preslook</th>\n",
       "      <th>num_fillerwords</th>\n",
       "    </tr>\n",
       "  </thead>\n",
       "  <tbody>\n",
       "    <tr>\n",
       "      <th>eye_contact</th>\n",
       "      <td>-</td>\n",
       "      <td>***</td>\n",
       "      <td>**</td>\n",
       "      <td></td>\n",
       "      <td></td>\n",
       "    </tr>\n",
       "    <tr>\n",
       "      <th>time_losing_contact</th>\n",
       "      <td>-0.588</td>\n",
       "      <td>-</td>\n",
       "      <td>***</td>\n",
       "      <td>*</td>\n",
       "      <td>**</td>\n",
       "    </tr>\n",
       "    <tr>\n",
       "      <th>number_losing</th>\n",
       "      <td>-0.41</td>\n",
       "      <td>0.828</td>\n",
       "      <td>-</td>\n",
       "      <td>*</td>\n",
       "      <td>***</td>\n",
       "    </tr>\n",
       "    <tr>\n",
       "      <th>num_preslook</th>\n",
       "      <td>-0.129</td>\n",
       "      <td>0.289</td>\n",
       "      <td>0.301</td>\n",
       "      <td>-</td>\n",
       "      <td>**</td>\n",
       "    </tr>\n",
       "    <tr>\n",
       "      <th>num_fillerwords</th>\n",
       "      <td>0.091</td>\n",
       "      <td>0.415</td>\n",
       "      <td>0.488</td>\n",
       "      <td>0.418</td>\n",
       "      <td>-</td>\n",
       "    </tr>\n",
       "  </tbody>\n",
       "</table>\n",
       "</div>"
      ],
      "text/plain": [
       "                    eye_contact time_losing_contact number_losing  \\\n",
       "eye_contact                   -                 ***            **   \n",
       "time_losing_contact      -0.588                   -           ***   \n",
       "number_losing             -0.41               0.828             -   \n",
       "num_preslook             -0.129               0.289         0.301   \n",
       "num_fillerwords           0.091               0.415         0.488   \n",
       "\n",
       "                    num_preslook num_fillerwords  \n",
       "eye_contact                                       \n",
       "time_losing_contact            *              **  \n",
       "number_losing                  *             ***  \n",
       "num_preslook                   -              **  \n",
       "num_fillerwords            0.418               -  "
      ]
     },
     "execution_count": 39,
     "metadata": {},
     "output_type": "execute_result"
    }
   ],
   "source": [
    "rcorr2 = pg.rcorr(num2, method='spearman')\n",
    "rcorr2.to_csv('spearman_secondpres.tsv', sep = '\\t', index = False)\n",
    "rcorr2"
   ]
  },
  {
   "cell_type": "code",
   "execution_count": null,
   "id": "6fb89a3e",
   "metadata": {},
   "outputs": [
    {
     "name": "stderr",
     "output_type": "stream",
     "text": [
      "/home/aryuna/micromamba/envs/sharapkova/lib/python3.12/site-packages/scipy/stats/_axis_nan_policy.py:531: UserWarning: Exact p-value calculation does not work if there are zeros. Switching to normal approximation.\n",
      "  res = hypotest_fun_out(*samples, **kwds)\n"
     ]
    },
    {
     "data": {
      "text/html": [
       "<div>\n",
       "<style scoped>\n",
       "    .dataframe tbody tr th:only-of-type {\n",
       "        vertical-align: middle;\n",
       "    }\n",
       "\n",
       "    .dataframe tbody tr th {\n",
       "        vertical-align: top;\n",
       "    }\n",
       "\n",
       "    .dataframe thead th {\n",
       "        text-align: right;\n",
       "    }\n",
       "</style>\n",
       "<table border=\"1\" class=\"dataframe\">\n",
       "  <thead>\n",
       "    <tr style=\"text-align: right;\">\n",
       "      <th></th>\n",
       "      <th>W-val</th>\n",
       "      <th>alternative</th>\n",
       "      <th>p-val</th>\n",
       "      <th>RBC</th>\n",
       "      <th>CLES</th>\n",
       "    </tr>\n",
       "  </thead>\n",
       "  <tbody>\n",
       "    <tr>\n",
       "      <th>Wilcoxon</th>\n",
       "      <td>110.0</td>\n",
       "      <td>two-sided</td>\n",
       "      <td>0.007039</td>\n",
       "      <td>0.556452</td>\n",
       "      <td>0.601833</td>\n",
       "    </tr>\n",
       "  </tbody>\n",
       "</table>\n",
       "</div>"
      ],
      "text/plain": [
       "          W-val alternative     p-val       RBC      CLES\n",
       "Wilcoxon  110.0   two-sided  0.007039  0.556452  0.601833"
      ]
     },
     "execution_count": 40,
     "metadata": {},
     "output_type": "execute_result"
    }
   ],
   "source": [
    "x = dff1['eye_contact'].tolist()\n",
    "y = dff2['eye_contact'].tolist()\n",
    "pg.wilcoxon(x, y, alternative='two-sided')"
   ]
  },
  {
   "cell_type": "code",
   "execution_count": null,
   "id": "d41263f3",
   "metadata": {},
   "outputs": [
    {
     "name": "stderr",
     "output_type": "stream",
     "text": [
      "/home/aryuna/micromamba/envs/sharapkova/lib/python3.12/site-packages/scipy/stats/_axis_nan_policy.py:531: UserWarning: Exact p-value calculation does not work if there are zeros. Switching to normal approximation.\n",
      "  res = hypotest_fun_out(*samples, **kwds)\n"
     ]
    },
    {
     "data": {
      "text/html": [
       "<div>\n",
       "<style scoped>\n",
       "    .dataframe tbody tr th:only-of-type {\n",
       "        vertical-align: middle;\n",
       "    }\n",
       "\n",
       "    .dataframe tbody tr th {\n",
       "        vertical-align: top;\n",
       "    }\n",
       "\n",
       "    .dataframe thead th {\n",
       "        text-align: right;\n",
       "    }\n",
       "</style>\n",
       "<table border=\"1\" class=\"dataframe\">\n",
       "  <thead>\n",
       "    <tr style=\"text-align: right;\">\n",
       "      <th></th>\n",
       "      <th>W-val</th>\n",
       "      <th>alternative</th>\n",
       "      <th>p-val</th>\n",
       "      <th>RBC</th>\n",
       "      <th>CLES</th>\n",
       "    </tr>\n",
       "  </thead>\n",
       "  <tbody>\n",
       "    <tr>\n",
       "      <th>Wilcoxon</th>\n",
       "      <td>212.5</td>\n",
       "      <td>two-sided</td>\n",
       "      <td>0.492623</td>\n",
       "      <td>-0.143145</td>\n",
       "      <td>0.475427</td>\n",
       "    </tr>\n",
       "  </tbody>\n",
       "</table>\n",
       "</div>"
      ],
      "text/plain": [
       "          W-val alternative     p-val       RBC      CLES\n",
       "Wilcoxon  212.5   two-sided  0.492623 -0.143145  0.475427"
      ]
     },
     "execution_count": 41,
     "metadata": {},
     "output_type": "execute_result"
    }
   ],
   "source": [
    "x = dff1['time_losing_contact'].tolist()\n",
    "y = dff2['time_losing_contact'].tolist()\n",
    "pg.wilcoxon(x, y, alternative='two-sided')"
   ]
  },
  {
   "cell_type": "code",
   "execution_count": null,
   "id": "6ce01ba6",
   "metadata": {},
   "outputs": [
    {
     "name": "stdout",
     "output_type": "stream",
     "text": [
      "eye_contact W-val = 110.0, pvalue = 0.006835011578707551\n",
      "time_losing_contact W-val = 212.5, pvalue = 0.4864634871997353\n",
      "number_losing W-val = 111.0, pvalue = 0.8749209529989446\n",
      "num_preslook W-val = 46.0, pvalue = 0.08368449114808298\n",
      "num_fillerwords W-val = 129.0, pvalue = 0.0115238038788044\n"
     ]
    },
    {
     "name": "stderr",
     "output_type": "stream",
     "text": [
      "/home/aryuna/micromamba/envs/sharapkova/lib/python3.12/site-packages/scipy/stats/_axis_nan_policy.py:600: UserWarning: Exact p-value calculation does not work if there are zeros. Switching to normal approximation.\n",
      "  return result_to_tuple(hypotest_fun_out(*samples, **kwds))\n",
      "/home/aryuna/micromamba/envs/sharapkova/lib/python3.12/site-packages/scipy/stats/_axis_nan_policy.py:600: UserWarning: Exact p-value calculation does not work if there are zeros. Switching to normal approximation.\n",
      "  return result_to_tuple(hypotest_fun_out(*samples, **kwds))\n",
      "/home/aryuna/micromamba/envs/sharapkova/lib/python3.12/site-packages/scipy/stats/_axis_nan_policy.py:600: UserWarning: Exact p-value calculation does not work if there are zeros. Switching to normal approximation.\n",
      "  return result_to_tuple(hypotest_fun_out(*samples, **kwds))\n",
      "/home/aryuna/micromamba/envs/sharapkova/lib/python3.12/site-packages/scipy/stats/_axis_nan_policy.py:600: UserWarning: Exact p-value calculation does not work if there are zeros. Switching to normal approximation.\n",
      "  return result_to_tuple(hypotest_fun_out(*samples, **kwds))\n",
      "/home/aryuna/micromamba/envs/sharapkova/lib/python3.12/site-packages/scipy/stats/_axis_nan_policy.py:600: UserWarning: Exact p-value calculation does not work if there are zeros. Switching to normal approximation.\n",
      "  return result_to_tuple(hypotest_fun_out(*samples, **kwds))\n"
     ]
    }
   ],
   "source": [
    "wilcox = pd.DataFrame()\n",
    "for i in num1:\n",
    "    #print(i)\n",
    "    temp = stats.wilcoxon(num1[[i]], num2[[i]])\n",
    "    tdict = {'feature':[str(i)], 'W-val': [str(*temp.statistic)], 'pvalue':[str(*temp.pvalue)]}\n",
    "    tdf = pd.DataFrame(tdict)\n",
    "    wilcox = pd.concat([wilcox, tdf]) \n",
    "    #temp2 = pg.wilcoxon(num1.i, num2.i, alternative='two-sided')\n",
    "    print(str(i)+ ' W-val = '+ str(*temp.statistic) +','+ \" pvalue =\", str(*temp.pvalue))"
   ]
  },
  {
   "cell_type": "code",
   "execution_count": null,
   "id": "19ce8fd4",
   "metadata": {},
   "outputs": [],
   "source": [
    "wilcox.to_csv('wilcox.tsv', index = False, sep = '\\t')"
   ]
  },
  {
   "cell_type": "code",
   "execution_count": null,
   "id": "c8f78785",
   "metadata": {},
   "outputs": [
    {
     "data": {
      "text/html": [
       "<div>\n",
       "<style scoped>\n",
       "    .dataframe tbody tr th:only-of-type {\n",
       "        vertical-align: middle;\n",
       "    }\n",
       "\n",
       "    .dataframe tbody tr th {\n",
       "        vertical-align: top;\n",
       "    }\n",
       "\n",
       "    .dataframe thead th {\n",
       "        text-align: right;\n",
       "    }\n",
       "</style>\n",
       "<table border=\"1\" class=\"dataframe\">\n",
       "  <thead>\n",
       "    <tr style=\"text-align: right;\">\n",
       "      <th></th>\n",
       "      <th>feature</th>\n",
       "      <th>W-val</th>\n",
       "      <th>pvalue</th>\n",
       "    </tr>\n",
       "  </thead>\n",
       "  <tbody>\n",
       "    <tr>\n",
       "      <th>0</th>\n",
       "      <td>eye_contact</td>\n",
       "      <td>110.0</td>\n",
       "      <td>0.006835011578707551</td>\n",
       "    </tr>\n",
       "    <tr>\n",
       "      <th>0</th>\n",
       "      <td>time_losing_contact</td>\n",
       "      <td>212.5</td>\n",
       "      <td>0.4864634871997353</td>\n",
       "    </tr>\n",
       "    <tr>\n",
       "      <th>0</th>\n",
       "      <td>number_losing</td>\n",
       "      <td>111.0</td>\n",
       "      <td>0.8749209529989446</td>\n",
       "    </tr>\n",
       "    <tr>\n",
       "      <th>0</th>\n",
       "      <td>num_preslook</td>\n",
       "      <td>46.0</td>\n",
       "      <td>0.08368449114808298</td>\n",
       "    </tr>\n",
       "    <tr>\n",
       "      <th>0</th>\n",
       "      <td>num_fillerwords</td>\n",
       "      <td>129.0</td>\n",
       "      <td>0.0115238038788044</td>\n",
       "    </tr>\n",
       "  </tbody>\n",
       "</table>\n",
       "</div>"
      ],
      "text/plain": [
       "               feature  W-val                pvalue\n",
       "0          eye_contact  110.0  0.006835011578707551\n",
       "0  time_losing_contact  212.5    0.4864634871997353\n",
       "0        number_losing  111.0    0.8749209529989446\n",
       "0         num_preslook   46.0   0.08368449114808298\n",
       "0      num_fillerwords  129.0    0.0115238038788044"
      ]
     },
     "execution_count": 44,
     "metadata": {},
     "output_type": "execute_result"
    }
   ],
   "source": [
    "wilcox"
   ]
  },
  {
   "cell_type": "code",
   "execution_count": null,
   "id": "09c5973b",
   "metadata": {},
   "outputs": [],
   "source": [
    "import matplotlib.pyplot as plt"
   ]
  },
  {
   "cell_type": "code",
   "execution_count": null,
   "id": "75d189e5",
   "metadata": {},
   "outputs": [
    {
     "data": {
      "image/png": "[encoded data removed]",
      "text/plain": [
       "<Figure size 600x840 with 1 Axes>"
      ]
     },
     "metadata": {},
     "output_type": "display_data"
    }
   ],
   "source": [
    "plt.figure(figsize=(5,7), dpi = 120)\n",
    "plt.minorticks_off()\n",
    "x = num1['eye_contact']\n",
    "y = num2['eye_contact']\n",
    "df = pd.concat([x, y], axis=1)\n",
    "df.columns = ['eye_contact_before', 'eye_contact_after']\n",
    "sns.boxplot(df)\n",
    "# labels text\n",
    "plt.title('Eye contact between two sessions', fontsize=12, fontweight=0, color='black')\n",
    "#ax.set_xlabel('Sessions')\n",
    "#ax.set_ylabel('Eye contact')\n",
    "plt.show()"
   ]
  },
  {
   "cell_type": "code",
   "execution_count": null,
   "id": "127912f3",
   "metadata": {},
   "outputs": [
    {
     "data": {
      "image/png": "[encoded data removed]",
      "text/plain": [
       "<Figure size 600x840 with 1 Axes>"
      ]
     },
     "metadata": {},
     "output_type": "display_data"
    }
   ],
   "source": [
    "plt.figure(figsize=(5,7), dpi = 120)\n",
    "plt.minorticks_off()\n",
    "x = num1[num1['time_losing_contact']<20].time_losing_contact\n",
    "y = num2[num2['time_losing_contact']<20].time_losing_contact\n",
    "df = pd.concat([x, y], axis=1)\n",
    "df.columns = ['time losing contact first', 'time losing contact second']\n",
    "sns.boxplot(df)\n",
    "# labels text\n",
    "plt.title('Time losing contact in two sessions', fontsize=12, fontweight=0, color='black')\n",
    "#ax.set_xlabel('Sessions')\n",
    "#ax.set_ylabel('Eye contact')\n",
    "plt.show()"
   ]
  },
  {
   "cell_type": "code",
   "execution_count": null,
   "id": "c4323a6c",
   "metadata": {},
   "outputs": [
    {
     "data": {
      "image/png": "[encoded data removed]",
      "text/plain": [
       "<Figure size 600x840 with 1 Axes>"
      ]
     },
     "metadata": {},
     "output_type": "display_data"
    }
   ],
   "source": [
    "plt.figure(figsize=(5,7), dpi = 120)\n",
    "plt.minorticks_off()\n",
    "x = num1['number_losing']\n",
    "y = num2['number_losing']\n",
    "df = pd.concat([x, y], axis=1)\n",
    "df.columns = ['numlosing_contact_before', 'num_losing_contact_after']\n",
    "sns.boxplot(df)\n",
    "# labels text\n",
    "plt.title('Number of losing contact between two sessions', fontsize=12, fontweight=0, color='black')\n",
    "#ax.set_xlabel('Sessions')\n",
    "#ax.set_ylabel('Eye contact')\n",
    "plt.show()"
   ]
  },
  {
   "cell_type": "code",
   "execution_count": null,
   "id": "de17b36a",
   "metadata": {},
   "outputs": [],
   "source": []
  }
 ],
 "metadata": {
  "kernelspec": {
   "display_name": "Python 3 (ipykernel)",
   "language": "python",
   "name": "python3"
  },
  "language_info": {
   "codemirror_mode": {
    "name": "ipython",
    "version": 3
   },
   "file_extension": ".py",
   "mimetype": "text/x-python",
   "name": "python",
   "nbconvert_exporter": "python",
   "pygments_lexer": "ipython3",
   "version": "3.12.2"
  }
 },
 "nbformat": 4,
 "nbformat_minor": 5
}
