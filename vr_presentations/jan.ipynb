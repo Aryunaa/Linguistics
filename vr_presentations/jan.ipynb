{
 "cells": [
  {
   "cell_type": "code",
   "execution_count": 1,
   "id": "ef584486-6846-4708-be46-6178e3789656",
   "metadata": {
    "scrolled": true
   },
   "outputs": [],
   "source": [
    "#!pip install pandas\n",
    "#!pip install xlrd"
   ]
  },
  {
   "cell_type": "code",
   "execution_count": 2,
   "id": "6c284a1b-08c4-4493-a970-2d6bd5d9a644",
   "metadata": {},
   "outputs": [],
   "source": [
    "import pandas as pd"
   ]
  },
  {
   "cell_type": "code",
   "execution_count": 3,
   "id": "676635a6",
   "metadata": {},
   "outputs": [],
   "source": [
    "lsk = pd.read_excel('vr_report2.xls')"
   ]
  },
  {
   "cell_type": "code",
   "execution_count": 4,
   "id": "b443c8cc",
   "metadata": {},
   "outputs": [],
   "source": [
    "#lsk2 = pd.read_excel('vr_report2.xls')"
   ]
  },
  {
   "cell_type": "markdown",
   "id": "445195b5",
   "metadata": {},
   "source": [
    "В  общем суть такая. мы студентам давали делать презентации в VR  очках. кто-то делал 1 раз, кто-то 2 или 3. вопрос 1) есть ли корреляции чего-то с чем-то ( там количества слов-паразитов и качества контакта с аудиторией)  2) есть ли улучшение по тем, кто презентовал 2 и 3 раз по выделенным параметрам..."
   ]
  },
  {
   "cell_type": "code",
   "execution_count": 5,
   "id": "d8c2f5c1",
   "metadata": {},
   "outputs": [
    {
     "data": {
      "text/html": [
       "<div>\n",
       "<style scoped>\n",
       "    .dataframe tbody tr th:only-of-type {\n",
       "        vertical-align: middle;\n",
       "    }\n",
       "\n",
       "    .dataframe tbody tr th {\n",
       "        vertical-align: top;\n",
       "    }\n",
       "\n",
       "    .dataframe thead th {\n",
       "        text-align: right;\n",
       "    }\n",
       "</style>\n",
       "<table border=\"1\" class=\"dataframe\">\n",
       "  <thead>\n",
       "    <tr style=\"text-align: right;\">\n",
       "      <th></th>\n",
       "      <th>Фамилия</th>\n",
       "      <th>Имя</th>\n",
       "      <th>Отчество</th>\n",
       "      <th>Номер сессии</th>\n",
       "      <th>Дата</th>\n",
       "      <th>Длительность (минуты)</th>\n",
       "      <th>Зрительный контакт</th>\n",
       "      <th>Потеря зрительного контакта (сек)</th>\n",
       "      <th>Отсутствие зрительного контакта (раз)</th>\n",
       "      <th>Взгляд на презентацию (раз)</th>\n",
       "      <th>Слова паразиты, общее количество</th>\n",
       "      <th>Слова паразиты, конкретные слова-паразиты и их количество</th>\n",
       "      <th>Грубые слова, общее количество</th>\n",
       "      <th>Распределение внимания</th>\n",
       "      <th>Внимание к посторонним объектам</th>\n",
       "      <th>Ссылка на аудиозапись выступления</th>\n",
       "    </tr>\n",
       "  </thead>\n",
       "  <tbody>\n",
       "    <tr>\n",
       "      <th>192</th>\n",
       "      <td>Trofimov</td>\n",
       "      <td>Michil</td>\n",
       "      <td>A</td>\n",
       "      <td>90.0</td>\n",
       "      <td>22.11.23 16:54</td>\n",
       "      <td>3:16</td>\n",
       "      <td>82%</td>\n",
       "      <td>6.0</td>\n",
       "      <td>1.0</td>\n",
       "      <td>3.0</td>\n",
       "      <td>17.0</td>\n",
       "      <td>Like(8) Uh(2) So(4) Um(1) Kind of(2)</td>\n",
       "      <td>0.0</td>\n",
       "      <td>Средняя</td>\n",
       "      <td>Избыточное</td>\n",
       "      <td>https://pubspeak-skoltech.modumlab.com/audio/9...</td>\n",
       "    </tr>\n",
       "  </tbody>\n",
       "</table>\n",
       "</div>"
      ],
      "text/plain": [
       "      Фамилия     Имя Отчество  Номер сессии            Дата  \\\n",
       "192  Trofimov  Michil        A          90.0  22.11.23 16:54   \n",
       "\n",
       "    Длительность (минуты) Зрительный контакт  \\\n",
       "192                  3:16                82%   \n",
       "\n",
       "     Потеря зрительного контакта (сек)  Отсутствие зрительного контакта (раз)  \\\n",
       "192                                6.0                                    1.0   \n",
       "\n",
       "     Взгляд на презентацию (раз)  Слова паразиты, общее количество  \\\n",
       "192                          3.0                              17.0   \n",
       "\n",
       "    Слова паразиты, конкретные слова-паразиты и их количество  \\\n",
       "192               Like(8) Uh(2) So(4) Um(1) Kind of(2)          \n",
       "\n",
       "     Грубые слова, общее количество Распределение внимания  \\\n",
       "192                             0.0                Средняя   \n",
       "\n",
       "    Внимание к посторонним объектам  \\\n",
       "192                      Избыточное   \n",
       "\n",
       "                     Ссылка на аудиозапись выступления  \n",
       "192  https://pubspeak-skoltech.modumlab.com/audio/9...  "
      ]
     },
     "execution_count": 5,
     "metadata": {},
     "output_type": "execute_result"
    }
   ],
   "source": [
    "lsk[lsk['Фамилия']=='Trofimov']"
   ]
  },
  {
   "cell_type": "code",
   "execution_count": 6,
   "id": "efc7a9c2",
   "metadata": {},
   "outputs": [
    {
     "data": {
      "text/plain": [
       "Index(['Фамилия', 'Имя', 'Отчество', 'Номер сессии', 'Дата',\n",
       "       'Длительность (минуты)', 'Зрительный контакт',\n",
       "       'Потеря зрительного контакта (сек)',\n",
       "       'Отсутствие зрительного контакта (раз)', 'Взгляд на презентацию (раз)',\n",
       "       'Слова паразиты, общее количество',\n",
       "       'Слова паразиты, конкретные слова-паразиты и их количество',\n",
       "       'Грубые слова, общее количество', 'Распределение внимания',\n",
       "       'Внимание к посторонним объектам', 'Ссылка на аудиозапись выступления'],\n",
       "      dtype='object')"
      ]
     },
     "execution_count": 6,
     "metadata": {},
     "output_type": "execute_result"
    }
   ],
   "source": [
    "lsk.columns"
   ]
  },
  {
   "cell_type": "markdown",
   "id": "a60af825",
   "metadata": {},
   "source": [
    "Разницы между данными нет. просто второй датасет дополнен. мерджить не надо"
   ]
  },
  {
   "cell_type": "code",
   "execution_count": 7,
   "id": "1e518d0a",
   "metadata": {},
   "outputs": [],
   "source": [
    "#lsk = lsk2.copy()\n",
    "cols = ['fam', 'name', 'otch', 'numsession', 'date',\n",
    "       'dlitelnost', 'eye_contact',\n",
    "       'time_losing_contact',\n",
    "       'number_losing', 'num_preslook',\n",
    "       'num_fillerwords',\n",
    "       'garbage',\n",
    "       'num_shitwords', 'distrib_attent',\n",
    "       'pass_attent', 'garba2']\n",
    "lsk.columns = cols"
   ]
  },
  {
   "cell_type": "code",
   "execution_count": 8,
   "id": "fa28f135",
   "metadata": {},
   "outputs": [
    {
     "data": {
      "text/html": [
       "<div>\n",
       "<style scoped>\n",
       "    .dataframe tbody tr th:only-of-type {\n",
       "        vertical-align: middle;\n",
       "    }\n",
       "\n",
       "    .dataframe tbody tr th {\n",
       "        vertical-align: top;\n",
       "    }\n",
       "\n",
       "    .dataframe thead th {\n",
       "        text-align: right;\n",
       "    }\n",
       "</style>\n",
       "<table border=\"1\" class=\"dataframe\">\n",
       "  <thead>\n",
       "    <tr style=\"text-align: right;\">\n",
       "      <th></th>\n",
       "      <th>fam</th>\n",
       "      <th>name</th>\n",
       "      <th>otch</th>\n",
       "      <th>numsession</th>\n",
       "      <th>date</th>\n",
       "      <th>dlitelnost</th>\n",
       "      <th>eye_contact</th>\n",
       "      <th>time_losing_contact</th>\n",
       "      <th>number_losing</th>\n",
       "      <th>num_preslook</th>\n",
       "      <th>num_fillerwords</th>\n",
       "      <th>garbage</th>\n",
       "      <th>num_shitwords</th>\n",
       "      <th>distrib_attent</th>\n",
       "      <th>pass_attent</th>\n",
       "      <th>garba2</th>\n",
       "    </tr>\n",
       "  </thead>\n",
       "  <tbody>\n",
       "    <tr>\n",
       "      <th>0</th>\n",
       "      <td>Сувала</td>\n",
       "      <td>Владислав</td>\n",
       "      <td>А</td>\n",
       "      <td>282.0</td>\n",
       "      <td>03.04.24 15:43</td>\n",
       "      <td>6:57</td>\n",
       "      <td>96%</td>\n",
       "      <td>2.0</td>\n",
       "      <td>0.0</td>\n",
       "      <td>0.0</td>\n",
       "      <td>13.0</td>\n",
       "      <td>I mean(1) Uh(5) Well(1) Sorry(1) Um(1) So(2) S...</td>\n",
       "      <td>0.0</td>\n",
       "      <td>Плохая</td>\n",
       "      <td>Избыточное</td>\n",
       "      <td>https://pubspeak-skoltech.modumlab.com/audio/2...</td>\n",
       "    </tr>\n",
       "    <tr>\n",
       "      <th>1</th>\n",
       "      <td>Сувала</td>\n",
       "      <td>Владислав</td>\n",
       "      <td>А</td>\n",
       "      <td>281.0</td>\n",
       "      <td>03.04.24 15:33</td>\n",
       "      <td>7:06</td>\n",
       "      <td>98%</td>\n",
       "      <td>3.0</td>\n",
       "      <td>0.0</td>\n",
       "      <td>0.0</td>\n",
       "      <td>9.0</td>\n",
       "      <td>I mean(1) Well(3) Uh(4) Um(1)</td>\n",
       "      <td>0.0</td>\n",
       "      <td>Плохая</td>\n",
       "      <td>Оптимальное</td>\n",
       "      <td>https://pubspeak-skoltech.modumlab.com/audio/2...</td>\n",
       "    </tr>\n",
       "    <tr>\n",
       "      <th>2</th>\n",
       "      <td>Стрелец</td>\n",
       "      <td>Татьяна</td>\n",
       "      <td>А</td>\n",
       "      <td>280.0</td>\n",
       "      <td>03.04.24 15:29</td>\n",
       "      <td>5:48</td>\n",
       "      <td>98%</td>\n",
       "      <td>1.0</td>\n",
       "      <td>0.0</td>\n",
       "      <td>3.0</td>\n",
       "      <td>13.0</td>\n",
       "      <td>You know(1) I mean(3) So(8) Like(1)</td>\n",
       "      <td>0.0</td>\n",
       "      <td>Плохая</td>\n",
       "      <td>Оптимальное</td>\n",
       "      <td>https://pubspeak-skoltech.modumlab.com/audio/2...</td>\n",
       "    </tr>\n",
       "    <tr>\n",
       "      <th>3</th>\n",
       "      <td>Заименко</td>\n",
       "      <td>Ангелина</td>\n",
       "      <td>А</td>\n",
       "      <td>279.0</td>\n",
       "      <td>03.04.24 15:26</td>\n",
       "      <td>6:20</td>\n",
       "      <td>0%</td>\n",
       "      <td>380.0</td>\n",
       "      <td>1.0</td>\n",
       "      <td>0.0</td>\n",
       "      <td>10.0</td>\n",
       "      <td>Like(5) So(4) Um(1)</td>\n",
       "      <td>0.0</td>\n",
       "      <td>Плохая</td>\n",
       "      <td>Избыточное</td>\n",
       "      <td>https://pubspeak-skoltech.modumlab.com/audio/2...</td>\n",
       "    </tr>\n",
       "    <tr>\n",
       "      <th>4</th>\n",
       "      <td>Заименко</td>\n",
       "      <td>Ангелина</td>\n",
       "      <td>А</td>\n",
       "      <td>278.0</td>\n",
       "      <td>03.04.24 15:19</td>\n",
       "      <td>0:34</td>\n",
       "      <td>0%</td>\n",
       "      <td>34.0</td>\n",
       "      <td>1.0</td>\n",
       "      <td>0.0</td>\n",
       "      <td>1.0</td>\n",
       "      <td>So(1)</td>\n",
       "      <td>0.0</td>\n",
       "      <td>Плохая</td>\n",
       "      <td>Избыточное</td>\n",
       "      <td>https://pubspeak-skoltech.modumlab.com/audio/2...</td>\n",
       "    </tr>\n",
       "  </tbody>\n",
       "</table>\n",
       "</div>"
      ],
      "text/plain": [
       "         fam        name otch  numsession            date dlitelnost  \\\n",
       "0    Сувала   Владислав     А       282.0  03.04.24 15:43       6:57   \n",
       "1    Сувала   Владислав     А       281.0  03.04.24 15:33       7:06   \n",
       "2   Стрелец      Татьяна    А       280.0  03.04.24 15:29       5:48   \n",
       "3  Заименко    Ангелина     А       279.0  03.04.24 15:26       6:20   \n",
       "4  Заименко    Ангелина     А       278.0  03.04.24 15:19       0:34   \n",
       "\n",
       "  eye_contact  time_losing_contact  number_losing  num_preslook  \\\n",
       "0         96%                  2.0            0.0           0.0   \n",
       "1         98%                  3.0            0.0           0.0   \n",
       "2         98%                  1.0            0.0           3.0   \n",
       "3          0%                380.0            1.0           0.0   \n",
       "4          0%                 34.0            1.0           0.0   \n",
       "\n",
       "   num_fillerwords                                            garbage  \\\n",
       "0             13.0  I mean(1) Uh(5) Well(1) Sorry(1) Um(1) So(2) S...   \n",
       "1              9.0                      I mean(1) Well(3) Uh(4) Um(1)   \n",
       "2             13.0                You know(1) I mean(3) So(8) Like(1)   \n",
       "3             10.0                                Like(5) So(4) Um(1)   \n",
       "4              1.0                                              So(1)   \n",
       "\n",
       "   num_shitwords distrib_attent  pass_attent  \\\n",
       "0            0.0         Плохая   Избыточное   \n",
       "1            0.0         Плохая  Оптимальное   \n",
       "2            0.0         Плохая  Оптимальное   \n",
       "3            0.0         Плохая   Избыточное   \n",
       "4            0.0         Плохая   Избыточное   \n",
       "\n",
       "                                              garba2  \n",
       "0  https://pubspeak-skoltech.modumlab.com/audio/2...  \n",
       "1  https://pubspeak-skoltech.modumlab.com/audio/2...  \n",
       "2  https://pubspeak-skoltech.modumlab.com/audio/2...  \n",
       "3  https://pubspeak-skoltech.modumlab.com/audio/2...  \n",
       "4  https://pubspeak-skoltech.modumlab.com/audio/2...  "
      ]
     },
     "execution_count": 8,
     "metadata": {},
     "output_type": "execute_result"
    }
   ],
   "source": [
    "lsk.head()"
   ]
  },
  {
   "cell_type": "code",
   "execution_count": 9,
   "id": "919bbc6f",
   "metadata": {},
   "outputs": [
    {
     "name": "stdout",
     "output_type": "stream",
     "text": [
      "cannot convert float NaN to integer\n",
      "cannot convert float NaN to integer\n",
      "cannot convert float NaN to integer\n",
      "cannot convert float NaN to integer\n",
      "cannot convert float NaN to integer\n",
      "cannot convert float NaN to integer\n",
      "cannot convert float NaN to integer\n",
      "cannot convert float NaN to integer\n",
      "cannot convert float NaN to integer\n"
     ]
    }
   ],
   "source": [
    "'''\n",
    "lsk['dlitelnost'] = lsk['dlitelnost'].str.replace(' ', '')\n",
    "lsk['dlitelnost_min'] = lsk['dlitelnost'].str[0]\n",
    "lsk['dlitelnost_sec_str'] = lsk['dlitelnost'].str[2:]\n",
    "lsk['dlitelnost_secs'] = lsk['dlitelnost_min'].astype('Int32')*60 + lsk['dlitelnost_sec_str'].astype('Int32')\n",
    "'''\n",
    "lsk['dlitelnost_secs'] = 0\n",
    "def get_sec(row):\n",
    "    \"\"\"Get seconds from time.\"\"\"\n",
    "    if not (isinstance(row['dlitelnost'], int) or isinstance(row['dlitelnost'], float)) : \n",
    "        m, s = row['dlitelnost'].split(':')  \n",
    "    else :\n",
    "        m, s = 0, row['dlitelnost']\n",
    "    try:\n",
    "        row['dlitelnost_secs'] = int(m) * 60 + int(s)\n",
    "    except ValueError as e:\n",
    "        print(str(e))\n",
    "    return row\n",
    "\n",
    "lsk = lsk.apply(get_sec, axis=1)"
   ]
  },
  {
   "cell_type": "code",
   "execution_count": 10,
   "id": "99d3b6ad",
   "metadata": {},
   "outputs": [],
   "source": [
    "formati = '%d.%m.%y %H:%M'\n",
    "lsk.date = pd.to_datetime(lsk[\"date\"], format=formati)\n",
    "#formati2 = '%'\n",
    "#lsk['dlitelnost']"
   ]
  },
  {
   "cell_type": "code",
   "execution_count": 11,
   "id": "3cab6e28",
   "metadata": {},
   "outputs": [
    {
     "name": "stdout",
     "output_type": "stream",
     "text": [
      "<class 'pandas.core.frame.DataFrame'>\n",
      "RangeIndex: 212 entries, 0 to 211\n",
      "Data columns (total 17 columns):\n",
      " #   Column               Non-Null Count  Dtype         \n",
      "---  ------               --------------  -----         \n",
      " 0   fam                  203 non-null    object        \n",
      " 1   name                 203 non-null    object        \n",
      " 2   otch                 203 non-null    object        \n",
      " 3   numsession           203 non-null    float64       \n",
      " 4   date                 203 non-null    datetime64[ns]\n",
      " 5   dlitelnost           203 non-null    object        \n",
      " 6   eye_contact          203 non-null    object        \n",
      " 7   time_losing_contact  203 non-null    float64       \n",
      " 8   number_losing        203 non-null    float64       \n",
      " 9   num_preslook         203 non-null    float64       \n",
      " 10  num_fillerwords      203 non-null    float64       \n",
      " 11  garbage              146 non-null    object        \n",
      " 12  num_shitwords        203 non-null    float64       \n",
      " 13  distrib_attent       203 non-null    object        \n",
      " 14  pass_attent          203 non-null    object        \n",
      " 15  garba2               203 non-null    object        \n",
      " 16  dlitelnost_secs      212 non-null    int64         \n",
      "dtypes: datetime64[ns](1), float64(6), int64(1), object(9)\n",
      "memory usage: 28.3+ KB\n"
     ]
    }
   ],
   "source": [
    "lsk.info()"
   ]
  },
  {
   "cell_type": "code",
   "execution_count": 12,
   "id": "52eca236",
   "metadata": {},
   "outputs": [
    {
     "data": {
      "text/html": [
       "<div>\n",
       "<style scoped>\n",
       "    .dataframe tbody tr th:only-of-type {\n",
       "        vertical-align: middle;\n",
       "    }\n",
       "\n",
       "    .dataframe tbody tr th {\n",
       "        vertical-align: top;\n",
       "    }\n",
       "\n",
       "    .dataframe thead th {\n",
       "        text-align: right;\n",
       "    }\n",
       "</style>\n",
       "<table border=\"1\" class=\"dataframe\">\n",
       "  <thead>\n",
       "    <tr style=\"text-align: right;\">\n",
       "      <th></th>\n",
       "      <th>numsession</th>\n",
       "      <th>date</th>\n",
       "      <th>time_losing_contact</th>\n",
       "      <th>number_losing</th>\n",
       "      <th>num_preslook</th>\n",
       "      <th>num_fillerwords</th>\n",
       "      <th>num_shitwords</th>\n",
       "      <th>dlitelnost_secs</th>\n",
       "    </tr>\n",
       "  </thead>\n",
       "  <tbody>\n",
       "    <tr>\n",
       "      <th>count</th>\n",
       "      <td>203.000000</td>\n",
       "      <td>203</td>\n",
       "      <td>203.000000</td>\n",
       "      <td>203.000000</td>\n",
       "      <td>203.000000</td>\n",
       "      <td>203.000000</td>\n",
       "      <td>203.000000</td>\n",
       "      <td>212.000000</td>\n",
       "    </tr>\n",
       "    <tr>\n",
       "      <th>mean</th>\n",
       "      <td>178.295567</td>\n",
       "      <td>2024-01-16 05:56:10.640393984</td>\n",
       "      <td>15.433498</td>\n",
       "      <td>0.940887</td>\n",
       "      <td>1.458128</td>\n",
       "      <td>9.118227</td>\n",
       "      <td>0.009852</td>\n",
       "      <td>157.429245</td>\n",
       "    </tr>\n",
       "    <tr>\n",
       "      <th>min</th>\n",
       "      <td>71.000000</td>\n",
       "      <td>2023-11-22 13:27:00</td>\n",
       "      <td>0.000000</td>\n",
       "      <td>0.000000</td>\n",
       "      <td>0.000000</td>\n",
       "      <td>0.000000</td>\n",
       "      <td>0.000000</td>\n",
       "      <td>0.000000</td>\n",
       "    </tr>\n",
       "    <tr>\n",
       "      <th>25%</th>\n",
       "      <td>121.500000</td>\n",
       "      <td>2023-12-12 17:32:00</td>\n",
       "      <td>1.000000</td>\n",
       "      <td>0.000000</td>\n",
       "      <td>0.000000</td>\n",
       "      <td>0.000000</td>\n",
       "      <td>0.000000</td>\n",
       "      <td>25.000000</td>\n",
       "    </tr>\n",
       "    <tr>\n",
       "      <th>50%</th>\n",
       "      <td>181.000000</td>\n",
       "      <td>2024-01-11 15:29:00</td>\n",
       "      <td>3.000000</td>\n",
       "      <td>0.000000</td>\n",
       "      <td>0.000000</td>\n",
       "      <td>5.000000</td>\n",
       "      <td>0.000000</td>\n",
       "      <td>115.500000</td>\n",
       "    </tr>\n",
       "    <tr>\n",
       "      <th>75%</th>\n",
       "      <td>231.500000</td>\n",
       "      <td>2024-01-24 15:34:30</td>\n",
       "      <td>9.000000</td>\n",
       "      <td>1.000000</td>\n",
       "      <td>1.000000</td>\n",
       "      <td>13.000000</td>\n",
       "      <td>0.000000</td>\n",
       "      <td>264.000000</td>\n",
       "    </tr>\n",
       "    <tr>\n",
       "      <th>max</th>\n",
       "      <td>282.000000</td>\n",
       "      <td>2024-04-03 15:43:00</td>\n",
       "      <td>559.000000</td>\n",
       "      <td>12.000000</td>\n",
       "      <td>25.000000</td>\n",
       "      <td>62.000000</td>\n",
       "      <td>1.000000</td>\n",
       "      <td>676.000000</td>\n",
       "    </tr>\n",
       "    <tr>\n",
       "      <th>std</th>\n",
       "      <td>62.080922</td>\n",
       "      <td>NaN</td>\n",
       "      <td>58.155214</td>\n",
       "      <td>1.839192</td>\n",
       "      <td>3.692643</td>\n",
       "      <td>11.324459</td>\n",
       "      <td>0.099012</td>\n",
       "      <td>150.014722</td>\n",
       "    </tr>\n",
       "  </tbody>\n",
       "</table>\n",
       "</div>"
      ],
      "text/plain": [
       "       numsession                           date  time_losing_contact  \\\n",
       "count  203.000000                            203           203.000000   \n",
       "mean   178.295567  2024-01-16 05:56:10.640393984            15.433498   \n",
       "min     71.000000            2023-11-22 13:27:00             0.000000   \n",
       "25%    121.500000            2023-12-12 17:32:00             1.000000   \n",
       "50%    181.000000            2024-01-11 15:29:00             3.000000   \n",
       "75%    231.500000            2024-01-24 15:34:30             9.000000   \n",
       "max    282.000000            2024-04-03 15:43:00           559.000000   \n",
       "std     62.080922                            NaN            58.155214   \n",
       "\n",
       "       number_losing  num_preslook  num_fillerwords  num_shitwords  \\\n",
       "count     203.000000    203.000000       203.000000     203.000000   \n",
       "mean        0.940887      1.458128         9.118227       0.009852   \n",
       "min         0.000000      0.000000         0.000000       0.000000   \n",
       "25%         0.000000      0.000000         0.000000       0.000000   \n",
       "50%         0.000000      0.000000         5.000000       0.000000   \n",
       "75%         1.000000      1.000000        13.000000       0.000000   \n",
       "max        12.000000     25.000000        62.000000       1.000000   \n",
       "std         1.839192      3.692643        11.324459       0.099012   \n",
       "\n",
       "       dlitelnost_secs  \n",
       "count       212.000000  \n",
       "mean        157.429245  \n",
       "min           0.000000  \n",
       "25%          25.000000  \n",
       "50%         115.500000  \n",
       "75%         264.000000  \n",
       "max         676.000000  \n",
       "std         150.014722  "
      ]
     },
     "execution_count": 12,
     "metadata": {},
     "output_type": "execute_result"
    }
   ],
   "source": [
    "lsk.describe()"
   ]
  },
  {
   "cell_type": "code",
   "execution_count": 13,
   "id": "0773a389",
   "metadata": {},
   "outputs": [],
   "source": [
    "nmin = 1\n",
    "lsk = lsk[lsk['dlitelnost_secs']>60*nmin]"
   ]
  },
  {
   "cell_type": "code",
   "execution_count": 14,
   "id": "d95cda8e",
   "metadata": {},
   "outputs": [
    {
     "data": {
      "text/plain": [
       "<seaborn.axisgrid.FacetGrid at 0x7f641b22b9e0>"
      ]
     },
     "execution_count": 14,
     "metadata": {},
     "output_type": "execute_result"
    },
    {
     "data": {
      "image/png": "[encoded data removed]",
      "text/plain": [
       "<Figure size 500x500 with 1 Axes>"
      ]
     },
     "metadata": {},
     "output_type": "display_data"
    }
   ],
   "source": [
    "import seaborn as sns\n",
    "sns.displot(lsk, x = 'dlitelnost_secs')"
   ]
  },
  {
   "cell_type": "code",
   "execution_count": 15,
   "id": "6b9515c0",
   "metadata": {},
   "outputs": [],
   "source": [
    "lsk['eye_contact'] = lsk['eye_contact'].str.replace('%', '', regex=True)"
   ]
  },
  {
   "cell_type": "code",
   "execution_count": 16,
   "id": "7b9bf630",
   "metadata": {},
   "outputs": [],
   "source": [
    "lsk[\"eye_contact\"] = lsk[\"eye_contact\"].fillna(0)\n",
    "lsk[\"eye_contact\"] = lsk[\"eye_contact\"].astype(int)"
   ]
  },
  {
   "cell_type": "code",
   "execution_count": 17,
   "id": "1d27c1a3",
   "metadata": {},
   "outputs": [],
   "source": [
    "lsk = lsk[['fam', 'name', 'date',\n",
    "       'dlitelnost_secs', 'eye_contact',\n",
    "       'time_losing_contact',\n",
    "       'number_losing', 'num_preslook',\n",
    "       'num_fillerwords',\n",
    "       'num_shitwords', 'distrib_attent',\n",
    "       'pass_attent' ]]"
   ]
  },
  {
   "cell_type": "code",
   "execution_count": 18,
   "id": "9ae24c9d",
   "metadata": {},
   "outputs": [
    {
     "data": {
      "text/html": [
       "<div>\n",
       "<style scoped>\n",
       "    .dataframe tbody tr th:only-of-type {\n",
       "        vertical-align: middle;\n",
       "    }\n",
       "\n",
       "    .dataframe tbody tr th {\n",
       "        vertical-align: top;\n",
       "    }\n",
       "\n",
       "    .dataframe thead th {\n",
       "        text-align: right;\n",
       "    }\n",
       "</style>\n",
       "<table border=\"1\" class=\"dataframe\">\n",
       "  <thead>\n",
       "    <tr style=\"text-align: right;\">\n",
       "      <th></th>\n",
       "      <th>fam</th>\n",
       "      <th>name</th>\n",
       "      <th>date</th>\n",
       "      <th>dlitelnost_secs</th>\n",
       "      <th>eye_contact</th>\n",
       "      <th>time_losing_contact</th>\n",
       "      <th>number_losing</th>\n",
       "      <th>num_preslook</th>\n",
       "      <th>num_fillerwords</th>\n",
       "      <th>num_shitwords</th>\n",
       "      <th>pass_attent</th>\n",
       "    </tr>\n",
       "    <tr>\n",
       "      <th>distrib_attent</th>\n",
       "      <th></th>\n",
       "      <th></th>\n",
       "      <th></th>\n",
       "      <th></th>\n",
       "      <th></th>\n",
       "      <th></th>\n",
       "      <th></th>\n",
       "      <th></th>\n",
       "      <th></th>\n",
       "      <th></th>\n",
       "      <th></th>\n",
       "    </tr>\n",
       "  </thead>\n",
       "  <tbody>\n",
       "    <tr>\n",
       "      <th>Плохая</th>\n",
       "      <td>118</td>\n",
       "      <td>118</td>\n",
       "      <td>118</td>\n",
       "      <td>118</td>\n",
       "      <td>118</td>\n",
       "      <td>118</td>\n",
       "      <td>118</td>\n",
       "      <td>118</td>\n",
       "      <td>118</td>\n",
       "      <td>118</td>\n",
       "      <td>118</td>\n",
       "    </tr>\n",
       "    <tr>\n",
       "      <th>Средняя</th>\n",
       "      <td>10</td>\n",
       "      <td>10</td>\n",
       "      <td>10</td>\n",
       "      <td>10</td>\n",
       "      <td>10</td>\n",
       "      <td>10</td>\n",
       "      <td>10</td>\n",
       "      <td>10</td>\n",
       "      <td>10</td>\n",
       "      <td>10</td>\n",
       "      <td>10</td>\n",
       "    </tr>\n",
       "    <tr>\n",
       "      <th>Хорошая</th>\n",
       "      <td>1</td>\n",
       "      <td>1</td>\n",
       "      <td>1</td>\n",
       "      <td>1</td>\n",
       "      <td>1</td>\n",
       "      <td>1</td>\n",
       "      <td>1</td>\n",
       "      <td>1</td>\n",
       "      <td>1</td>\n",
       "      <td>1</td>\n",
       "      <td>1</td>\n",
       "    </tr>\n",
       "  </tbody>\n",
       "</table>\n",
       "</div>"
      ],
      "text/plain": [
       "                fam  name  date  dlitelnost_secs  eye_contact  \\\n",
       "distrib_attent                                                  \n",
       "Плохая          118   118   118              118          118   \n",
       "Средняя          10    10    10               10           10   \n",
       "Хорошая           1     1     1                1            1   \n",
       "\n",
       "                time_losing_contact  number_losing  num_preslook  \\\n",
       "distrib_attent                                                     \n",
       "Плохая                          118            118           118   \n",
       "Средняя                          10             10            10   \n",
       "Хорошая                           1              1             1   \n",
       "\n",
       "                num_fillerwords  num_shitwords  pass_attent  \n",
       "distrib_attent                                               \n",
       "Плохая                      118            118          118  \n",
       "Средняя                      10             10           10  \n",
       "Хорошая                       1              1            1  "
      ]
     },
     "execution_count": 18,
     "metadata": {},
     "output_type": "execute_result"
    }
   ],
   "source": [
    "lsk.groupby(['distrib_attent']).count()"
   ]
  },
  {
   "cell_type": "code",
   "execution_count": 19,
   "id": "934e234b",
   "metadata": {},
   "outputs": [],
   "source": [
    "def categ(item):\n",
    "    if item=='Плохая':\n",
    "        temp = 1\n",
    "    elif item =='Средняя':\n",
    "        temp = 2\n",
    "    else:\n",
    "        temp = 3\n",
    "    return temp    "
   ]
  },
  {
   "cell_type": "code",
   "execution_count": 20,
   "id": "a928a8fd",
   "metadata": {},
   "outputs": [],
   "source": [
    "def categ2(item):\n",
    "    if item=='Избыточное':\n",
    "        temp = 0\n",
    "    else:    \n",
    "        temp = 1\n",
    "    return temp   "
   ]
  },
  {
   "cell_type": "code",
   "execution_count": 22,
   "id": "1c94c0af",
   "metadata": {},
   "outputs": [],
   "source": [
    "lsk['distrib_attent'] = lsk['distrib_attent'].apply(categ)"
   ]
  },
  {
   "cell_type": "code",
   "execution_count": 23,
   "id": "34373989",
   "metadata": {},
   "outputs": [],
   "source": [
    "lsk.groupby(['pass_attent']).count()\n",
    "lsk['pass_attent'] = lsk['pass_attent'].apply(categ2)"
   ]
  },
  {
   "cell_type": "code",
   "execution_count": 24,
   "id": "93cccf76",
   "metadata": {},
   "outputs": [
    {
     "data": {
      "text/html": [
       "<div>\n",
       "<style scoped>\n",
       "    .dataframe tbody tr th:only-of-type {\n",
       "        vertical-align: middle;\n",
       "    }\n",
       "\n",
       "    .dataframe tbody tr th {\n",
       "        vertical-align: top;\n",
       "    }\n",
       "\n",
       "    .dataframe thead th {\n",
       "        text-align: right;\n",
       "    }\n",
       "</style>\n",
       "<table border=\"1\" class=\"dataframe\">\n",
       "  <thead>\n",
       "    <tr style=\"text-align: right;\">\n",
       "      <th></th>\n",
       "      <th>date</th>\n",
       "      <th>dlitelnost_secs</th>\n",
       "      <th>eye_contact</th>\n",
       "      <th>time_losing_contact</th>\n",
       "      <th>number_losing</th>\n",
       "      <th>num_preslook</th>\n",
       "      <th>num_fillerwords</th>\n",
       "      <th>num_shitwords</th>\n",
       "      <th>distrib_attent</th>\n",
       "      <th>pass_attent</th>\n",
       "    </tr>\n",
       "  </thead>\n",
       "  <tbody>\n",
       "    <tr>\n",
       "      <th>count</th>\n",
       "      <td>129</td>\n",
       "      <td>129.000000</td>\n",
       "      <td>129.000000</td>\n",
       "      <td>129.000000</td>\n",
       "      <td>129.000000</td>\n",
       "      <td>129.000000</td>\n",
       "      <td>129.000000</td>\n",
       "      <td>129.000000</td>\n",
       "      <td>129.000000</td>\n",
       "      <td>129.000000</td>\n",
       "    </tr>\n",
       "    <tr>\n",
       "      <th>mean</th>\n",
       "      <td>2024-01-14 11:51:55.813953536</td>\n",
       "      <td>246.356589</td>\n",
       "      <td>80.480620</td>\n",
       "      <td>21.077519</td>\n",
       "      <td>1.279070</td>\n",
       "      <td>2.155039</td>\n",
       "      <td>14.015504</td>\n",
       "      <td>0.007752</td>\n",
       "      <td>1.093023</td>\n",
       "      <td>0.403101</td>\n",
       "    </tr>\n",
       "    <tr>\n",
       "      <th>min</th>\n",
       "      <td>2023-11-22 13:27:00</td>\n",
       "      <td>61.000000</td>\n",
       "      <td>0.000000</td>\n",
       "      <td>0.000000</td>\n",
       "      <td>0.000000</td>\n",
       "      <td>0.000000</td>\n",
       "      <td>0.000000</td>\n",
       "      <td>0.000000</td>\n",
       "      <td>1.000000</td>\n",
       "      <td>0.000000</td>\n",
       "    </tr>\n",
       "    <tr>\n",
       "      <th>25%</th>\n",
       "      <td>2023-12-12 16:54:00</td>\n",
       "      <td>154.000000</td>\n",
       "      <td>78.000000</td>\n",
       "      <td>2.000000</td>\n",
       "      <td>0.000000</td>\n",
       "      <td>0.000000</td>\n",
       "      <td>5.000000</td>\n",
       "      <td>0.000000</td>\n",
       "      <td>1.000000</td>\n",
       "      <td>0.000000</td>\n",
       "    </tr>\n",
       "    <tr>\n",
       "      <th>50%</th>\n",
       "      <td>2024-01-11 15:30:00</td>\n",
       "      <td>229.000000</td>\n",
       "      <td>91.000000</td>\n",
       "      <td>4.000000</td>\n",
       "      <td>0.000000</td>\n",
       "      <td>0.000000</td>\n",
       "      <td>11.000000</td>\n",
       "      <td>0.000000</td>\n",
       "      <td>1.000000</td>\n",
       "      <td>0.000000</td>\n",
       "    </tr>\n",
       "    <tr>\n",
       "      <th>75%</th>\n",
       "      <td>2024-01-25 15:34:00</td>\n",
       "      <td>313.000000</td>\n",
       "      <td>97.000000</td>\n",
       "      <td>9.000000</td>\n",
       "      <td>2.000000</td>\n",
       "      <td>2.000000</td>\n",
       "      <td>21.000000</td>\n",
       "      <td>0.000000</td>\n",
       "      <td>1.000000</td>\n",
       "      <td>1.000000</td>\n",
       "    </tr>\n",
       "    <tr>\n",
       "      <th>max</th>\n",
       "      <td>2024-04-03 15:43:00</td>\n",
       "      <td>676.000000</td>\n",
       "      <td>100.000000</td>\n",
       "      <td>559.000000</td>\n",
       "      <td>12.000000</td>\n",
       "      <td>25.000000</td>\n",
       "      <td>62.000000</td>\n",
       "      <td>1.000000</td>\n",
       "      <td>3.000000</td>\n",
       "      <td>1.000000</td>\n",
       "    </tr>\n",
       "    <tr>\n",
       "      <th>std</th>\n",
       "      <td>NaN</td>\n",
       "      <td>128.688383</td>\n",
       "      <td>26.171042</td>\n",
       "      <td>72.154306</td>\n",
       "      <td>2.193658</td>\n",
       "      <td>4.471174</td>\n",
       "      <td>11.641107</td>\n",
       "      <td>0.088045</td>\n",
       "      <td>0.317260</td>\n",
       "      <td>0.492433</td>\n",
       "    </tr>\n",
       "  </tbody>\n",
       "</table>\n",
       "</div>"
      ],
      "text/plain": [
       "                                date  dlitelnost_secs  eye_contact  \\\n",
       "count                            129       129.000000   129.000000   \n",
       "mean   2024-01-14 11:51:55.813953536       246.356589    80.480620   \n",
       "min              2023-11-22 13:27:00        61.000000     0.000000   \n",
       "25%              2023-12-12 16:54:00       154.000000    78.000000   \n",
       "50%              2024-01-11 15:30:00       229.000000    91.000000   \n",
       "75%              2024-01-25 15:34:00       313.000000    97.000000   \n",
       "max              2024-04-03 15:43:00       676.000000   100.000000   \n",
       "std                              NaN       128.688383    26.171042   \n",
       "\n",
       "       time_losing_contact  number_losing  num_preslook  num_fillerwords  \\\n",
       "count           129.000000     129.000000    129.000000       129.000000   \n",
       "mean             21.077519       1.279070      2.155039        14.015504   \n",
       "min               0.000000       0.000000      0.000000         0.000000   \n",
       "25%               2.000000       0.000000      0.000000         5.000000   \n",
       "50%               4.000000       0.000000      0.000000        11.000000   \n",
       "75%               9.000000       2.000000      2.000000        21.000000   \n",
       "max             559.000000      12.000000     25.000000        62.000000   \n",
       "std              72.154306       2.193658      4.471174        11.641107   \n",
       "\n",
       "       num_shitwords  distrib_attent  pass_attent  \n",
       "count     129.000000      129.000000   129.000000  \n",
       "mean        0.007752        1.093023     0.403101  \n",
       "min         0.000000        1.000000     0.000000  \n",
       "25%         0.000000        1.000000     0.000000  \n",
       "50%         0.000000        1.000000     0.000000  \n",
       "75%         0.000000        1.000000     1.000000  \n",
       "max         1.000000        3.000000     1.000000  \n",
       "std         0.088045        0.317260     0.492433  "
      ]
     },
     "execution_count": 24,
     "metadata": {},
     "output_type": "execute_result"
    }
   ],
   "source": [
    "lsk.describe()"
   ]
  },
  {
   "cell_type": "code",
   "execution_count": 26,
   "id": "ce7b96c4",
   "metadata": {},
   "outputs": [
    {
     "data": {
      "text/plain": [
       "<seaborn.axisgrid.FacetGrid at 0x7f641b588f50>"
      ]
     },
     "execution_count": 26,
     "metadata": {},
     "output_type": "execute_result"
    },
    {
     "data": {
      "image/png": "[encoded data removed]",
      "text/plain": [
       "<Figure size 500x500 with 1 Axes>"
      ]
     },
     "metadata": {},
     "output_type": "display_data"
    }
   ],
   "source": [
    "sns.displot(lsk['pass_attent'])"
   ]
  },
  {
   "cell_type": "code",
   "execution_count": 27,
   "id": "2a840126",
   "metadata": {},
   "outputs": [
    {
     "data": {
      "text/plain": [
       "<seaborn.axisgrid.FacetGrid at 0x7f641af6ca70>"
      ]
     },
     "execution_count": 27,
     "metadata": {},
     "output_type": "execute_result"
    },
    {
     "data": {
      "image/png": "[encoded data removed]",
      "text/plain": [
       "<Figure size 500x500 with 1 Axes>"
      ]
     },
     "metadata": {},
     "output_type": "display_data"
    }
   ],
   "source": [
    "sns.displot(lsk['distrib_attent'])"
   ]
  },
  {
   "cell_type": "code",
   "execution_count": 28,
   "id": "726beabd",
   "metadata": {},
   "outputs": [],
   "source": [
    "lsk = lsk.fillna(0)"
   ]
  },
  {
   "cell_type": "code",
   "execution_count": 29,
   "id": "643403d8",
   "metadata": {},
   "outputs": [],
   "source": [
    "df2 = lsk.sort_values(['fam', 'name', 'date'],\n",
    "              ascending = [True, True, True])\n",
    "\n",
    "df2 = df2[df2.duplicated(subset=['fam', 'name'])]\n",
    "first = df2.drop_duplicates(subset=['fam', 'name'], keep = 'first')\n",
    "last = df2.drop_duplicates(subset=['fam', 'name'], keep = 'last')"
   ]
  },
  {
   "cell_type": "code",
   "execution_count": 30,
   "id": "20e3ee00",
   "metadata": {},
   "outputs": [
    {
     "data": {
      "text/html": [
       "<div>\n",
       "<style scoped>\n",
       "    .dataframe tbody tr th:only-of-type {\n",
       "        vertical-align: middle;\n",
       "    }\n",
       "\n",
       "    .dataframe tbody tr th {\n",
       "        vertical-align: top;\n",
       "    }\n",
       "\n",
       "    .dataframe thead th {\n",
       "        text-align: right;\n",
       "    }\n",
       "</style>\n",
       "<table border=\"1\" class=\"dataframe\">\n",
       "  <thead>\n",
       "    <tr style=\"text-align: right;\">\n",
       "      <th></th>\n",
       "      <th>fam</th>\n",
       "      <th>name</th>\n",
       "      <th>date</th>\n",
       "      <th>dlitelnost_secs</th>\n",
       "      <th>eye_contact</th>\n",
       "      <th>time_losing_contact</th>\n",
       "      <th>number_losing</th>\n",
       "      <th>num_preslook</th>\n",
       "      <th>num_fillerwords</th>\n",
       "      <th>num_shitwords</th>\n",
       "      <th>distrib_attent</th>\n",
       "      <th>pass_attent</th>\n",
       "    </tr>\n",
       "  </thead>\n",
       "  <tbody>\n",
       "    <tr>\n",
       "      <th>113</th>\n",
       "      <td>Asefa</td>\n",
       "      <td>Dinaol</td>\n",
       "      <td>2024-01-09 15:41:00</td>\n",
       "      <td>114</td>\n",
       "      <td>65</td>\n",
       "      <td>8.0</td>\n",
       "      <td>3.0</td>\n",
       "      <td>0.0</td>\n",
       "      <td>11.0</td>\n",
       "      <td>0.0</td>\n",
       "      <td>1</td>\n",
       "      <td>0</td>\n",
       "    </tr>\n",
       "    <tr>\n",
       "      <th>110</th>\n",
       "      <td>Asefa</td>\n",
       "      <td>Dinaol</td>\n",
       "      <td>2024-01-11 14:35:00</td>\n",
       "      <td>154</td>\n",
       "      <td>62</td>\n",
       "      <td>8.0</td>\n",
       "      <td>2.0</td>\n",
       "      <td>0.0</td>\n",
       "      <td>15.0</td>\n",
       "      <td>0.0</td>\n",
       "      <td>1</td>\n",
       "      <td>0</td>\n",
       "    </tr>\n",
       "    <tr>\n",
       "      <th>91</th>\n",
       "      <td>Asefa</td>\n",
       "      <td>Dinaol</td>\n",
       "      <td>2024-01-18 14:30:00</td>\n",
       "      <td>131</td>\n",
       "      <td>74</td>\n",
       "      <td>9.0</td>\n",
       "      <td>3.0</td>\n",
       "      <td>5.0</td>\n",
       "      <td>8.0</td>\n",
       "      <td>0.0</td>\n",
       "      <td>1</td>\n",
       "      <td>1</td>\n",
       "    </tr>\n",
       "    <tr>\n",
       "      <th>89</th>\n",
       "      <td>Asefa</td>\n",
       "      <td>Dinaol</td>\n",
       "      <td>2024-01-18 14:35:00</td>\n",
       "      <td>238</td>\n",
       "      <td>79</td>\n",
       "      <td>7.0</td>\n",
       "      <td>3.0</td>\n",
       "      <td>10.0</td>\n",
       "      <td>13.0</td>\n",
       "      <td>0.0</td>\n",
       "      <td>1</td>\n",
       "      <td>0</td>\n",
       "    </tr>\n",
       "    <tr>\n",
       "      <th>84</th>\n",
       "      <td>Asefa</td>\n",
       "      <td>Dinaol</td>\n",
       "      <td>2024-01-18 14:49:00</td>\n",
       "      <td>264</td>\n",
       "      <td>73</td>\n",
       "      <td>13.0</td>\n",
       "      <td>2.0</td>\n",
       "      <td>12.0</td>\n",
       "      <td>34.0</td>\n",
       "      <td>0.0</td>\n",
       "      <td>1</td>\n",
       "      <td>1</td>\n",
       "    </tr>\n",
       "    <tr>\n",
       "      <th>76</th>\n",
       "      <td>Asefa</td>\n",
       "      <td>Dinaol</td>\n",
       "      <td>2024-01-23 14:53:00</td>\n",
       "      <td>291</td>\n",
       "      <td>80</td>\n",
       "      <td>13.0</td>\n",
       "      <td>1.0</td>\n",
       "      <td>3.0</td>\n",
       "      <td>27.0</td>\n",
       "      <td>0.0</td>\n",
       "      <td>1</td>\n",
       "      <td>0</td>\n",
       "    </tr>\n",
       "    <tr>\n",
       "      <th>60</th>\n",
       "      <td>Asefa</td>\n",
       "      <td>Dinaol</td>\n",
       "      <td>2024-01-23 15:17:00</td>\n",
       "      <td>385</td>\n",
       "      <td>77</td>\n",
       "      <td>13.0</td>\n",
       "      <td>4.0</td>\n",
       "      <td>10.0</td>\n",
       "      <td>25.0</td>\n",
       "      <td>0.0</td>\n",
       "      <td>1</td>\n",
       "      <td>0</td>\n",
       "    </tr>\n",
       "    <tr>\n",
       "      <th>44</th>\n",
       "      <td>Asefa</td>\n",
       "      <td>Dinaol</td>\n",
       "      <td>2024-01-25 15:41:00</td>\n",
       "      <td>321</td>\n",
       "      <td>78</td>\n",
       "      <td>9.0</td>\n",
       "      <td>3.0</td>\n",
       "      <td>16.0</td>\n",
       "      <td>26.0</td>\n",
       "      <td>0.0</td>\n",
       "      <td>1</td>\n",
       "      <td>1</td>\n",
       "    </tr>\n",
       "    <tr>\n",
       "      <th>83</th>\n",
       "      <td>Asfaw</td>\n",
       "      <td>Selamawit</td>\n",
       "      <td>2024-01-18 14:50:00</td>\n",
       "      <td>106</td>\n",
       "      <td>46</td>\n",
       "      <td>12.0</td>\n",
       "      <td>5.0</td>\n",
       "      <td>0.0</td>\n",
       "      <td>0.0</td>\n",
       "      <td>0.0</td>\n",
       "      <td>1</td>\n",
       "      <td>0</td>\n",
       "    </tr>\n",
       "    <tr>\n",
       "      <th>81</th>\n",
       "      <td>Asfaw</td>\n",
       "      <td>Selamawit</td>\n",
       "      <td>2024-01-18 14:55:00</td>\n",
       "      <td>173</td>\n",
       "      <td>66</td>\n",
       "      <td>12.0</td>\n",
       "      <td>4.0</td>\n",
       "      <td>4.0</td>\n",
       "      <td>18.0</td>\n",
       "      <td>0.0</td>\n",
       "      <td>1</td>\n",
       "      <td>0</td>\n",
       "    </tr>\n",
       "  </tbody>\n",
       "</table>\n",
       "</div>"
      ],
      "text/plain": [
       "       fam       name                date  dlitelnost_secs  eye_contact  \\\n",
       "113  Asefa     Dinaol 2024-01-09 15:41:00              114           65   \n",
       "110  Asefa     Dinaol 2024-01-11 14:35:00              154           62   \n",
       "91   Asefa     Dinaol 2024-01-18 14:30:00              131           74   \n",
       "89   Asefa     Dinaol 2024-01-18 14:35:00              238           79   \n",
       "84   Asefa     Dinaol 2024-01-18 14:49:00              264           73   \n",
       "76   Asefa     Dinaol 2024-01-23 14:53:00              291           80   \n",
       "60   Asefa     Dinaol 2024-01-23 15:17:00              385           77   \n",
       "44   Asefa     Dinaol 2024-01-25 15:41:00              321           78   \n",
       "83   Asfaw  Selamawit 2024-01-18 14:50:00              106           46   \n",
       "81   Asfaw  Selamawit 2024-01-18 14:55:00              173           66   \n",
       "\n",
       "     time_losing_contact  number_losing  num_preslook  num_fillerwords  \\\n",
       "113                  8.0            3.0           0.0             11.0   \n",
       "110                  8.0            2.0           0.0             15.0   \n",
       "91                   9.0            3.0           5.0              8.0   \n",
       "89                   7.0            3.0          10.0             13.0   \n",
       "84                  13.0            2.0          12.0             34.0   \n",
       "76                  13.0            1.0           3.0             27.0   \n",
       "60                  13.0            4.0          10.0             25.0   \n",
       "44                   9.0            3.0          16.0             26.0   \n",
       "83                  12.0            5.0           0.0              0.0   \n",
       "81                  12.0            4.0           4.0             18.0   \n",
       "\n",
       "     num_shitwords  distrib_attent  pass_attent  \n",
       "113            0.0               1            0  \n",
       "110            0.0               1            0  \n",
       "91             0.0               1            1  \n",
       "89             0.0               1            0  \n",
       "84             0.0               1            1  \n",
       "76             0.0               1            0  \n",
       "60             0.0               1            0  \n",
       "44             0.0               1            1  \n",
       "83             0.0               1            0  \n",
       "81             0.0               1            0  "
      ]
     },
     "execution_count": 30,
     "metadata": {},
     "output_type": "execute_result"
    }
   ],
   "source": [
    "df2.head(10)"
   ]
  },
  {
   "cell_type": "code",
   "execution_count": 31,
   "id": "e4a06b25",
   "metadata": {},
   "outputs": [
    {
     "data": {
      "text/html": [
       "<div>\n",
       "<style scoped>\n",
       "    .dataframe tbody tr th:only-of-type {\n",
       "        vertical-align: middle;\n",
       "    }\n",
       "\n",
       "    .dataframe tbody tr th {\n",
       "        vertical-align: top;\n",
       "    }\n",
       "\n",
       "    .dataframe thead th {\n",
       "        text-align: right;\n",
       "    }\n",
       "</style>\n",
       "<table border=\"1\" class=\"dataframe\">\n",
       "  <thead>\n",
       "    <tr style=\"text-align: right;\">\n",
       "      <th></th>\n",
       "      <th>date</th>\n",
       "      <th>dlitelnost_secs</th>\n",
       "      <th>eye_contact</th>\n",
       "      <th>time_losing_contact</th>\n",
       "      <th>number_losing</th>\n",
       "      <th>num_preslook</th>\n",
       "      <th>num_fillerwords</th>\n",
       "      <th>num_shitwords</th>\n",
       "      <th>distrib_attent</th>\n",
       "      <th>pass_attent</th>\n",
       "    </tr>\n",
       "  </thead>\n",
       "  <tbody>\n",
       "    <tr>\n",
       "      <th>count</th>\n",
       "      <td>82</td>\n",
       "      <td>82.000000</td>\n",
       "      <td>82.000000</td>\n",
       "      <td>82.000000</td>\n",
       "      <td>82.000000</td>\n",
       "      <td>82.000000</td>\n",
       "      <td>82.000000</td>\n",
       "      <td>82.000000</td>\n",
       "      <td>82.000000</td>\n",
       "      <td>82.000000</td>\n",
       "    </tr>\n",
       "    <tr>\n",
       "      <th>mean</th>\n",
       "      <td>2024-01-22 14:18:53.414634240</td>\n",
       "      <td>246.878049</td>\n",
       "      <td>85.085366</td>\n",
       "      <td>17.695122</td>\n",
       "      <td>0.987805</td>\n",
       "      <td>2.036585</td>\n",
       "      <td>15.109756</td>\n",
       "      <td>0.012195</td>\n",
       "      <td>1.097561</td>\n",
       "      <td>0.475610</td>\n",
       "    </tr>\n",
       "    <tr>\n",
       "      <th>min</th>\n",
       "      <td>2023-11-22 13:39:00</td>\n",
       "      <td>61.000000</td>\n",
       "      <td>0.000000</td>\n",
       "      <td>0.000000</td>\n",
       "      <td>0.000000</td>\n",
       "      <td>0.000000</td>\n",
       "      <td>0.000000</td>\n",
       "      <td>0.000000</td>\n",
       "      <td>1.000000</td>\n",
       "      <td>0.000000</td>\n",
       "    </tr>\n",
       "    <tr>\n",
       "      <th>25%</th>\n",
       "      <td>2024-01-09 15:33:15</td>\n",
       "      <td>157.750000</td>\n",
       "      <td>80.000000</td>\n",
       "      <td>2.000000</td>\n",
       "      <td>0.000000</td>\n",
       "      <td>0.000000</td>\n",
       "      <td>6.000000</td>\n",
       "      <td>0.000000</td>\n",
       "      <td>1.000000</td>\n",
       "      <td>0.000000</td>\n",
       "    </tr>\n",
       "    <tr>\n",
       "      <th>50%</th>\n",
       "      <td>2024-01-18 14:57:30</td>\n",
       "      <td>238.500000</td>\n",
       "      <td>93.500000</td>\n",
       "      <td>3.000000</td>\n",
       "      <td>0.000000</td>\n",
       "      <td>0.000000</td>\n",
       "      <td>12.000000</td>\n",
       "      <td>0.000000</td>\n",
       "      <td>1.000000</td>\n",
       "      <td>0.000000</td>\n",
       "    </tr>\n",
       "    <tr>\n",
       "      <th>75%</th>\n",
       "      <td>2024-01-25 15:39:45</td>\n",
       "      <td>316.000000</td>\n",
       "      <td>98.000000</td>\n",
       "      <td>8.000000</td>\n",
       "      <td>1.000000</td>\n",
       "      <td>2.000000</td>\n",
       "      <td>21.750000</td>\n",
       "      <td>0.000000</td>\n",
       "      <td>1.000000</td>\n",
       "      <td>1.000000</td>\n",
       "    </tr>\n",
       "    <tr>\n",
       "      <th>max</th>\n",
       "      <td>2024-04-03 15:43:00</td>\n",
       "      <td>564.000000</td>\n",
       "      <td>100.000000</td>\n",
       "      <td>380.000000</td>\n",
       "      <td>12.000000</td>\n",
       "      <td>21.000000</td>\n",
       "      <td>62.000000</td>\n",
       "      <td>1.000000</td>\n",
       "      <td>3.000000</td>\n",
       "      <td>1.000000</td>\n",
       "    </tr>\n",
       "    <tr>\n",
       "      <th>std</th>\n",
       "      <td>NaN</td>\n",
       "      <td>120.181693</td>\n",
       "      <td>22.501688</td>\n",
       "      <td>65.512733</td>\n",
       "      <td>2.057770</td>\n",
       "      <td>4.229366</td>\n",
       "      <td>11.948455</td>\n",
       "      <td>0.110432</td>\n",
       "      <td>0.337374</td>\n",
       "      <td>0.502478</td>\n",
       "    </tr>\n",
       "  </tbody>\n",
       "</table>\n",
       "</div>"
      ],
      "text/plain": [
       "                                date  dlitelnost_secs  eye_contact  \\\n",
       "count                             82        82.000000    82.000000   \n",
       "mean   2024-01-22 14:18:53.414634240       246.878049    85.085366   \n",
       "min              2023-11-22 13:39:00        61.000000     0.000000   \n",
       "25%              2024-01-09 15:33:15       157.750000    80.000000   \n",
       "50%              2024-01-18 14:57:30       238.500000    93.500000   \n",
       "75%              2024-01-25 15:39:45       316.000000    98.000000   \n",
       "max              2024-04-03 15:43:00       564.000000   100.000000   \n",
       "std                              NaN       120.181693    22.501688   \n",
       "\n",
       "       time_losing_contact  number_losing  num_preslook  num_fillerwords  \\\n",
       "count            82.000000      82.000000     82.000000        82.000000   \n",
       "mean             17.695122       0.987805      2.036585        15.109756   \n",
       "min               0.000000       0.000000      0.000000         0.000000   \n",
       "25%               2.000000       0.000000      0.000000         6.000000   \n",
       "50%               3.000000       0.000000      0.000000        12.000000   \n",
       "75%               8.000000       1.000000      2.000000        21.750000   \n",
       "max             380.000000      12.000000     21.000000        62.000000   \n",
       "std              65.512733       2.057770      4.229366        11.948455   \n",
       "\n",
       "       num_shitwords  distrib_attent  pass_attent  \n",
       "count      82.000000       82.000000    82.000000  \n",
       "mean        0.012195        1.097561     0.475610  \n",
       "min         0.000000        1.000000     0.000000  \n",
       "25%         0.000000        1.000000     0.000000  \n",
       "50%         0.000000        1.000000     0.000000  \n",
       "75%         0.000000        1.000000     1.000000  \n",
       "max         1.000000        3.000000     1.000000  \n",
       "std         0.110432        0.337374     0.502478  "
      ]
     },
     "execution_count": 31,
     "metadata": {},
     "output_type": "execute_result"
    }
   ],
   "source": [
    "df2.describe()"
   ]
  },
  {
   "cell_type": "code",
   "execution_count": 32,
   "id": "d9fd571d",
   "metadata": {},
   "outputs": [],
   "source": [
    "df3 = pd.merge(first, last, on=['fam','name'], how = 'inner')\n"
   ]
  },
  {
   "cell_type": "code",
   "execution_count": 33,
   "id": "b826c6ce",
   "metadata": {},
   "outputs": [],
   "source": [
    "dff1 = df3[['date_x', 'dlitelnost_secs_x', 'eye_contact_x',\n",
    "       'time_losing_contact_x', 'number_losing_x', 'num_preslook_x',\n",
    "       'num_fillerwords_x', 'num_shitwords_x', 'distrib_attent_x', 'pass_attent_x']]\n",
    "dff2 = df3[['date_y', 'dlitelnost_secs_y', 'eye_contact_y', 'time_losing_contact_y',\n",
    "       'number_losing_y', 'num_preslook_y', 'num_fillerwords_y', 'num_shitwords_y',\n",
    "       'distrib_attent_y', 'pass_attent_y']]\n",
    "dff1.columns = [ 'date',\n",
    "       'duration_secs', 'eye_contact',\n",
    "       'time_losing_contact',\n",
    "       'number_losing', 'num_preslook',\n",
    "       'num_fillerwords',\n",
    "       'num_shitwords', 'distrib_attent',\n",
    "       'pass_attent' ]\n",
    "dff2.columns = [ 'date',\n",
    "       'duration_secs', 'eye_contact',\n",
    "       'time_losing_contact',\n",
    "       'number_losing', 'num_preslook',\n",
    "       'num_fillerwords',\n",
    "       'num_shitwords', 'distrib_attent',\n",
    "       'pass_attent' ]"
   ]
  },
  {
   "cell_type": "code",
   "execution_count": 34,
   "id": "94637e98",
   "metadata": {},
   "outputs": [
    {
     "data": {
      "text/html": [
       "<div>\n",
       "<style scoped>\n",
       "    .dataframe tbody tr th:only-of-type {\n",
       "        vertical-align: middle;\n",
       "    }\n",
       "\n",
       "    .dataframe tbody tr th {\n",
       "        vertical-align: top;\n",
       "    }\n",
       "\n",
       "    .dataframe thead th {\n",
       "        text-align: right;\n",
       "    }\n",
       "</style>\n",
       "<table border=\"1\" class=\"dataframe\">\n",
       "  <thead>\n",
       "    <tr style=\"text-align: right;\">\n",
       "      <th></th>\n",
       "      <th>date</th>\n",
       "      <th>duration_secs</th>\n",
       "      <th>eye_contact</th>\n",
       "      <th>time_losing_contact</th>\n",
       "      <th>number_losing</th>\n",
       "      <th>num_preslook</th>\n",
       "      <th>num_fillerwords</th>\n",
       "      <th>num_shitwords</th>\n",
       "      <th>distrib_attent</th>\n",
       "      <th>pass_attent</th>\n",
       "    </tr>\n",
       "  </thead>\n",
       "  <tbody>\n",
       "    <tr>\n",
       "      <th>0</th>\n",
       "      <td>2024-01-25 15:41:00</td>\n",
       "      <td>321</td>\n",
       "      <td>78</td>\n",
       "      <td>9.0</td>\n",
       "      <td>3.0</td>\n",
       "      <td>16.0</td>\n",
       "      <td>26.0</td>\n",
       "      <td>0.0</td>\n",
       "      <td>1</td>\n",
       "      <td>1</td>\n",
       "    </tr>\n",
       "    <tr>\n",
       "      <th>1</th>\n",
       "      <td>2024-01-25 16:00:00</td>\n",
       "      <td>264</td>\n",
       "      <td>96</td>\n",
       "      <td>3.0</td>\n",
       "      <td>0.0</td>\n",
       "      <td>0.0</td>\n",
       "      <td>36.0</td>\n",
       "      <td>0.0</td>\n",
       "      <td>1</td>\n",
       "      <td>1</td>\n",
       "    </tr>\n",
       "    <tr>\n",
       "      <th>2</th>\n",
       "      <td>2023-11-22 17:05:00</td>\n",
       "      <td>232</td>\n",
       "      <td>90</td>\n",
       "      <td>3.0</td>\n",
       "      <td>0.0</td>\n",
       "      <td>0.0</td>\n",
       "      <td>12.0</td>\n",
       "      <td>0.0</td>\n",
       "      <td>1</td>\n",
       "      <td>0</td>\n",
       "    </tr>\n",
       "    <tr>\n",
       "      <th>3</th>\n",
       "      <td>2024-01-25 15:41:00</td>\n",
       "      <td>340</td>\n",
       "      <td>94</td>\n",
       "      <td>3.0</td>\n",
       "      <td>0.0</td>\n",
       "      <td>2.0</td>\n",
       "      <td>31.0</td>\n",
       "      <td>0.0</td>\n",
       "      <td>1</td>\n",
       "      <td>0</td>\n",
       "    </tr>\n",
       "    <tr>\n",
       "      <th>4</th>\n",
       "      <td>2023-11-22 13:39:00</td>\n",
       "      <td>168</td>\n",
       "      <td>98</td>\n",
       "      <td>1.0</td>\n",
       "      <td>0.0</td>\n",
       "      <td>0.0</td>\n",
       "      <td>5.0</td>\n",
       "      <td>0.0</td>\n",
       "      <td>1</td>\n",
       "      <td>1</td>\n",
       "    </tr>\n",
       "  </tbody>\n",
       "</table>\n",
       "</div>"
      ],
      "text/plain": [
       "                 date  duration_secs  eye_contact  time_losing_contact  \\\n",
       "0 2024-01-25 15:41:00            321           78                  9.0   \n",
       "1 2024-01-25 16:00:00            264           96                  3.0   \n",
       "2 2023-11-22 17:05:00            232           90                  3.0   \n",
       "3 2024-01-25 15:41:00            340           94                  3.0   \n",
       "4 2023-11-22 13:39:00            168           98                  1.0   \n",
       "\n",
       "   number_losing  num_preslook  num_fillerwords  num_shitwords  \\\n",
       "0            3.0          16.0             26.0            0.0   \n",
       "1            0.0           0.0             36.0            0.0   \n",
       "2            0.0           0.0             12.0            0.0   \n",
       "3            0.0           2.0             31.0            0.0   \n",
       "4            0.0           0.0              5.0            0.0   \n",
       "\n",
       "   distrib_attent  pass_attent  \n",
       "0               1            1  \n",
       "1               1            1  \n",
       "2               1            0  \n",
       "3               1            0  \n",
       "4               1            1  "
      ]
     },
     "execution_count": 34,
     "metadata": {},
     "output_type": "execute_result"
    }
   ],
   "source": [
    "dff2.head()"
   ]
  },
  {
   "cell_type": "code",
   "execution_count": 35,
   "id": "3eb32cde",
   "metadata": {},
   "outputs": [],
   "source": [
    "import numpy as np\n",
    "import pingouin as pg"
   ]
  },
  {
   "cell_type": "markdown",
   "id": "560a70b6",
   "metadata": {},
   "source": [
    "Начинаем анализ"
   ]
  },
  {
   "cell_type": "code",
   "execution_count": 36,
   "id": "f2aec459",
   "metadata": {},
   "outputs": [],
   "source": [
    "import scipy.stats as stats"
   ]
  },
  {
   "cell_type": "code",
   "execution_count": 37,
   "id": "36f4144d",
   "metadata": {},
   "outputs": [
    {
     "name": "stderr",
     "output_type": "stream",
     "text": [
      "/home/aryuna/micromamba/envs/sharapkova/lib/python3.12/site-packages/scipy/stats/_axis_nan_policy.py:600: UserWarning: Exact p-value calculation does not work if there are zeros. Switching to normal approximation.\n",
      "  return result_to_tuple(hypotest_fun_out(*samples, **kwds))\n"
     ]
    },
    {
     "data": {
      "text/plain": [
       "WilcoxonResult(statistic=array([56.]), pvalue=array([0.53430978]))"
      ]
     },
     "execution_count": 37,
     "metadata": {},
     "output_type": "execute_result"
    }
   ],
   "source": [
    "res = stats.wilcoxon(dff1[['time_losing_contact']], dff2[['time_losing_contact']])\n",
    "res"
   ]
  },
  {
   "cell_type": "code",
   "execution_count": 38,
   "id": "97cb1e8c",
   "metadata": {},
   "outputs": [
    {
     "name": "stderr",
     "output_type": "stream",
     "text": [
      "/home/aryuna/micromamba/envs/sharapkova/lib/python3.12/site-packages/scipy/stats/_axis_nan_policy.py:600: UserWarning: Exact p-value calculation does not work if there are zeros. Switching to normal approximation.\n",
      "  return result_to_tuple(hypotest_fun_out(*samples, **kwds))\n"
     ]
    },
    {
     "data": {
      "text/plain": [
       "0.5343097756066597"
      ]
     },
     "execution_count": 38,
     "metadata": {},
     "output_type": "execute_result"
    }
   ],
   "source": [
    "res = stats.wilcoxon(dff1[['time_losing_contact']], dff2[['time_losing_contact']])\n",
    "st = res.statistic\n",
    "st[0]\n",
    "pval = res.pvalue\n",
    "pval[0]"
   ]
  },
  {
   "cell_type": "code",
   "execution_count": 39,
   "id": "199d1ca8",
   "metadata": {},
   "outputs": [
    {
     "name": "stderr",
     "output_type": "stream",
     "text": [
      "/home/aryuna/micromamba/envs/sharapkova/lib/python3.12/site-packages/scipy/stats/_axis_nan_policy.py:600: UserWarning: Exact p-value calculation does not work if there are zeros. Switching to normal approximation.\n",
      "  return result_to_tuple(hypotest_fun_out(*samples, **kwds))\n"
     ]
    },
    {
     "data": {
      "text/plain": [
       "WilcoxonResult(statistic=array([54.5]), pvalue=array([0.29760448]))"
      ]
     },
     "execution_count": 39,
     "metadata": {},
     "output_type": "execute_result"
    }
   ],
   "source": [
    "stats.wilcoxon(dff1[['eye_contact']], dff2[['eye_contact']])"
   ]
  },
  {
   "cell_type": "code",
   "execution_count": 40,
   "id": "f1a3ee59",
   "metadata": {},
   "outputs": [],
   "source": [
    "import seaborn as sns\n",
    "import numpy as np  # для треугольной матрицы в хитмапе, чтобы красиво"
   ]
  },
  {
   "cell_type": "code",
   "execution_count": 41,
   "id": "8b498259",
   "metadata": {},
   "outputs": [],
   "source": [
    "sns.set_theme(style=\"white\")"
   ]
  },
  {
   "cell_type": "code",
   "execution_count": 42,
   "id": "6b9f0104",
   "metadata": {},
   "outputs": [
    {
     "data": {
      "text/html": [
       "<div>\n",
       "<style scoped>\n",
       "    .dataframe tbody tr th:only-of-type {\n",
       "        vertical-align: middle;\n",
       "    }\n",
       "\n",
       "    .dataframe tbody tr th {\n",
       "        vertical-align: top;\n",
       "    }\n",
       "\n",
       "    .dataframe thead th {\n",
       "        text-align: right;\n",
       "    }\n",
       "</style>\n",
       "<table border=\"1\" class=\"dataframe\">\n",
       "  <thead>\n",
       "    <tr style=\"text-align: right;\">\n",
       "      <th></th>\n",
       "      <th>date</th>\n",
       "      <th>duration_secs</th>\n",
       "      <th>eye_contact</th>\n",
       "      <th>time_losing_contact</th>\n",
       "      <th>number_losing</th>\n",
       "      <th>num_preslook</th>\n",
       "      <th>num_fillerwords</th>\n",
       "      <th>num_shitwords</th>\n",
       "      <th>distrib_attent</th>\n",
       "      <th>pass_attent</th>\n",
       "    </tr>\n",
       "  </thead>\n",
       "  <tbody>\n",
       "    <tr>\n",
       "      <th>0</th>\n",
       "      <td>2024-01-09 15:41:00</td>\n",
       "      <td>114</td>\n",
       "      <td>65</td>\n",
       "      <td>8.0</td>\n",
       "      <td>3.0</td>\n",
       "      <td>0.0</td>\n",
       "      <td>11.0</td>\n",
       "      <td>0.0</td>\n",
       "      <td>1</td>\n",
       "      <td>0</td>\n",
       "    </tr>\n",
       "    <tr>\n",
       "      <th>1</th>\n",
       "      <td>2024-01-18 14:50:00</td>\n",
       "      <td>106</td>\n",
       "      <td>46</td>\n",
       "      <td>12.0</td>\n",
       "      <td>5.0</td>\n",
       "      <td>0.0</td>\n",
       "      <td>0.0</td>\n",
       "      <td>0.0</td>\n",
       "      <td>1</td>\n",
       "      <td>0</td>\n",
       "    </tr>\n",
       "    <tr>\n",
       "      <th>2</th>\n",
       "      <td>2023-11-22 17:05:00</td>\n",
       "      <td>232</td>\n",
       "      <td>90</td>\n",
       "      <td>3.0</td>\n",
       "      <td>0.0</td>\n",
       "      <td>0.0</td>\n",
       "      <td>12.0</td>\n",
       "      <td>0.0</td>\n",
       "      <td>1</td>\n",
       "      <td>0</td>\n",
       "    </tr>\n",
       "    <tr>\n",
       "      <th>3</th>\n",
       "      <td>2024-01-09 13:35:00</td>\n",
       "      <td>65</td>\n",
       "      <td>100</td>\n",
       "      <td>0.0</td>\n",
       "      <td>0.0</td>\n",
       "      <td>0.0</td>\n",
       "      <td>2.0</td>\n",
       "      <td>0.0</td>\n",
       "      <td>1</td>\n",
       "      <td>1</td>\n",
       "    </tr>\n",
       "    <tr>\n",
       "      <th>4</th>\n",
       "      <td>2023-11-22 13:39:00</td>\n",
       "      <td>168</td>\n",
       "      <td>98</td>\n",
       "      <td>1.0</td>\n",
       "      <td>0.0</td>\n",
       "      <td>0.0</td>\n",
       "      <td>5.0</td>\n",
       "      <td>0.0</td>\n",
       "      <td>1</td>\n",
       "      <td>1</td>\n",
       "    </tr>\n",
       "  </tbody>\n",
       "</table>\n",
       "</div>"
      ],
      "text/plain": [
       "                 date  duration_secs  eye_contact  time_losing_contact  \\\n",
       "0 2024-01-09 15:41:00            114           65                  8.0   \n",
       "1 2024-01-18 14:50:00            106           46                 12.0   \n",
       "2 2023-11-22 17:05:00            232           90                  3.0   \n",
       "3 2024-01-09 13:35:00             65          100                  0.0   \n",
       "4 2023-11-22 13:39:00            168           98                  1.0   \n",
       "\n",
       "   number_losing  num_preslook  num_fillerwords  num_shitwords  \\\n",
       "0            3.0           0.0             11.0            0.0   \n",
       "1            5.0           0.0              0.0            0.0   \n",
       "2            0.0           0.0             12.0            0.0   \n",
       "3            0.0           0.0              2.0            0.0   \n",
       "4            0.0           0.0              5.0            0.0   \n",
       "\n",
       "   distrib_attent  pass_attent  \n",
       "0               1            0  \n",
       "1               1            0  \n",
       "2               1            0  \n",
       "3               1            1  \n",
       "4               1            1  "
      ]
     },
     "execution_count": 42,
     "metadata": {},
     "output_type": "execute_result"
    }
   ],
   "source": [
    "dff1.head()"
   ]
  },
  {
   "cell_type": "code",
   "execution_count": 56,
   "id": "ec4defdf",
   "metadata": {},
   "outputs": [],
   "source": [
    "from scipy.stats import mannwhitneyu\n",
    "\n",
    "#stats.wilcoxon(lsk[lsk['pass_attent']==0]['num_fillerwords'], lsk[lsk['pass_attent']==1]['num_fillerwords'])\n",
    "pval = mannwhitneyu(lsk[lsk['pass_attent']==0]['num_fillerwords'], lsk[lsk['pass_attent']==1]['num_fillerwords'])[1]\n",
    "u = mannwhitneyu(lsk[lsk['pass_attent']==0]['num_fillerwords'], lsk[lsk['pass_attent']==1]['num_fillerwords'])[0]"
   ]
  },
  {
   "cell_type": "code",
   "execution_count": 65,
   "id": "beb83538",
   "metadata": {},
   "outputs": [
    {
     "data": {
      "text/plain": [
       "Text(0.7, 52, 'p value = 0.002')"
      ]
     },
     "execution_count": 65,
     "metadata": {},
     "output_type": "execute_result"
    },
    {
     "data": {
      "image/png": "[encoded data removed]",
      "text/plain": [
       "<Figure size 640x480 with 1 Axes>"
      ]
     },
     "metadata": {},
     "output_type": "display_data"
    }
   ],
   "source": [
    "import matplotlib.pyplot as plt\n",
    "plot1 = sns.boxplot(data=lsk, x=\"pass_attent\", y=\"num_fillerwords\")\n",
    "plot1.set_title('Attention loose vs maintaining attention')\n",
    "plot1.set(xlabel='Maintaining attention', ylabel='Number of filler words ')\n",
    "#plot1.legend(loc = best, )\n",
    "#f'p value = {pval:.3f}'\n",
    "plt.text(0.7, 56, f'U = {u:.1f}', rotation = 0, fontsize = 11)         # Size\n",
    "      # Style)\n",
    "\n",
    "plt.text(0.7, 52, f'p value = {pval:.3f}', rotation = 0, fontsize = 11)         # Size\n",
    "      # Style)"
   ]
  },
  {
   "cell_type": "code",
   "execution_count": 71,
   "id": "05875d55",
   "metadata": {},
   "outputs": [
    {
     "name": "stdout",
     "output_type": "stream",
     "text": [
      "{0.8239269463283861, 30.5}\n"
     ]
    },
    {
     "name": "stderr",
     "output_type": "stream",
     "text": [
      "/home/aryuna/micromamba/envs/sharapkova/lib/python3.12/site-packages/scipy/stats/_axis_nan_policy.py:531: UserWarning: Exact p-value calculation does not work if there are zeros. Switching to normal approximation.\n",
      "  res = hypotest_fun_out(*samples, **kwds)\n"
     ]
    }
   ],
   "source": [
    "pval = stats.wilcoxon(dff1[dff1['pass_attent']==0]['num_fillerwords'], dff2[dff1['pass_attent']==0]['num_fillerwords'])[1]\n",
    "u = stats.wilcoxon(dff1[dff1['pass_attent']==0]['num_fillerwords'], dff2[dff1['pass_attent']==0]['num_fillerwords'])[0]\n",
    "print({u,pval})"
   ]
  },
  {
   "cell_type": "code",
   "execution_count": 72,
   "id": "7b22cc38",
   "metadata": {},
   "outputs": [
    {
     "name": "stderr",
     "output_type": "stream",
     "text": [
      "/home/aryuna/micromamba/envs/sharapkova/lib/python3.12/site-packages/scipy/stats/_axis_nan_policy.py:531: UserWarning: Sample size too small for normal approximation.\n",
      "  res = hypotest_fun_out(*samples, **kwds)\n"
     ]
    },
    {
     "data": {
      "text/plain": [
       "WilcoxonResult(statistic=5.0, pvalue=0.24886387493792206)"
      ]
     },
     "execution_count": 72,
     "metadata": {},
     "output_type": "execute_result"
    }
   ],
   "source": [
    "stats.wilcoxon(dff1[dff1['pass_attent']==1]['num_fillerwords'], dff2[dff1['pass_attent']==1]['num_fillerwords'])"
   ]
  },
  {
   "cell_type": "code",
   "execution_count": 82,
   "id": "3b921154",
   "metadata": {},
   "outputs": [
    {
     "data": {
      "text/plain": [
       "0.2890625"
      ]
     },
     "execution_count": 82,
     "metadata": {},
     "output_type": "execute_result"
    }
   ],
   "source": [
    "from statsmodels.stats.contingency_tables import mcnemar\n",
    "data_crosstab = pd.crosstab(dff1['pass_attent'], \n",
    "                            dff2['pass_attent'],  \n",
    "                               margins = False) \n",
    "data_crosstab.values\n",
    "result = mcnemar(data_crosstab.values, exact=True)\n",
    "result.pvalue"
   ]
  },
  {
   "cell_type": "code",
   "execution_count": null,
   "id": "dc6ddc91",
   "metadata": {},
   "outputs": [],
   "source": [
    "result.statistic"
   ]
  },
  {
   "cell_type": "code",
   "execution_count": 91,
   "id": "8c889ef8",
   "metadata": {},
   "outputs": [
    {
     "data": {
      "text/plain": [
       "[Text(0.5, 19.049999999999997, 'Maintaining attention\\nChi squared = 2.0\\np value = 0.289')]"
      ]
     },
     "execution_count": 91,
     "metadata": {},
     "output_type": "execute_result"
    },
    {
     "data": {
      "image/png": "[encoded data removed]",
      "text/plain": [
       "<Figure size 640x480 with 2 Axes>"
      ]
     },
     "metadata": {},
     "output_type": "display_data"
    }
   ],
   "source": [
    "plot2 = sns.heatmap(data_crosstab.values, annot=True, fmt='.2f', cmap=\"YlGnBu\", vmin=0.0, vmax=11)\n",
    "\n",
    "plot2.set_title('Maintaining attention contingency table')\n",
    "plot2.set(xlabel='Maintaining attention\\n' + f'Chi squared = {result.statistic:.1f}\\n'+f'p value = {result.pvalue:.3f}')\n",
    "#plot1.legend(loc = best, )\n",
    "#f'p value = {pval:.3f}'"
   ]
  },
  {
   "cell_type": "code",
   "execution_count": 43,
   "id": "f0d231dc",
   "metadata": {},
   "outputs": [
    {
     "data": {
      "text/plain": [
       "Index(['date', 'duration_secs', 'eye_contact', 'time_losing_contact',\n",
       "       'number_losing', 'num_preslook', 'num_fillerwords', 'num_shitwords',\n",
       "       'distrib_attent', 'pass_attent'],\n",
       "      dtype='object')"
      ]
     },
     "execution_count": 43,
     "metadata": {},
     "output_type": "execute_result"
    }
   ],
   "source": [
    "dff1.columns"
   ]
  },
  {
   "cell_type": "code",
   "execution_count": 39,
   "id": "1803679e",
   "metadata": {},
   "outputs": [],
   "source": [
    "corr_matrix1 = dff1[['duration_secs', 'eye_contact', 'time_losing_contact',\n",
    "       'number_losing', 'num_preslook', 'num_fillerwords']].corr(method = 'spearman')\n",
    "corr_matrix2 = dff2[['duration_secs','eye_contact', 'time_losing_contact',\n",
    "       'number_losing', 'num_preslook', 'num_fillerwords']].corr(method = 'spearman')\n",
    "\n",
    "num1 = dff1[['duration_secs', 'eye_contact', 'time_losing_contact',\n",
    "       'number_losing', 'num_preslook', 'num_fillerwords']]\n",
    "num2 = dff2[['duration_secs','eye_contact', 'time_losing_contact',\n",
    "       'number_losing', 'num_preslook', 'num_fillerwords']]"
   ]
  },
  {
   "cell_type": "code",
   "execution_count": 40,
   "id": "f09d0761",
   "metadata": {},
   "outputs": [
    {
     "data": {
      "text/plain": [
       "<Axes: >"
      ]
     },
     "execution_count": 40,
     "metadata": {},
     "output_type": "execute_result"
    },
    {
     "data": {
      "image/png": "[encoded data removed]",
      "text/plain": [
       "<Figure size 640x480 with 2 Axes>"
      ]
     },
     "metadata": {},
     "output_type": "display_data"
    }
   ],
   "source": [
    "#sns.heatmap(corr_matrix, annot=True)\n",
    "sns.heatmap(corr_matrix1, annot=True)\n"
   ]
  },
  {
   "cell_type": "code",
   "execution_count": 41,
   "id": "ace63fed",
   "metadata": {},
   "outputs": [
    {
     "data": {
      "text/plain": [
       "<Axes: >"
      ]
     },
     "execution_count": 41,
     "metadata": {},
     "output_type": "execute_result"
    },
    {
     "data": {
      "image/png": "[encoded data removed]",
      "text/plain": [
       "<Figure size 640x480 with 2 Axes>"
      ]
     },
     "metadata": {},
     "output_type": "display_data"
    }
   ],
   "source": [
    "sns.heatmap(corr_matrix2, annot=True)"
   ]
  },
  {
   "cell_type": "code",
   "execution_count": 175,
   "id": "88893f80",
   "metadata": {},
   "outputs": [],
   "source": [
    "from scipy.stats import spearmanr\n",
    "import pandas as pd\n",
    "import numpy as np\n",
    "import seaborn as sns\n",
    "from itertools import product\n",
    "\n",
    "def compute_corr_and_p(df1, df2):\n",
    "  corrs = pd.DataFrame(index=df1.columns, columns=df2.columns, dtype=np.float64)\n",
    "  pvals = corrs.copy()\n",
    "  \n",
    "  for i, j in product(df1.columns, df2.columns):\n",
    "    corrs.loc[i,j], pvals.loc[i,j] = spearmanr(df1[i], df2[j])\n",
    "  \n",
    "  return corrs, pvals\n",
    "\n",
    "def plot(corrs, pvals, siglevel=.01):\n",
    "  #mask = (pvals.values >= siglevel) + (np.zeros_like(corrs, dtype=bool))\n",
    "  \n",
    "  mask = np.triu(np.ones_like(corrs, dtype=bool))\n",
    "  #mask[np.triu_indices_from(mask) | (pvals.values >= siglevel) + (np.zeros_like(corrs, dtype=bool))] = True\n",
    "  mask |= np.abs(pvals) >= siglevel\n",
    "  #np.fill_diagonal(mask, True)\n",
    "\n",
    "  cmap = sns.diverging_palette(220, 10, as_cmap=True)\n",
    "\n",
    "  #sns.heatmap(corrs, annot=True, mask=mask, cmap=cmap, center=0, square=True, vmin=-1, vmax=1,linewidths=.5,\n",
    "  #         cbar_kws={'shrink': .7})\n",
    "  #https://stackoverflow.com/questions/66171071/how-to-restrict-a-correlation-heatmap-to-interesting-cells-and-add-stars-to-mark\n",
    "\n",
    "  corrs = corrs[~mask]  # fill in NaN in the non-desired cells\n",
    "\n",
    "  remove_empty_rows_and_cols = False\n",
    "  if remove_empty_rows_and_cols:\n",
    "      wanted_cols = np.flatnonzero(np.count_nonzero(~mask, axis=1))\n",
    "      wanted_rows = np.flatnonzero(np.count_nonzero(~mask, axis=0))\n",
    "      corrs = corrs.iloc[wanted_cols, wanted_rows]\n",
    "\n",
    "  heatmap = sns.heatmap(corrs, vmin=-1, vmax=1, annot=True, cmap=cmap, center=0,linewidths=.5,cbar_kws={'shrink': .7})\n",
    "  heatmap.set_title('Triangle heatmap with only \\n significant correlations (p value < 0.05)', fontdict={'fontsize': 17}, pad=16)\n",
    "  return heatmap"
   ]
  },
  {
   "cell_type": "code",
   "execution_count": 176,
   "id": "9a0d46a5",
   "metadata": {},
   "outputs": [
    {
     "data": {
      "image/png": "[encoded data removed]",
      "text/plain": [
       "<Figure size 640x480 with 2 Axes>"
      ]
     },
     "metadata": {},
     "output_type": "display_data"
    }
   ],
   "source": [
    "sns.set_theme(style=\"white\")\n",
    "corrs1, pvals1 = compute_corr_and_p(num1, num1)\n",
    "np.zeros_like(corrs1, dtype=bool)\n",
    "heat1 = plot(corrs1, pvals1 ,siglevel=0.05)\n",
    "#np.zeros_like(num1)\n",
    "\n",
    "#heat1.set_title('First presentation heatmap with only significant correlations (p_value < 0.05)')"
   ]
  },
  {
   "cell_type": "code",
   "execution_count": 177,
   "id": "dd65880d",
   "metadata": {},
   "outputs": [
    {
     "data": {
      "text/plain": [
       "<Axes: title={'center': 'Triangle heatmap with only \\n significant correlations (p value < 0.05)'}>"
      ]
     },
     "execution_count": 177,
     "metadata": {},
     "output_type": "execute_result"
    },
    {
     "data": {
      "image/png": "[encoded data removed]",
      "text/plain": [
       "<Figure size 640x480 with 2 Axes>"
      ]
     },
     "metadata": {},
     "output_type": "display_data"
    }
   ],
   "source": [
    "corrs2, pvals2 = compute_corr_and_p(num2, num2)\n",
    "plot(corrs2, pvals2 ,siglevel=0.05)\n",
    "#np.zeros_like(num1)"
   ]
  },
  {
   "cell_type": "code",
   "execution_count": 42,
   "id": "e9f180a6",
   "metadata": {},
   "outputs": [
    {
     "data": {
      "text/html": [
       "<div>\n",
       "<style scoped>\n",
       "    .dataframe tbody tr th:only-of-type {\n",
       "        vertical-align: middle;\n",
       "    }\n",
       "\n",
       "    .dataframe tbody tr th {\n",
       "        vertical-align: top;\n",
       "    }\n",
       "\n",
       "    .dataframe thead th {\n",
       "        text-align: right;\n",
       "    }\n",
       "</style>\n",
       "<table border=\"1\" class=\"dataframe\">\n",
       "  <thead>\n",
       "    <tr style=\"text-align: right;\">\n",
       "      <th></th>\n",
       "      <th>T</th>\n",
       "      <th>dof</th>\n",
       "      <th>alternative</th>\n",
       "      <th>p-val</th>\n",
       "      <th>CI95%</th>\n",
       "      <th>cohen-d</th>\n",
       "      <th>BF10</th>\n",
       "      <th>power</th>\n",
       "    </tr>\n",
       "  </thead>\n",
       "  <tbody>\n",
       "    <tr>\n",
       "      <th>T-test</th>\n",
       "      <td>-0.525639</td>\n",
       "      <td>52</td>\n",
       "      <td>two-sided</td>\n",
       "      <td>0.601374</td>\n",
       "      <td>[-19.27, 11.27]</td>\n",
       "      <td>0.143061</td>\n",
       "      <td>0.307</td>\n",
       "      <td>0.081018</td>\n",
       "    </tr>\n",
       "  </tbody>\n",
       "</table>\n",
       "</div>"
      ],
      "text/plain": [
       "               T  dof alternative     p-val            CI95%   cohen-d   BF10  \\\n",
       "T-test -0.525639   52   two-sided  0.601374  [-19.27, 11.27]  0.143061  0.307   \n",
       "\n",
       "           power  \n",
       "T-test  0.081018  "
      ]
     },
     "execution_count": 42,
     "metadata": {},
     "output_type": "execute_result"
    }
   ],
   "source": [
    "x = dff1['eye_contact'].tolist()\n",
    "y = dff2['eye_contact'].tolist()\n",
    "pg.ttest(x,y)"
   ]
  },
  {
   "cell_type": "code",
   "execution_count": 43,
   "id": "a074dc0e",
   "metadata": {},
   "outputs": [
    {
     "data": {
      "text/html": [
       "<div>\n",
       "<style scoped>\n",
       "    .dataframe tbody tr th:only-of-type {\n",
       "        vertical-align: middle;\n",
       "    }\n",
       "\n",
       "    .dataframe tbody tr th {\n",
       "        vertical-align: top;\n",
       "    }\n",
       "\n",
       "    .dataframe thead th {\n",
       "        text-align: right;\n",
       "    }\n",
       "</style>\n",
       "<table border=\"1\" class=\"dataframe\">\n",
       "  <thead>\n",
       "    <tr style=\"text-align: right;\">\n",
       "      <th></th>\n",
       "      <th>X</th>\n",
       "      <th>Y</th>\n",
       "      <th>method</th>\n",
       "      <th>alternative</th>\n",
       "      <th>n</th>\n",
       "      <th>r</th>\n",
       "      <th>CI95%</th>\n",
       "      <th>p-unc</th>\n",
       "      <th>power</th>\n",
       "    </tr>\n",
       "  </thead>\n",
       "  <tbody>\n",
       "    <tr>\n",
       "      <th>4</th>\n",
       "      <td>duration_secs</td>\n",
       "      <td>num_fillerwords</td>\n",
       "      <td>spearman</td>\n",
       "      <td>two-sided</td>\n",
       "      <td>27</td>\n",
       "      <td>0.629</td>\n",
       "      <td>[0.33, 0.81]</td>\n",
       "      <td>0.000</td>\n",
       "      <td>0.957</td>\n",
       "    </tr>\n",
       "    <tr>\n",
       "      <th>5</th>\n",
       "      <td>eye_contact</td>\n",
       "      <td>time_losing_contact</td>\n",
       "      <td>spearman</td>\n",
       "      <td>two-sided</td>\n",
       "      <td>27</td>\n",
       "      <td>-0.953</td>\n",
       "      <td>[-0.98, -0.9]</td>\n",
       "      <td>0.000</td>\n",
       "      <td>1.000</td>\n",
       "    </tr>\n",
       "    <tr>\n",
       "      <th>6</th>\n",
       "      <td>eye_contact</td>\n",
       "      <td>number_losing</td>\n",
       "      <td>spearman</td>\n",
       "      <td>two-sided</td>\n",
       "      <td>27</td>\n",
       "      <td>-0.820</td>\n",
       "      <td>[-0.91, -0.64]</td>\n",
       "      <td>0.000</td>\n",
       "      <td>1.000</td>\n",
       "    </tr>\n",
       "    <tr>\n",
       "      <th>9</th>\n",
       "      <td>time_losing_contact</td>\n",
       "      <td>number_losing</td>\n",
       "      <td>spearman</td>\n",
       "      <td>two-sided</td>\n",
       "      <td>27</td>\n",
       "      <td>0.794</td>\n",
       "      <td>[0.59, 0.9]</td>\n",
       "      <td>0.000</td>\n",
       "      <td>1.000</td>\n",
       "    </tr>\n",
       "    <tr>\n",
       "      <th>10</th>\n",
       "      <td>time_losing_contact</td>\n",
       "      <td>num_preslook</td>\n",
       "      <td>spearman</td>\n",
       "      <td>two-sided</td>\n",
       "      <td>27</td>\n",
       "      <td>0.390</td>\n",
       "      <td>[0.01, 0.67]</td>\n",
       "      <td>0.044</td>\n",
       "      <td>0.536</td>\n",
       "    </tr>\n",
       "    <tr>\n",
       "      <th>12</th>\n",
       "      <td>number_losing</td>\n",
       "      <td>num_preslook</td>\n",
       "      <td>spearman</td>\n",
       "      <td>two-sided</td>\n",
       "      <td>27</td>\n",
       "      <td>0.466</td>\n",
       "      <td>[0.1, 0.72]</td>\n",
       "      <td>0.014</td>\n",
       "      <td>0.710</td>\n",
       "    </tr>\n",
       "  </tbody>\n",
       "</table>\n",
       "</div>"
      ],
      "text/plain": [
       "                      X                    Y    method alternative   n      r  \\\n",
       "4         duration_secs      num_fillerwords  spearman   two-sided  27  0.629   \n",
       "5           eye_contact  time_losing_contact  spearman   two-sided  27 -0.953   \n",
       "6           eye_contact        number_losing  spearman   two-sided  27 -0.820   \n",
       "9   time_losing_contact        number_losing  spearman   two-sided  27  0.794   \n",
       "10  time_losing_contact         num_preslook  spearman   two-sided  27  0.390   \n",
       "12        number_losing         num_preslook  spearman   two-sided  27  0.466   \n",
       "\n",
       "             CI95%  p-unc  power  \n",
       "4     [0.33, 0.81]  0.000  0.957  \n",
       "5    [-0.98, -0.9]  0.000  1.000  \n",
       "6   [-0.91, -0.64]  0.000  1.000  \n",
       "9      [0.59, 0.9]  0.000  1.000  \n",
       "10    [0.01, 0.67]  0.044  0.536  \n",
       "12     [0.1, 0.72]  0.014  0.710  "
      ]
     },
     "execution_count": 43,
     "metadata": {},
     "output_type": "execute_result"
    }
   ],
   "source": [
    "corrs1 = pg.pairwise_corr(num1, method='spearman').round(3)\n",
    "corrs1[corrs1['p-unc']<0.05]"
   ]
  },
  {
   "cell_type": "code",
   "execution_count": 44,
   "id": "66ae251b",
   "metadata": {},
   "outputs": [
    {
     "data": {
      "text/html": [
       "<div>\n",
       "<style scoped>\n",
       "    .dataframe tbody tr th:only-of-type {\n",
       "        vertical-align: middle;\n",
       "    }\n",
       "\n",
       "    .dataframe tbody tr th {\n",
       "        vertical-align: top;\n",
       "    }\n",
       "\n",
       "    .dataframe thead th {\n",
       "        text-align: right;\n",
       "    }\n",
       "</style>\n",
       "<table border=\"1\" class=\"dataframe\">\n",
       "  <thead>\n",
       "    <tr style=\"text-align: right;\">\n",
       "      <th></th>\n",
       "      <th>X</th>\n",
       "      <th>Y</th>\n",
       "      <th>method</th>\n",
       "      <th>alternative</th>\n",
       "      <th>n</th>\n",
       "      <th>r</th>\n",
       "      <th>CI95%</th>\n",
       "      <th>p-unc</th>\n",
       "      <th>power</th>\n",
       "    </tr>\n",
       "  </thead>\n",
       "  <tbody>\n",
       "    <tr>\n",
       "      <th>4</th>\n",
       "      <td>duration_secs</td>\n",
       "      <td>num_fillerwords</td>\n",
       "      <td>spearman</td>\n",
       "      <td>two-sided</td>\n",
       "      <td>27</td>\n",
       "      <td>0.464</td>\n",
       "      <td>[0.1, 0.72]</td>\n",
       "      <td>0.015</td>\n",
       "      <td>0.705</td>\n",
       "    </tr>\n",
       "    <tr>\n",
       "      <th>5</th>\n",
       "      <td>eye_contact</td>\n",
       "      <td>time_losing_contact</td>\n",
       "      <td>spearman</td>\n",
       "      <td>two-sided</td>\n",
       "      <td>27</td>\n",
       "      <td>-0.944</td>\n",
       "      <td>[-0.97, -0.88]</td>\n",
       "      <td>0.000</td>\n",
       "      <td>1.000</td>\n",
       "    </tr>\n",
       "    <tr>\n",
       "      <th>6</th>\n",
       "      <td>eye_contact</td>\n",
       "      <td>number_losing</td>\n",
       "      <td>spearman</td>\n",
       "      <td>two-sided</td>\n",
       "      <td>27</td>\n",
       "      <td>-0.714</td>\n",
       "      <td>[-0.86, -0.46]</td>\n",
       "      <td>0.000</td>\n",
       "      <td>0.994</td>\n",
       "    </tr>\n",
       "    <tr>\n",
       "      <th>7</th>\n",
       "      <td>eye_contact</td>\n",
       "      <td>num_preslook</td>\n",
       "      <td>spearman</td>\n",
       "      <td>two-sided</td>\n",
       "      <td>27</td>\n",
       "      <td>-0.460</td>\n",
       "      <td>[-0.72, -0.1]</td>\n",
       "      <td>0.016</td>\n",
       "      <td>0.697</td>\n",
       "    </tr>\n",
       "    <tr>\n",
       "      <th>9</th>\n",
       "      <td>time_losing_contact</td>\n",
       "      <td>number_losing</td>\n",
       "      <td>spearman</td>\n",
       "      <td>two-sided</td>\n",
       "      <td>27</td>\n",
       "      <td>0.727</td>\n",
       "      <td>[0.48, 0.87]</td>\n",
       "      <td>0.000</td>\n",
       "      <td>0.996</td>\n",
       "    </tr>\n",
       "    <tr>\n",
       "      <th>10</th>\n",
       "      <td>time_losing_contact</td>\n",
       "      <td>num_preslook</td>\n",
       "      <td>spearman</td>\n",
       "      <td>two-sided</td>\n",
       "      <td>27</td>\n",
       "      <td>0.513</td>\n",
       "      <td>[0.17, 0.75]</td>\n",
       "      <td>0.006</td>\n",
       "      <td>0.805</td>\n",
       "    </tr>\n",
       "    <tr>\n",
       "      <th>12</th>\n",
       "      <td>number_losing</td>\n",
       "      <td>num_preslook</td>\n",
       "      <td>spearman</td>\n",
       "      <td>two-sided</td>\n",
       "      <td>27</td>\n",
       "      <td>0.684</td>\n",
       "      <td>[0.41, 0.84]</td>\n",
       "      <td>0.000</td>\n",
       "      <td>0.986</td>\n",
       "    </tr>\n",
       "  </tbody>\n",
       "</table>\n",
       "</div>"
      ],
      "text/plain": [
       "                      X                    Y    method alternative   n      r  \\\n",
       "4         duration_secs      num_fillerwords  spearman   two-sided  27  0.464   \n",
       "5           eye_contact  time_losing_contact  spearman   two-sided  27 -0.944   \n",
       "6           eye_contact        number_losing  spearman   two-sided  27 -0.714   \n",
       "7           eye_contact         num_preslook  spearman   two-sided  27 -0.460   \n",
       "9   time_losing_contact        number_losing  spearman   two-sided  27  0.727   \n",
       "10  time_losing_contact         num_preslook  spearman   two-sided  27  0.513   \n",
       "12        number_losing         num_preslook  spearman   two-sided  27  0.684   \n",
       "\n",
       "             CI95%  p-unc  power  \n",
       "4      [0.1, 0.72]  0.015  0.705  \n",
       "5   [-0.97, -0.88]  0.000  1.000  \n",
       "6   [-0.86, -0.46]  0.000  0.994  \n",
       "7    [-0.72, -0.1]  0.016  0.697  \n",
       "9     [0.48, 0.87]  0.000  0.996  \n",
       "10    [0.17, 0.75]  0.006  0.805  \n",
       "12    [0.41, 0.84]  0.000  0.986  "
      ]
     },
     "execution_count": 44,
     "metadata": {},
     "output_type": "execute_result"
    }
   ],
   "source": [
    "corrs2 = pg.pairwise_corr(num2, method='spearman').round(3)\n",
    "corrs2[corrs2['p-unc']<0.05]"
   ]
  },
  {
   "cell_type": "code",
   "execution_count": 45,
   "id": "b3593a34",
   "metadata": {},
   "outputs": [],
   "source": [
    "corrs1.to_csv('corrtable1.tsv', sep = '\\t', index = False)\n",
    "corrs2.to_csv('corrtable2.tsv', sep = '\\t', index = False)"
   ]
  },
  {
   "cell_type": "code",
   "execution_count": 46,
   "id": "8abef4c6",
   "metadata": {},
   "outputs": [
    {
     "name": "stderr",
     "output_type": "stream",
     "text": [
      "/home/aryuna/micromamba/envs/sharapkova/lib/python3.12/site-packages/pingouin/correlation.py:1116: FutureWarning: DataFrame.applymap has been deprecated. Use DataFrame.map instead.\n",
      "  mat_upper = mat_upper.applymap(replace_pval)\n"
     ]
    },
    {
     "data": {
      "text/html": [
       "<div>\n",
       "<style scoped>\n",
       "    .dataframe tbody tr th:only-of-type {\n",
       "        vertical-align: middle;\n",
       "    }\n",
       "\n",
       "    .dataframe tbody tr th {\n",
       "        vertical-align: top;\n",
       "    }\n",
       "\n",
       "    .dataframe thead th {\n",
       "        text-align: right;\n",
       "    }\n",
       "</style>\n",
       "<table border=\"1\" class=\"dataframe\">\n",
       "  <thead>\n",
       "    <tr style=\"text-align: right;\">\n",
       "      <th></th>\n",
       "      <th>duration_secs</th>\n",
       "      <th>eye_contact</th>\n",
       "      <th>time_losing_contact</th>\n",
       "      <th>number_losing</th>\n",
       "      <th>num_preslook</th>\n",
       "      <th>num_fillerwords</th>\n",
       "    </tr>\n",
       "  </thead>\n",
       "  <tbody>\n",
       "    <tr>\n",
       "      <th>duration_secs</th>\n",
       "      <td>-</td>\n",
       "      <td></td>\n",
       "      <td></td>\n",
       "      <td></td>\n",
       "      <td></td>\n",
       "      <td>***</td>\n",
       "    </tr>\n",
       "    <tr>\n",
       "      <th>eye_contact</th>\n",
       "      <td>-0.067</td>\n",
       "      <td>-</td>\n",
       "      <td>***</td>\n",
       "      <td>***</td>\n",
       "      <td></td>\n",
       "      <td></td>\n",
       "    </tr>\n",
       "    <tr>\n",
       "      <th>time_losing_contact</th>\n",
       "      <td>0.163</td>\n",
       "      <td>-0.953</td>\n",
       "      <td>-</td>\n",
       "      <td>***</td>\n",
       "      <td>*</td>\n",
       "      <td></td>\n",
       "    </tr>\n",
       "    <tr>\n",
       "      <th>number_losing</th>\n",
       "      <td>0.058</td>\n",
       "      <td>-0.82</td>\n",
       "      <td>0.794</td>\n",
       "      <td>-</td>\n",
       "      <td>*</td>\n",
       "      <td></td>\n",
       "    </tr>\n",
       "    <tr>\n",
       "      <th>num_preslook</th>\n",
       "      <td>0.169</td>\n",
       "      <td>-0.299</td>\n",
       "      <td>0.39</td>\n",
       "      <td>0.466</td>\n",
       "      <td>-</td>\n",
       "      <td></td>\n",
       "    </tr>\n",
       "    <tr>\n",
       "      <th>num_fillerwords</th>\n",
       "      <td>0.629</td>\n",
       "      <td>-0.337</td>\n",
       "      <td>0.337</td>\n",
       "      <td>0.218</td>\n",
       "      <td>0.208</td>\n",
       "      <td>-</td>\n",
       "    </tr>\n",
       "  </tbody>\n",
       "</table>\n",
       "</div>"
      ],
      "text/plain": [
       "                    duration_secs eye_contact time_losing_contact  \\\n",
       "duration_secs                   -                                   \n",
       "eye_contact                -0.067           -                 ***   \n",
       "time_losing_contact         0.163      -0.953                   -   \n",
       "number_losing               0.058       -0.82               0.794   \n",
       "num_preslook                0.169      -0.299                0.39   \n",
       "num_fillerwords             0.629      -0.337               0.337   \n",
       "\n",
       "                    number_losing num_preslook num_fillerwords  \n",
       "duration_secs                                              ***  \n",
       "eye_contact                   ***                               \n",
       "time_losing_contact           ***            *                  \n",
       "number_losing                   -            *                  \n",
       "num_preslook                0.466            -                  \n",
       "num_fillerwords             0.218        0.208               -  "
      ]
     },
     "execution_count": 46,
     "metadata": {},
     "output_type": "execute_result"
    }
   ],
   "source": [
    "rcorr1 = pg.rcorr(num1, method='spearman')\n",
    "rcorr1.to_csv('spearman_firstpres.tsv', sep = '\\t', index = False)\n",
    "rcorr1"
   ]
  },
  {
   "cell_type": "code",
   "execution_count": 47,
   "id": "8502aa36",
   "metadata": {},
   "outputs": [
    {
     "name": "stderr",
     "output_type": "stream",
     "text": [
      "/home/aryuna/micromamba/envs/sharapkova/lib/python3.12/site-packages/pingouin/correlation.py:1116: FutureWarning: DataFrame.applymap has been deprecated. Use DataFrame.map instead.\n",
      "  mat_upper = mat_upper.applymap(replace_pval)\n"
     ]
    },
    {
     "data": {
      "text/html": [
       "<div>\n",
       "<style scoped>\n",
       "    .dataframe tbody tr th:only-of-type {\n",
       "        vertical-align: middle;\n",
       "    }\n",
       "\n",
       "    .dataframe tbody tr th {\n",
       "        vertical-align: top;\n",
       "    }\n",
       "\n",
       "    .dataframe thead th {\n",
       "        text-align: right;\n",
       "    }\n",
       "</style>\n",
       "<table border=\"1\" class=\"dataframe\">\n",
       "  <thead>\n",
       "    <tr style=\"text-align: right;\">\n",
       "      <th></th>\n",
       "      <th>duration_secs</th>\n",
       "      <th>eye_contact</th>\n",
       "      <th>time_losing_contact</th>\n",
       "      <th>number_losing</th>\n",
       "      <th>num_preslook</th>\n",
       "      <th>num_fillerwords</th>\n",
       "    </tr>\n",
       "  </thead>\n",
       "  <tbody>\n",
       "    <tr>\n",
       "      <th>duration_secs</th>\n",
       "      <td>-</td>\n",
       "      <td></td>\n",
       "      <td></td>\n",
       "      <td></td>\n",
       "      <td></td>\n",
       "      <td>*</td>\n",
       "    </tr>\n",
       "    <tr>\n",
       "      <th>eye_contact</th>\n",
       "      <td>-0.034</td>\n",
       "      <td>-</td>\n",
       "      <td>***</td>\n",
       "      <td>***</td>\n",
       "      <td>*</td>\n",
       "      <td></td>\n",
       "    </tr>\n",
       "    <tr>\n",
       "      <th>time_losing_contact</th>\n",
       "      <td>0.047</td>\n",
       "      <td>-0.944</td>\n",
       "      <td>-</td>\n",
       "      <td>***</td>\n",
       "      <td>**</td>\n",
       "      <td></td>\n",
       "    </tr>\n",
       "    <tr>\n",
       "      <th>number_losing</th>\n",
       "      <td>-0.013</td>\n",
       "      <td>-0.714</td>\n",
       "      <td>0.727</td>\n",
       "      <td>-</td>\n",
       "      <td>***</td>\n",
       "      <td></td>\n",
       "    </tr>\n",
       "    <tr>\n",
       "      <th>num_preslook</th>\n",
       "      <td>0.089</td>\n",
       "      <td>-0.46</td>\n",
       "      <td>0.513</td>\n",
       "      <td>0.684</td>\n",
       "      <td>-</td>\n",
       "      <td></td>\n",
       "    </tr>\n",
       "    <tr>\n",
       "      <th>num_fillerwords</th>\n",
       "      <td>0.464</td>\n",
       "      <td>0.037</td>\n",
       "      <td>0.049</td>\n",
       "      <td>-0.295</td>\n",
       "      <td>-0.042</td>\n",
       "      <td>-</td>\n",
       "    </tr>\n",
       "  </tbody>\n",
       "</table>\n",
       "</div>"
      ],
      "text/plain": [
       "                    duration_secs eye_contact time_losing_contact  \\\n",
       "duration_secs                   -                                   \n",
       "eye_contact                -0.034           -                 ***   \n",
       "time_losing_contact         0.047      -0.944                   -   \n",
       "number_losing              -0.013      -0.714               0.727   \n",
       "num_preslook                0.089       -0.46               0.513   \n",
       "num_fillerwords             0.464       0.037               0.049   \n",
       "\n",
       "                    number_losing num_preslook num_fillerwords  \n",
       "duration_secs                                                *  \n",
       "eye_contact                   ***            *                  \n",
       "time_losing_contact           ***           **                  \n",
       "number_losing                   -          ***                  \n",
       "num_preslook                0.684            -                  \n",
       "num_fillerwords            -0.295       -0.042               -  "
      ]
     },
     "execution_count": 47,
     "metadata": {},
     "output_type": "execute_result"
    }
   ],
   "source": [
    "rcorr2 = pg.rcorr(num2, method='spearman')\n",
    "rcorr2.to_csv('spearman_secondpres.tsv', sep = '\\t', index = False)\n",
    "rcorr2"
   ]
  },
  {
   "cell_type": "code",
   "execution_count": 48,
   "id": "6fb89a3e",
   "metadata": {},
   "outputs": [
    {
     "name": "stderr",
     "output_type": "stream",
     "text": [
      "/home/aryuna/micromamba/envs/sharapkova/lib/python3.12/site-packages/scipy/stats/_axis_nan_policy.py:531: UserWarning: Exact p-value calculation does not work if there are zeros. Switching to normal approximation.\n",
      "  res = hypotest_fun_out(*samples, **kwds)\n"
     ]
    },
    {
     "data": {
      "text/html": [
       "<div>\n",
       "<style scoped>\n",
       "    .dataframe tbody tr th:only-of-type {\n",
       "        vertical-align: middle;\n",
       "    }\n",
       "\n",
       "    .dataframe tbody tr th {\n",
       "        vertical-align: top;\n",
       "    }\n",
       "\n",
       "    .dataframe thead th {\n",
       "        text-align: right;\n",
       "    }\n",
       "</style>\n",
       "<table border=\"1\" class=\"dataframe\">\n",
       "  <thead>\n",
       "    <tr style=\"text-align: right;\">\n",
       "      <th></th>\n",
       "      <th>W-val</th>\n",
       "      <th>alternative</th>\n",
       "      <th>p-val</th>\n",
       "      <th>RBC</th>\n",
       "      <th>CLES</th>\n",
       "    </tr>\n",
       "  </thead>\n",
       "  <tbody>\n",
       "    <tr>\n",
       "      <th>Wilcoxon</th>\n",
       "      <td>54.5</td>\n",
       "      <td>two-sided</td>\n",
       "      <td>0.30872</td>\n",
       "      <td>-0.287582</td>\n",
       "      <td>0.470508</td>\n",
       "    </tr>\n",
       "  </tbody>\n",
       "</table>\n",
       "</div>"
      ],
      "text/plain": [
       "          W-val alternative    p-val       RBC      CLES\n",
       "Wilcoxon   54.5   two-sided  0.30872 -0.287582  0.470508"
      ]
     },
     "execution_count": 48,
     "metadata": {},
     "output_type": "execute_result"
    }
   ],
   "source": [
    "x = dff1['eye_contact'].tolist()\n",
    "y = dff2['eye_contact'].tolist()\n",
    "pg.wilcoxon(x, y, alternative='two-sided')"
   ]
  },
  {
   "cell_type": "code",
   "execution_count": 49,
   "id": "d41263f3",
   "metadata": {},
   "outputs": [
    {
     "name": "stderr",
     "output_type": "stream",
     "text": [
      "/home/aryuna/micromamba/envs/sharapkova/lib/python3.12/site-packages/scipy/stats/_axis_nan_policy.py:531: UserWarning: Exact p-value calculation does not work if there are zeros. Switching to normal approximation.\n",
      "  res = hypotest_fun_out(*samples, **kwds)\n"
     ]
    },
    {
     "data": {
      "text/html": [
       "<div>\n",
       "<style scoped>\n",
       "    .dataframe tbody tr th:only-of-type {\n",
       "        vertical-align: middle;\n",
       "    }\n",
       "\n",
       "    .dataframe tbody tr th {\n",
       "        vertical-align: top;\n",
       "    }\n",
       "\n",
       "    .dataframe thead th {\n",
       "        text-align: right;\n",
       "    }\n",
       "</style>\n",
       "<table border=\"1\" class=\"dataframe\">\n",
       "  <thead>\n",
       "    <tr style=\"text-align: right;\">\n",
       "      <th></th>\n",
       "      <th>W-val</th>\n",
       "      <th>alternative</th>\n",
       "      <th>p-val</th>\n",
       "      <th>RBC</th>\n",
       "      <th>CLES</th>\n",
       "    </tr>\n",
       "  </thead>\n",
       "  <tbody>\n",
       "    <tr>\n",
       "      <th>Wilcoxon</th>\n",
       "      <td>56.0</td>\n",
       "      <td>two-sided</td>\n",
       "      <td>0.551478</td>\n",
       "      <td>0.176471</td>\n",
       "      <td>0.51989</td>\n",
       "    </tr>\n",
       "  </tbody>\n",
       "</table>\n",
       "</div>"
      ],
      "text/plain": [
       "          W-val alternative     p-val       RBC     CLES\n",
       "Wilcoxon   56.0   two-sided  0.551478  0.176471  0.51989"
      ]
     },
     "execution_count": 49,
     "metadata": {},
     "output_type": "execute_result"
    }
   ],
   "source": [
    "x = dff1['time_losing_contact'].tolist()\n",
    "y = dff2['time_losing_contact'].tolist()\n",
    "pg.wilcoxon(x, y, alternative='two-sided')"
   ]
  },
  {
   "cell_type": "code",
   "execution_count": 50,
   "id": "6ce01ba6",
   "metadata": {},
   "outputs": [
    {
     "name": "stdout",
     "output_type": "stream",
     "text": [
      "duration_secs W-val = 38.0, pvalue = 0.03857970370059411\n",
      "eye_contact W-val = 54.5, pvalue = 0.2976044782460494\n",
      "time_losing_contact W-val = 56.0, pvalue = 0.5343097756066597\n",
      "number_losing W-val = 21.5, pvalue = 0.9047764749089059\n",
      "num_preslook W-val = 32.0, pvalue = 0.34456236532569795\n",
      "num_fillerwords W-val = 54.0, pvalue = 0.2866247554614416\n"
     ]
    },
    {
     "name": "stderr",
     "output_type": "stream",
     "text": [
      "/home/aryuna/micromamba/envs/sharapkova/lib/python3.12/site-packages/scipy/stats/_axis_nan_policy.py:600: UserWarning: Exact p-value calculation does not work if there are zeros. Switching to normal approximation.\n",
      "  return result_to_tuple(hypotest_fun_out(*samples, **kwds))\n",
      "/home/aryuna/micromamba/envs/sharapkova/lib/python3.12/site-packages/scipy/stats/_axis_nan_policy.py:600: UserWarning: Exact p-value calculation does not work if there are zeros. Switching to normal approximation.\n",
      "  return result_to_tuple(hypotest_fun_out(*samples, **kwds))\n",
      "/home/aryuna/micromamba/envs/sharapkova/lib/python3.12/site-packages/scipy/stats/_axis_nan_policy.py:600: UserWarning: Exact p-value calculation does not work if there are zeros. Switching to normal approximation.\n",
      "  return result_to_tuple(hypotest_fun_out(*samples, **kwds))\n",
      "/home/aryuna/micromamba/envs/sharapkova/lib/python3.12/site-packages/scipy/stats/_axis_nan_policy.py:600: UserWarning: Exact p-value calculation does not work if there are zeros. Switching to normal approximation.\n",
      "  return result_to_tuple(hypotest_fun_out(*samples, **kwds))\n",
      "/home/aryuna/micromamba/envs/sharapkova/lib/python3.12/site-packages/scipy/stats/_axis_nan_policy.py:600: UserWarning: Sample size too small for normal approximation.\n",
      "  return result_to_tuple(hypotest_fun_out(*samples, **kwds))\n",
      "/home/aryuna/micromamba/envs/sharapkova/lib/python3.12/site-packages/scipy/stats/_axis_nan_policy.py:600: UserWarning: Exact p-value calculation does not work if there are zeros. Switching to normal approximation.\n",
      "  return result_to_tuple(hypotest_fun_out(*samples, **kwds))\n",
      "/home/aryuna/micromamba/envs/sharapkova/lib/python3.12/site-packages/scipy/stats/_axis_nan_policy.py:600: UserWarning: Exact p-value calculation does not work if there are zeros. Switching to normal approximation.\n",
      "  return result_to_tuple(hypotest_fun_out(*samples, **kwds))\n"
     ]
    }
   ],
   "source": [
    "wilcox = pd.DataFrame()\n",
    "for i in num1:\n",
    "    #print(i)\n",
    "    temp = stats.wilcoxon(num1[[i]], num2[[i]])\n",
    "    tdict = {'feature':[str(i)], 'W-val': [str(*temp.statistic)], 'pvalue':[str(*temp.pvalue)]}\n",
    "    tdf = pd.DataFrame(tdict)\n",
    "    wilcox = pd.concat([wilcox, tdf]) \n",
    "    #temp2 = pg.wilcoxon(num1.i, num2.i, alternative='two-sided')\n",
    "    print(str(i)+ ' W-val = '+ str(*temp.statistic) +','+ \" pvalue =\", str(*temp.pvalue))"
   ]
  },
  {
   "cell_type": "code",
   "execution_count": 51,
   "id": "19ce8fd4",
   "metadata": {},
   "outputs": [],
   "source": [
    "wilcox.to_csv('wilcox.tsv', index = False, sep = '\\t')"
   ]
  },
  {
   "cell_type": "code",
   "execution_count": 52,
   "id": "c8f78785",
   "metadata": {},
   "outputs": [
    {
     "data": {
      "text/html": [
       "<div>\n",
       "<style scoped>\n",
       "    .dataframe tbody tr th:only-of-type {\n",
       "        vertical-align: middle;\n",
       "    }\n",
       "\n",
       "    .dataframe tbody tr th {\n",
       "        vertical-align: top;\n",
       "    }\n",
       "\n",
       "    .dataframe thead th {\n",
       "        text-align: right;\n",
       "    }\n",
       "</style>\n",
       "<table border=\"1\" class=\"dataframe\">\n",
       "  <thead>\n",
       "    <tr style=\"text-align: right;\">\n",
       "      <th></th>\n",
       "      <th>feature</th>\n",
       "      <th>W-val</th>\n",
       "      <th>pvalue</th>\n",
       "    </tr>\n",
       "  </thead>\n",
       "  <tbody>\n",
       "    <tr>\n",
       "      <th>0</th>\n",
       "      <td>duration_secs</td>\n",
       "      <td>38.0</td>\n",
       "      <td>0.03857970370059411</td>\n",
       "    </tr>\n",
       "    <tr>\n",
       "      <th>0</th>\n",
       "      <td>eye_contact</td>\n",
       "      <td>54.5</td>\n",
       "      <td>0.2976044782460494</td>\n",
       "    </tr>\n",
       "    <tr>\n",
       "      <th>0</th>\n",
       "      <td>time_losing_contact</td>\n",
       "      <td>56.0</td>\n",
       "      <td>0.5343097756066597</td>\n",
       "    </tr>\n",
       "    <tr>\n",
       "      <th>0</th>\n",
       "      <td>number_losing</td>\n",
       "      <td>21.5</td>\n",
       "      <td>0.9047764749089059</td>\n",
       "    </tr>\n",
       "    <tr>\n",
       "      <th>0</th>\n",
       "      <td>num_preslook</td>\n",
       "      <td>32.0</td>\n",
       "      <td>0.34456236532569795</td>\n",
       "    </tr>\n",
       "    <tr>\n",
       "      <th>0</th>\n",
       "      <td>num_fillerwords</td>\n",
       "      <td>54.0</td>\n",
       "      <td>0.2866247554614416</td>\n",
       "    </tr>\n",
       "  </tbody>\n",
       "</table>\n",
       "</div>"
      ],
      "text/plain": [
       "               feature W-val               pvalue\n",
       "0        duration_secs  38.0  0.03857970370059411\n",
       "0          eye_contact  54.5   0.2976044782460494\n",
       "0  time_losing_contact  56.0   0.5343097756066597\n",
       "0        number_losing  21.5   0.9047764749089059\n",
       "0         num_preslook  32.0  0.34456236532569795\n",
       "0      num_fillerwords  54.0   0.2866247554614416"
      ]
     },
     "execution_count": 52,
     "metadata": {},
     "output_type": "execute_result"
    }
   ],
   "source": [
    "wilcox"
   ]
  },
  {
   "cell_type": "code",
   "execution_count": 53,
   "id": "09c5973b",
   "metadata": {},
   "outputs": [],
   "source": [
    "import matplotlib.pyplot as plt"
   ]
  },
  {
   "cell_type": "code",
   "execution_count": 54,
   "id": "75d189e5",
   "metadata": {},
   "outputs": [
    {
     "data": {
      "image/png": "[encoded data removed]",
      "text/plain": [
       "<Figure size 600x840 with 1 Axes>"
      ]
     },
     "metadata": {},
     "output_type": "display_data"
    }
   ],
   "source": [
    "plt.figure(figsize=(5,7), dpi = 120)\n",
    "plt.minorticks_off()\n",
    "x = num1['eye_contact']\n",
    "y = num2['eye_contact']\n",
    "df = pd.concat([x, y], axis=1)\n",
    "df.columns = ['eye_contact_before', 'eye_contact_after']\n",
    "sns.boxplot(df)\n",
    "# labels text\n",
    "plt.title('Eye contact between two sessions', fontsize=12, fontweight=0, color='black')\n",
    "#ax.set_xlabel('Sessions')\n",
    "#ax.set_ylabel('Eye contact')\n",
    "plt.show()"
   ]
  },
  {
   "cell_type": "code",
   "execution_count": 55,
   "id": "127912f3",
   "metadata": {},
   "outputs": [
    {
     "data": {
      "image/png": "[encoded data removed]",
      "text/plain": [
       "<Figure size 600x840 with 1 Axes>"
      ]
     },
     "metadata": {},
     "output_type": "display_data"
    }
   ],
   "source": [
    "plt.figure(figsize=(5,7), dpi = 120)\n",
    "plt.minorticks_off()\n",
    "x = num1[num1['time_losing_contact']<20].time_losing_contact\n",
    "y = num2[num2['time_losing_contact']<20].time_losing_contact\n",
    "df = pd.concat([x, y], axis=1)\n",
    "df.columns = ['time losing contact first', 'time losing contact second']\n",
    "sns.boxplot(df)\n",
    "# labels text\n",
    "plt.title('Time losing contact in two sessions', fontsize=12, fontweight=0, color='black')\n",
    "#ax.set_xlabel('Sessions')\n",
    "#ax.set_ylabel('Eye contact')\n",
    "plt.show()"
   ]
  },
  {
   "cell_type": "code",
   "execution_count": 56,
   "id": "c4323a6c",
   "metadata": {},
   "outputs": [
    {
     "data": {
      "image/png": "[encoded data removed]",
      "text/plain": [
       "<Figure size 600x840 with 1 Axes>"
      ]
     },
     "metadata": {},
     "output_type": "display_data"
    }
   ],
   "source": [
    "plt.figure(figsize=(5,7), dpi = 120)\n",
    "plt.minorticks_off()\n",
    "x = num1['number_losing']\n",
    "y = num2['number_losing']\n",
    "df = pd.concat([x, y], axis=1)\n",
    "df.columns = ['numlosing_contact_before', 'num_losing_contact_after']\n",
    "sns.boxplot(df)\n",
    "# labels text\n",
    "plt.title('Number of losing contact between two sessions', fontsize=12, fontweight=0, color='black')\n",
    "#ax.set_xlabel('Sessions')\n",
    "#ax.set_ylabel('Eye contact')\n",
    "plt.show()"
   ]
  }
 ],
 "metadata": {
  "kernelspec": {
   "display_name": "Python 3 (ipykernel)",
   "language": "python",
   "name": "python3"
  },
  "language_info": {
   "codemirror_mode": {
    "name": "ipython",
    "version": 3
   },
   "file_extension": ".py",
   "mimetype": "text/x-python",
   "name": "python",
   "nbconvert_exporter": "python",
   "pygments_lexer": "ipython3",
   "version": "3.12.2"
  }
 },
 "nbformat": 4,
 "nbformat_minor": 5
}
