{
 "cells": [
  {
   "cell_type": "markdown",
   "metadata": {},
   "source": [
    "# Work preparation"
   ]
  },
  {
   "cell_type": "markdown",
   "metadata": {},
   "source": [
    "## libraries"
   ]
  },
  {
   "cell_type": "code",
   "execution_count": 1,
   "metadata": {},
   "outputs": [],
   "source": [
    "import pandas as pd\n",
    "import matplotlib.pyplot as plt\n",
    "import numpy as np"
   ]
  },
  {
   "cell_type": "code",
   "execution_count": 2,
   "metadata": {},
   "outputs": [],
   "source": [
    "import warnings\n",
    "import pandas as pd\n",
    "import numpy as np\n",
    "import random\n",
    "import seaborn as sns\n",
    "import matplotlib.pyplot as plt\n",
    "\n",
    "from os.path import join\n",
    "from IPython import display\n",
    "from sklearn.datasets import load_digits\n",
    "from sklearn.datasets import make_blobs\n",
    "from sklearn.decomposition import PCA\n",
    "from sklearn.manifold import TSNE\n",
    "from sklearn.metrics import silhouette_score # и другие метрики\n",
    "from sklearn.cluster import KMeans # а также другие алгоритмы\n",
    "from sklearn.preprocessing import StandardScaler"
   ]
  },
  {
   "cell_type": "code",
   "execution_count": 3,
   "metadata": {},
   "outputs": [],
   "source": [
    "from scipy.stats import f_oneway\n",
    "from statsmodels.multivariate.manova import MANOVA\n",
    "from scipy.stats.mstats import kruskal\n",
    "import scikit_posthocs as sp"
   ]
  },
  {
   "cell_type": "code",
   "execution_count": 4,
   "metadata": {},
   "outputs": [],
   "source": [
    "ppalette={'senior academics':'r', 'students':'g'}"
   ]
  },
  {
   "cell_type": "markdown",
   "metadata": {},
   "source": [
    "## data import and preprocessing"
   ]
  },
  {
   "cell_type": "code",
   "execution_count": 5,
   "metadata": {},
   "outputs": [],
   "source": [
    "students = pd.read_csv('students.tsv',sep='\\t' )\n",
    "dolgolets = pd.read_csv('dolgolets.tsv', sep = '\\t')"
   ]
  },
  {
   "cell_type": "code",
   "execution_count": 6,
   "metadata": {},
   "outputs": [],
   "source": [
    "students.columns = ['ID', 'квота сек', 'Слово', 'Предыдущее + слово', 'Первая_буква',\n",
    "       'Стратегия', 'Порядок_буква', 'Порядок_весь_тест', 'Частотность',\n",
    "       'Пауза', 'VP', 'VS', 'N of words', 'N of words_P', 'N of words_O',\n",
    "       'N of words_S', 'Mean pause']\n",
    "\n",
    "dolgolets.loc[(dolgolets['ID']=='pr_A_1') & (dolgolets['Слово']=='оква'), 'Стратегия']=11\n",
    "dolgolets.loc[(dolgolets['ID']=='pr_G_1') & (dolgolets['Стратегия']=='9'),'Стратегия']=1\n",
    "dolgolets.loc[(dolgolets['ID']=='pr_I_1') & (dolgolets['Стратегия']=='9'),'Стратегия']=3\n",
    "dolgolets.loc[(dolgolets['ID']=='pr_K_1') & (dolgolets['Стратегия']=='9'),'Стратегия']=2\n",
    "dolgolets.loc[(dolgolets['ID']=='pr_L_1') & (dolgolets['Стратегия']=='9') & (dolgolets['Слово']=='овеин'),'Стратегия']=8\n",
    "dolgolets.loc[(dolgolets['ID']=='pr_L_1') & (dolgolets['Стратегия']=='9') & (dolgolets['Слово']=='сапан'),'Стратегия']=8\n",
    "dolgolets.loc[(dolgolets['ID']=='pr_M_2') & (dolgolets['Стратегия']=='9') ,'Стратегия']=8\n",
    "dolgolets.loc[(dolgolets['ID']=='pr_N_2') & (dolgolets['Стратегия']=='9') & (dolgolets['Слово']=='олелуй'),'Стратегия']=1\n",
    "dolgolets.loc[(dolgolets['ID']=='pr_N_2') & (dolgolets['Стратегия']=='9') & (dolgolets['Слово']=='сопсизм'),'Стратегия']=8\n",
    "dolgolets.loc[(dolgolets['ID']=='pr_S_1') & (dolgolets['Стратегия']=='9') ,'Стратегия']=4\n",
    "dolgolets.loc[(dolgolets['ID']=='pr_T_1') & (dolgolets['Стратегия']=='9') ,'Стратегия']=8\n",
    "\n",
    "\n",
    "dolgolets.loc[(dolgolets['ID']=='pr_N_2') & (dolgolets['Стратегия']=='9') & (dolgolets['Слово']=='перл'), 'Стратегия' ]=8\n",
    "dolgolets.loc[(dolgolets['ID']=='pr_L_1') & (dolgolets['Стратегия']=='9') & (dolgolets['Слово']=='скрип'),'Стратегия'] = 11\n",
    "\n",
    "dolgolets = dolgolets[students.columns]\n",
    "dolgolets['type'] = 'senior academics'\n",
    "students['type'] = 'students'\n",
    "\n",
    "df = pd.concat([students, dolgolets])\n",
    "df = df[df['квота сек']<=3]\n",
    "df['Стратегия'] = df['Стратегия'].astype(str)\n",
    "#df[df['Стратегия'].notnull()].Стратегия.astype('int32', errors = 'ignore')\n",
    "df['Стратегия'] = df['Стратегия'].str.replace(r'.0', '')\n",
    "df['Частотность'] = df['Частотность'].str.replace(r',', '.')\n",
    "df['Частотность'] = df['Частотность'].astype('float', errors = 'ignore')\n",
    "df['Пауза'] = df['Пауза'].str.replace(r',', '.')\n",
    "df['Пауза'] = df['Пауза'].astype('float', errors='ignore' )\n",
    "df['Порядок_буква'] = df['Порядок_буква'].astype(str)\n",
    "df['Порядок_буква'] = df['Порядок_буква'].str.replace(r'.0', '')\n",
    "df['Предыдущее + слово'] = df['Предыдущее + слово'].str.split(' ')\n",
    "\n",
    "df1 = df.groupby(\"ID\").agg(list)\n",
    "df1['N of words_O'] = df1['N of words_O'].str[0]\n",
    "df1['N of words'] = df1['N of words'].str[0]\n",
    "df1['N of words_P'] = df1['N of words_P'].str[0]\n",
    "df1['N of words_S'] = df1['N of words_S'].str[0]\n",
    "df1['Mean pause'] = df1['Mean pause'].str[0]\n",
    "df1['type'] = df1['type'].str[0]"
   ]
  },
  {
   "cell_type": "code",
   "execution_count": 7,
   "metadata": {},
   "outputs": [],
   "source": [
    "def count_values_freq(lst):\n",
    "    freq_dict = {}\n",
    "    for value in lst:\n",
    "        if value in freq_dict:\n",
    "            freq_dict[value] += 1\n",
    "        else:\n",
    "            freq_dict[value] = 1\n",
    "    return freq_dict\n",
    "df1['strategyfreq_dict'] = df1['Стратегия'].apply(count_values_freq)"
   ]
  },
  {
   "cell_type": "code",
   "execution_count": 8,
   "metadata": {},
   "outputs": [],
   "source": [
    "dict_for_strategy_names = {'1': 'phonetic strategy', '11':'phonetic strategy', '1а':'phonetic strategy'\n",
    "                        , '2': 'derivative strategy', '22': 'derivative strategy', '2а':'derivative strategy'\n",
    "                        , '3': 'semantic-field strategy', '33':'semantic-field strategy'\n",
    "                        , '3a':'semantic-field strategy',  '3а':'semantic-field strategy'\n",
    "                        ,  '3а’':'semantic-field strategy'\n",
    "                        , '4':'semantic-field strategy', '4а':'semantic-field strategy'\n",
    "                        , '5':'semantic-field strategy' \n",
    "                        , '6':'semantic-field strategy', '66':'semantic-field strategy'\n",
    "                        , '7':'semantic-field strategy'\n",
    "                        , '8':'individual association strategy' \n",
    "                        }\n",
    "\n",
    "def set_strategy_names(num):\n",
    "    strategy_name = dict_for_strategy_names.get(num)\n",
    "    return strategy_name\n",
    "\n",
    "df['strategy_name'] = df['Стратегия'].apply(set_strategy_names)"
   ]
  },
  {
   "cell_type": "code",
   "execution_count": 9,
   "metadata": {},
   "outputs": [],
   "source": [
    "dict_for_strategy_names_paper = {'phonetic strategy': 'S1',\n",
    "                                 'derivative strategy': 'S2',\n",
    "                                 'semantic-field strategy': 'S3',\n",
    "                                 'individual association strategy': 'S4'\n",
    "}\n",
    "\n",
    "def set_strategy_papernames(names):\n",
    "    paper_name = dict_for_strategy_names_paper.get(names)\n",
    "    return paper_name\n",
    "df['strategy_paper_name'] = df['strategy_name'].apply(set_strategy_papernames)"
   ]
  },
  {
   "cell_type": "code",
   "execution_count": 10,
   "metadata": {},
   "outputs": [],
   "source": [
    "df_names = df.copy()"
   ]
  },
  {
   "cell_type": "code",
   "execution_count": 11,
   "metadata": {},
   "outputs": [
    {
     "data": {
      "text/html": [
       "<div>\n",
       "<style scoped>\n",
       "    .dataframe tbody tr th:only-of-type {\n",
       "        vertical-align: middle;\n",
       "    }\n",
       "\n",
       "    .dataframe tbody tr th {\n",
       "        vertical-align: top;\n",
       "    }\n",
       "\n",
       "    .dataframe thead th {\n",
       "        text-align: right;\n",
       "    }\n",
       "</style>\n",
       "<table border=\"1\" class=\"dataframe\">\n",
       "  <thead>\n",
       "    <tr style=\"text-align: right;\">\n",
       "      <th></th>\n",
       "      <th>phonetic strategy</th>\n",
       "      <th>derivative strategy</th>\n",
       "      <th>semantic-field strategy</th>\n",
       "      <th>individual association strategy</th>\n",
       "    </tr>\n",
       "    <tr>\n",
       "      <th>ID</th>\n",
       "      <th></th>\n",
       "      <th></th>\n",
       "      <th></th>\n",
       "      <th></th>\n",
       "    </tr>\n",
       "  </thead>\n",
       "  <tbody>\n",
       "    <tr>\n",
       "      <th>pr_A_1</th>\n",
       "      <td>0.227273</td>\n",
       "      <td>0.113636</td>\n",
       "      <td>0.295455</td>\n",
       "      <td>0.363636</td>\n",
       "    </tr>\n",
       "    <tr>\n",
       "      <th>pr_B_1</th>\n",
       "      <td>0.196078</td>\n",
       "      <td>0.058824</td>\n",
       "      <td>0.313725</td>\n",
       "      <td>0.431373</td>\n",
       "    </tr>\n",
       "    <tr>\n",
       "      <th>pr_E_1</th>\n",
       "      <td>0.096154</td>\n",
       "      <td>0.019231</td>\n",
       "      <td>0.192308</td>\n",
       "      <td>0.692308</td>\n",
       "    </tr>\n",
       "    <tr>\n",
       "      <th>pr_G_1</th>\n",
       "      <td>0.254545</td>\n",
       "      <td>0.018182</td>\n",
       "      <td>0.127273</td>\n",
       "      <td>0.600000</td>\n",
       "    </tr>\n",
       "    <tr>\n",
       "      <th>pr_I_1</th>\n",
       "      <td>0.083333</td>\n",
       "      <td>0.020833</td>\n",
       "      <td>0.187500</td>\n",
       "      <td>0.708333</td>\n",
       "    </tr>\n",
       "  </tbody>\n",
       "</table>\n",
       "</div>"
      ],
      "text/plain": [
       "        phonetic strategy  derivative strategy  semantic-field strategy  \\\n",
       "ID                                                                        \n",
       "pr_A_1           0.227273             0.113636                 0.295455   \n",
       "pr_B_1           0.196078             0.058824                 0.313725   \n",
       "pr_E_1           0.096154             0.019231                 0.192308   \n",
       "pr_G_1           0.254545             0.018182                 0.127273   \n",
       "pr_I_1           0.083333             0.020833                 0.187500   \n",
       "\n",
       "        individual association strategy  \n",
       "ID                                       \n",
       "pr_A_1                         0.363636  \n",
       "pr_B_1                         0.431373  \n",
       "pr_E_1                         0.692308  \n",
       "pr_G_1                         0.600000  \n",
       "pr_I_1                         0.708333  "
      ]
     },
     "execution_count": 11,
     "metadata": {},
     "output_type": "execute_result"
    }
   ],
   "source": [
    "df = df1[['strategyfreq_dict']]\n",
    "\n",
    "def expand_dict_column(row):\n",
    "    for key, value in row['strategyfreq_dict'].items():\n",
    "        row[key] = int(value)\n",
    "    return row\n",
    "\n",
    "# Применяем функцию к каждой строке DataFrame\n",
    "df = df.apply(expand_dict_column, axis=1)\n",
    "\n",
    "# Удаляем столбец со словарями (если требуется)\n",
    "#df.drop('dict_column', axis=1, inplace=True)\n",
    "\n",
    "\n",
    "\n",
    "# Выводим DataFrame с новыми столбцами\n",
    "df = df.fillna(0)\n",
    "df['1'] = df['1'] + df['11'] + df['1а']\n",
    "df['2'] = df['2'] + df['22'] + df['2а']\n",
    "df['3'] = df['3'] + df['33'] + df['3a'] + df['3а'] + df['3а’']\n",
    "df['4'] = df['4'] + df['4а']\n",
    "df['6'] = df['6'] + df['66']\n",
    "\n",
    "columns_to_drop = ['11', '1а', '22', '2а',  '33', '3a', '3а', '3а’', '4а', '66']\n",
    "df = df.drop(columns=columns_to_drop)\n",
    "\n",
    "df['phonetic strategy'] = df['1'] \n",
    "df['derivative strategy'] = df['2']\n",
    "df['semantic-field strategy'] = df['3'] + df['4'] + df['5'] + df['6'] + df['7']\n",
    "df['individual association strategy'] = df['8']\n",
    "columns_to_drop = ['1', '2', '3', '4',  '5', '6', '7', '8']\n",
    "df = df.drop(columns=columns_to_drop)\n",
    "df.columns\n",
    "df = df.drop(['nan'], axis=1)\n",
    "df.head()\n",
    "df = df.drop(['strategyfreq_dict'], axis = 1)\n",
    "\n",
    "df['strat_sum'] = df['phonetic strategy'] + df['derivative strategy'] + df['semantic-field strategy'] + df['individual association strategy']\n",
    "\n",
    "dff = df.copy()\n",
    "for col in dff.columns[:-1]:  # Исключаем последний столбец strat_sum\n",
    "    dff[col] = dff[col] / df['strat_sum']\n",
    "\n",
    "dff = dff.drop(['strat_sum'], axis = 1)\n",
    "dff.head()"
   ]
  },
  {
   "cell_type": "code",
   "execution_count": 12,
   "metadata": {},
   "outputs": [
    {
     "data": {
      "text/html": [
       "<div>\n",
       "<style scoped>\n",
       "    .dataframe tbody tr th:only-of-type {\n",
       "        vertical-align: middle;\n",
       "    }\n",
       "\n",
       "    .dataframe tbody tr th {\n",
       "        vertical-align: top;\n",
       "    }\n",
       "\n",
       "    .dataframe thead th {\n",
       "        text-align: right;\n",
       "    }\n",
       "</style>\n",
       "<table border=\"1\" class=\"dataframe\">\n",
       "  <thead>\n",
       "    <tr style=\"text-align: right;\">\n",
       "      <th></th>\n",
       "      <th>phonetic strategy</th>\n",
       "      <th>derivative strategy</th>\n",
       "      <th>semantic-field strategy</th>\n",
       "      <th>individual association strategy</th>\n",
       "      <th>strat_sum</th>\n",
       "    </tr>\n",
       "    <tr>\n",
       "      <th>ID</th>\n",
       "      <th></th>\n",
       "      <th></th>\n",
       "      <th></th>\n",
       "      <th></th>\n",
       "      <th></th>\n",
       "    </tr>\n",
       "  </thead>\n",
       "  <tbody>\n",
       "    <tr>\n",
       "      <th>pr_A_1</th>\n",
       "      <td>10.0</td>\n",
       "      <td>5.0</td>\n",
       "      <td>13.0</td>\n",
       "      <td>16</td>\n",
       "      <td>44.0</td>\n",
       "    </tr>\n",
       "    <tr>\n",
       "      <th>pr_B_1</th>\n",
       "      <td>10.0</td>\n",
       "      <td>3.0</td>\n",
       "      <td>16.0</td>\n",
       "      <td>22</td>\n",
       "      <td>51.0</td>\n",
       "    </tr>\n",
       "    <tr>\n",
       "      <th>pr_E_1</th>\n",
       "      <td>5.0</td>\n",
       "      <td>1.0</td>\n",
       "      <td>10.0</td>\n",
       "      <td>36</td>\n",
       "      <td>52.0</td>\n",
       "    </tr>\n",
       "    <tr>\n",
       "      <th>pr_G_1</th>\n",
       "      <td>14.0</td>\n",
       "      <td>1.0</td>\n",
       "      <td>7.0</td>\n",
       "      <td>33</td>\n",
       "      <td>55.0</td>\n",
       "    </tr>\n",
       "    <tr>\n",
       "      <th>pr_I_1</th>\n",
       "      <td>4.0</td>\n",
       "      <td>1.0</td>\n",
       "      <td>9.0</td>\n",
       "      <td>34</td>\n",
       "      <td>48.0</td>\n",
       "    </tr>\n",
       "  </tbody>\n",
       "</table>\n",
       "</div>"
      ],
      "text/plain": [
       "        phonetic strategy  derivative strategy  semantic-field strategy  \\\n",
       "ID                                                                        \n",
       "pr_A_1               10.0                  5.0                     13.0   \n",
       "pr_B_1               10.0                  3.0                     16.0   \n",
       "pr_E_1                5.0                  1.0                     10.0   \n",
       "pr_G_1               14.0                  1.0                      7.0   \n",
       "pr_I_1                4.0                  1.0                      9.0   \n",
       "\n",
       "        individual association strategy  strat_sum  \n",
       "ID                                                  \n",
       "pr_A_1                               16       44.0  \n",
       "pr_B_1                               22       51.0  \n",
       "pr_E_1                               36       52.0  \n",
       "pr_G_1                               33       55.0  \n",
       "pr_I_1                               34       48.0  "
      ]
     },
     "execution_count": 12,
     "metadata": {},
     "output_type": "execute_result"
    }
   ],
   "source": [
    "df.head()"
   ]
  },
  {
   "cell_type": "code",
   "execution_count": 13,
   "metadata": {},
   "outputs": [
    {
     "data": {
      "text/plain": [
       "<Axes: xlabel='strat_sum', ylabel='Count'>"
      ]
     },
     "execution_count": 13,
     "metadata": {},
     "output_type": "execute_result"
    },
    {
     "data": {
      "image/png": "[encoded data removed]",
      "text/plain": [
       "<Figure size 640x480 with 1 Axes>"
      ]
     },
     "metadata": {},
     "output_type": "display_data"
    }
   ],
   "source": [
    "sns.histplot(df['strat_sum'])"
   ]
  },
  {
   "cell_type": "code",
   "execution_count": 14,
   "metadata": {},
   "outputs": [
    {
     "data": {
      "text/plain": [
       "Index(['квота сек', 'Слово', 'Предыдущее + слово', 'Первая_буква', 'Стратегия',\n",
       "       'Порядок_буква', 'Порядок_весь_тест', 'Частотность', 'Пауза', 'VP',\n",
       "       'VS', 'N of words', 'N of words_P', 'N of words_O', 'N of words_S',\n",
       "       'Mean pause', 'type', 'strategyfreq_dict'],\n",
       "      dtype='object')"
      ]
     },
     "execution_count": 14,
     "metadata": {},
     "output_type": "execute_result"
    }
   ],
   "source": [
    "df1.columns"
   ]
  },
  {
   "cell_type": "code",
   "execution_count": 15,
   "metadata": {},
   "outputs": [],
   "source": [
    "analysis_df = df1[['квота сек', 'Первая_буква',\n",
    "       'Порядок_буква', 'Порядок_весь_тест','Частотность', 'strategyfreq_dict','Пауза', \n",
    "       'Mean pause', 'type']]\n",
    "\n",
    "analysis_df = pd.concat([analysis_df, dff], axis=1)"
   ]
  },
  {
   "cell_type": "code",
   "execution_count": 16,
   "metadata": {},
   "outputs": [],
   "source": [
    "# analysis_df.head()"
   ]
  },
  {
   "cell_type": "code",
   "execution_count": 17,
   "metadata": {},
   "outputs": [
    {
     "data": {
      "text/html": [
       "<div>\n",
       "<style scoped>\n",
       "    .dataframe tbody tr th:only-of-type {\n",
       "        vertical-align: middle;\n",
       "    }\n",
       "\n",
       "    .dataframe tbody tr th {\n",
       "        vertical-align: top;\n",
       "    }\n",
       "\n",
       "    .dataframe thead th {\n",
       "        text-align: right;\n",
       "    }\n",
       "</style>\n",
       "<table border=\"1\" class=\"dataframe\">\n",
       "  <thead>\n",
       "    <tr style=\"text-align: right;\">\n",
       "      <th></th>\n",
       "      <th>phonetic strategy</th>\n",
       "      <th>derivative strategy</th>\n",
       "      <th>semantic-field strategy</th>\n",
       "      <th>individual association strategy</th>\n",
       "      <th>strat_sum</th>\n",
       "    </tr>\n",
       "    <tr>\n",
       "      <th>ID</th>\n",
       "      <th></th>\n",
       "      <th></th>\n",
       "      <th></th>\n",
       "      <th></th>\n",
       "      <th></th>\n",
       "    </tr>\n",
       "  </thead>\n",
       "  <tbody>\n",
       "    <tr>\n",
       "      <th>pr_A_1</th>\n",
       "      <td>10.0</td>\n",
       "      <td>5.0</td>\n",
       "      <td>13.0</td>\n",
       "      <td>16</td>\n",
       "      <td>44.0</td>\n",
       "    </tr>\n",
       "    <tr>\n",
       "      <th>pr_B_1</th>\n",
       "      <td>10.0</td>\n",
       "      <td>3.0</td>\n",
       "      <td>16.0</td>\n",
       "      <td>22</td>\n",
       "      <td>51.0</td>\n",
       "    </tr>\n",
       "    <tr>\n",
       "      <th>pr_E_1</th>\n",
       "      <td>5.0</td>\n",
       "      <td>1.0</td>\n",
       "      <td>10.0</td>\n",
       "      <td>36</td>\n",
       "      <td>52.0</td>\n",
       "    </tr>\n",
       "    <tr>\n",
       "      <th>pr_G_1</th>\n",
       "      <td>14.0</td>\n",
       "      <td>1.0</td>\n",
       "      <td>7.0</td>\n",
       "      <td>33</td>\n",
       "      <td>55.0</td>\n",
       "    </tr>\n",
       "    <tr>\n",
       "      <th>pr_I_1</th>\n",
       "      <td>4.0</td>\n",
       "      <td>1.0</td>\n",
       "      <td>9.0</td>\n",
       "      <td>34</td>\n",
       "      <td>48.0</td>\n",
       "    </tr>\n",
       "  </tbody>\n",
       "</table>\n",
       "</div>"
      ],
      "text/plain": [
       "        phonetic strategy  derivative strategy  semantic-field strategy  \\\n",
       "ID                                                                        \n",
       "pr_A_1               10.0                  5.0                     13.0   \n",
       "pr_B_1               10.0                  3.0                     16.0   \n",
       "pr_E_1                5.0                  1.0                     10.0   \n",
       "pr_G_1               14.0                  1.0                      7.0   \n",
       "pr_I_1                4.0                  1.0                      9.0   \n",
       "\n",
       "        individual association strategy  strat_sum  \n",
       "ID                                                  \n",
       "pr_A_1                               16       44.0  \n",
       "pr_B_1                               22       51.0  \n",
       "pr_E_1                               36       52.0  \n",
       "pr_G_1                               33       55.0  \n",
       "pr_I_1                               34       48.0  "
      ]
     },
     "execution_count": 17,
     "metadata": {},
     "output_type": "execute_result"
    }
   ],
   "source": [
    "df.head()"
   ]
  },
  {
   "cell_type": "code",
   "execution_count": 23,
   "metadata": {},
   "outputs": [],
   "source": [
    "humans = df.join(df1[['type']])\n",
    "humans.to_csv('strategies_counts.tsv', sep='\\t')"
   ]
  },
  {
   "cell_type": "code",
   "execution_count": 24,
   "metadata": {},
   "outputs": [],
   "source": [
    "humans_ = dff.join(df1[['type']])\n",
    "humans_.to_csv('strategies_fractions.tsv', sep='\\t')\n"
   ]
  },
  {
   "cell_type": "code",
   "execution_count": 25,
   "metadata": {},
   "outputs": [],
   "source": [
    "df_names['Частотность'] = df_names['Частотность'].astype('float', errors = 'ignore')\n",
    "df_names['Пауза'] = df_names['Пауза'].astype('float', errors='ignore' )"
   ]
  },
  {
   "cell_type": "code",
   "execution_count": 26,
   "metadata": {},
   "outputs": [],
   "source": [
    "\n",
    "df_names['Mean pause'] = df_names['Mean pause'].str.replace(',', '.' ).astype('float')"
   ]
  },
  {
   "cell_type": "code",
   "execution_count": 27,
   "metadata": {},
   "outputs": [
    {
     "data": {
      "text/plain": [
       "Index(['ID', 'квота сек', 'Слово', 'Предыдущее + слово', 'Первая_буква',\n",
       "       'Стратегия', 'Порядок_буква', 'Порядок_весь_тест', 'Частотность',\n",
       "       'Пауза', 'VP', 'VS', 'N of words', 'N of words_P', 'N of words_O',\n",
       "       'N of words_S', 'Mean pause', 'type', 'strategy_name',\n",
       "       'strategy_paper_name'],\n",
       "      dtype='object')"
      ]
     },
     "execution_count": 27,
     "metadata": {},
     "output_type": "execute_result"
    }
   ],
   "source": [
    "df_names.columns"
   ]
  },
  {
   "cell_type": "code",
   "execution_count": 28,
   "metadata": {},
   "outputs": [],
   "source": [
    "words = df_names.copy()"
   ]
  },
  {
   "cell_type": "code",
   "execution_count": 29,
   "metadata": {},
   "outputs": [],
   "source": [
    "words.columns = ['ID', 'quota sec', 'word', 'previous + word', 'first_letter',\n",
    "'strategy', 'order_letter', 'order_whole_test', 'frequency',\n",
    "'pause', 'VP', 'VS', 'N of words', 'N of words_P', 'N of words_O',\n",
    "'N of words_S', 'mean pause', 'type', 'strategy_name',\n",
    "'strategy_paper_name']"
   ]
  },
  {
   "cell_type": "code",
   "execution_count": 30,
   "metadata": {},
   "outputs": [
    {
     "data": {
      "text/html": [
       "<div>\n",
       "<style scoped>\n",
       "    .dataframe tbody tr th:only-of-type {\n",
       "        vertical-align: middle;\n",
       "    }\n",
       "\n",
       "    .dataframe tbody tr th {\n",
       "        vertical-align: top;\n",
       "    }\n",
       "\n",
       "    .dataframe thead th {\n",
       "        text-align: right;\n",
       "    }\n",
       "</style>\n",
       "<table border=\"1\" class=\"dataframe\">\n",
       "  <thead>\n",
       "    <tr style=\"text-align: right;\">\n",
       "      <th></th>\n",
       "      <th>ID</th>\n",
       "      <th>quota sec</th>\n",
       "      <th>word</th>\n",
       "      <th>previous + word</th>\n",
       "      <th>first_letter</th>\n",
       "      <th>strategy</th>\n",
       "      <th>order_letter</th>\n",
       "      <th>order_whole_test</th>\n",
       "      <th>frequency</th>\n",
       "      <th>pause</th>\n",
       "      <th>VP</th>\n",
       "      <th>VS</th>\n",
       "      <th>N of words</th>\n",
       "      <th>N of words_P</th>\n",
       "      <th>N of words_O</th>\n",
       "      <th>N of words_S</th>\n",
       "      <th>mean pause</th>\n",
       "      <th>type</th>\n",
       "      <th>strategy_name</th>\n",
       "      <th>strategy_paper_name</th>\n",
       "    </tr>\n",
       "  </thead>\n",
       "  <tbody>\n",
       "    <tr>\n",
       "      <th>0</th>\n",
       "      <td>Б_В_10</td>\n",
       "      <td>1</td>\n",
       "      <td>пара</td>\n",
       "      <td>NaN</td>\n",
       "      <td>п</td>\n",
       "      <td>nan</td>\n",
       "      <td>1</td>\n",
       "      <td>1</td>\n",
       "      <td>152.7</td>\n",
       "      <td>NaN</td>\n",
       "      <td>NaN</td>\n",
       "      <td>NaN</td>\n",
       "      <td>59</td>\n",
       "      <td>28</td>\n",
       "      <td>13</td>\n",
       "      <td>18</td>\n",
       "      <td>2.390357</td>\n",
       "      <td>students</td>\n",
       "      <td>None</td>\n",
       "      <td>None</td>\n",
       "    </tr>\n",
       "    <tr>\n",
       "      <th>1</th>\n",
       "      <td>Б_В_10</td>\n",
       "      <td>1</td>\n",
       "      <td>период</td>\n",
       "      <td>[пара, период]</td>\n",
       "      <td>п</td>\n",
       "      <td>8</td>\n",
       "      <td>2</td>\n",
       "      <td>2</td>\n",
       "      <td>204.2</td>\n",
       "      <td>0.10</td>\n",
       "      <td>NaN</td>\n",
       "      <td>NaN</td>\n",
       "      <td>59</td>\n",
       "      <td>28</td>\n",
       "      <td>13</td>\n",
       "      <td>18</td>\n",
       "      <td>2.390357</td>\n",
       "      <td>students</td>\n",
       "      <td>individual association strategy</td>\n",
       "      <td>S4</td>\n",
       "    </tr>\n",
       "    <tr>\n",
       "      <th>2</th>\n",
       "      <td>Б_В_10</td>\n",
       "      <td>1</td>\n",
       "      <td>парад</td>\n",
       "      <td>[период, парад]</td>\n",
       "      <td>п</td>\n",
       "      <td>11</td>\n",
       "      <td>3</td>\n",
       "      <td>3</td>\n",
       "      <td>13.2</td>\n",
       "      <td>3.15</td>\n",
       "      <td>1.0</td>\n",
       "      <td>NaN</td>\n",
       "      <td>59</td>\n",
       "      <td>28</td>\n",
       "      <td>13</td>\n",
       "      <td>18</td>\n",
       "      <td>2.390357</td>\n",
       "      <td>students</td>\n",
       "      <td>phonetic strategy</td>\n",
       "      <td>S1</td>\n",
       "    </tr>\n",
       "    <tr>\n",
       "      <th>3</th>\n",
       "      <td>Б_В_10</td>\n",
       "      <td>1</td>\n",
       "      <td>предлог</td>\n",
       "      <td>[парад, предлог]</td>\n",
       "      <td>п</td>\n",
       "      <td>8</td>\n",
       "      <td>4</td>\n",
       "      <td>4</td>\n",
       "      <td>12.7</td>\n",
       "      <td>1.00</td>\n",
       "      <td>1.0</td>\n",
       "      <td>NaN</td>\n",
       "      <td>59</td>\n",
       "      <td>28</td>\n",
       "      <td>13</td>\n",
       "      <td>18</td>\n",
       "      <td>2.390357</td>\n",
       "      <td>students</td>\n",
       "      <td>individual association strategy</td>\n",
       "      <td>S4</td>\n",
       "    </tr>\n",
       "    <tr>\n",
       "      <th>4</th>\n",
       "      <td>Б_В_10</td>\n",
       "      <td>1</td>\n",
       "      <td>по</td>\n",
       "      <td>[предлог, по]</td>\n",
       "      <td>п</td>\n",
       "      <td>3</td>\n",
       "      <td>5</td>\n",
       "      <td>5</td>\n",
       "      <td>5786.7</td>\n",
       "      <td>0.70</td>\n",
       "      <td>NaN</td>\n",
       "      <td>NaN</td>\n",
       "      <td>59</td>\n",
       "      <td>28</td>\n",
       "      <td>13</td>\n",
       "      <td>18</td>\n",
       "      <td>2.390357</td>\n",
       "      <td>students</td>\n",
       "      <td>semantic-field strategy</td>\n",
       "      <td>S3</td>\n",
       "    </tr>\n",
       "  </tbody>\n",
       "</table>\n",
       "</div>"
      ],
      "text/plain": [
       "       ID  quota sec     word   previous + word first_letter strategy  \\\n",
       "0  Б_В_10          1     пара               NaN            п      nan   \n",
       "1  Б_В_10          1   период    [пара, период]            п        8   \n",
       "2  Б_В_10          1    парад   [период, парад]            п       11   \n",
       "3  Б_В_10          1  предлог  [парад, предлог]            п        8   \n",
       "4  Б_В_10          1       по     [предлог, по]            п        3   \n",
       "\n",
       "  order_letter  order_whole_test  frequency  pause   VP  VS  N of words  \\\n",
       "0            1                 1      152.7    NaN  NaN NaN          59   \n",
       "1            2                 2      204.2   0.10  NaN NaN          59   \n",
       "2            3                 3       13.2   3.15  1.0 NaN          59   \n",
       "3            4                 4       12.7   1.00  1.0 NaN          59   \n",
       "4            5                 5     5786.7   0.70  NaN NaN          59   \n",
       "\n",
       "   N of words_P  N of words_O  N of words_S  mean pause      type  \\\n",
       "0            28            13            18    2.390357  students   \n",
       "1            28            13            18    2.390357  students   \n",
       "2            28            13            18    2.390357  students   \n",
       "3            28            13            18    2.390357  students   \n",
       "4            28            13            18    2.390357  students   \n",
       "\n",
       "                     strategy_name strategy_paper_name  \n",
       "0                             None                None  \n",
       "1  individual association strategy                  S4  \n",
       "2                phonetic strategy                  S1  \n",
       "3  individual association strategy                  S4  \n",
       "4          semantic-field strategy                  S3  "
      ]
     },
     "execution_count": 30,
     "metadata": {},
     "output_type": "execute_result"
    }
   ],
   "source": [
    "words.head()"
   ]
  },
  {
   "cell_type": "code",
   "execution_count": 31,
   "metadata": {},
   "outputs": [],
   "source": [
    "words.to_csv('words.tsv', sep='\\t')"
   ]
  },
  {
   "cell_type": "code",
   "execution_count": 32,
   "metadata": {},
   "outputs": [],
   "source": [
    "words.to_excel('words.xlsx', index=False)"
   ]
  },
  {
   "cell_type": "markdown",
   "metadata": {},
   "source": [
    "# rt"
   ]
  },
  {
   "cell_type": "code",
   "execution_count": 33,
   "metadata": {},
   "outputs": [],
   "source": [
    "rt = pd.read_csv('results_academic_student.csv', sep=';')"
   ]
  },
  {
   "cell_type": "code",
   "execution_count": 34,
   "metadata": {},
   "outputs": [
    {
     "data": {
      "text/plain": [
       "array(['senior academics', 'students'], dtype=object)"
      ]
     },
     "execution_count": 34,
     "metadata": {},
     "output_type": "execute_result"
    }
   ],
   "source": [
    "rt.group.unique()"
   ]
  },
  {
   "cell_type": "code",
   "execution_count": 35,
   "metadata": {},
   "outputs": [
    {
     "data": {
      "text/html": [
       "<div>\n",
       "<style scoped>\n",
       "    .dataframe tbody tr th:only-of-type {\n",
       "        vertical-align: middle;\n",
       "    }\n",
       "\n",
       "    .dataframe tbody tr th {\n",
       "        vertical-align: top;\n",
       "    }\n",
       "\n",
       "    .dataframe thead th {\n",
       "        text-align: right;\n",
       "    }\n",
       "</style>\n",
       "<table border=\"1\" class=\"dataframe\">\n",
       "  <thead>\n",
       "    <tr style=\"text-align: right;\">\n",
       "      <th></th>\n",
       "      <th>participant</th>\n",
       "      <th>mean_rt</th>\n",
       "      <th>group</th>\n",
       "    </tr>\n",
       "  </thead>\n",
       "  <tbody>\n",
       "    <tr>\n",
       "      <th>0</th>\n",
       "      <td>12014</td>\n",
       "      <td>0.608103</td>\n",
       "      <td>senior academics</td>\n",
       "    </tr>\n",
       "    <tr>\n",
       "      <th>1</th>\n",
       "      <td>2001</td>\n",
       "      <td>0.537719</td>\n",
       "      <td>senior academics</td>\n",
       "    </tr>\n",
       "    <tr>\n",
       "      <th>2</th>\n",
       "      <td>2005</td>\n",
       "      <td>0.863233</td>\n",
       "      <td>senior academics</td>\n",
       "    </tr>\n",
       "    <tr>\n",
       "      <th>3</th>\n",
       "      <td>9001</td>\n",
       "      <td>0.801409</td>\n",
       "      <td>senior academics</td>\n",
       "    </tr>\n",
       "    <tr>\n",
       "      <th>4</th>\n",
       "      <td>9002</td>\n",
       "      <td>0.564224</td>\n",
       "      <td>senior academics</td>\n",
       "    </tr>\n",
       "  </tbody>\n",
       "</table>\n",
       "</div>"
      ],
      "text/plain": [
       "   participant   mean_rt             group\n",
       "0        12014  0.608103  senior academics\n",
       "1         2001  0.537719  senior academics\n",
       "2         2005  0.863233  senior academics\n",
       "3         9001  0.801409  senior academics\n",
       "4         9002  0.564224  senior academics"
      ]
     },
     "execution_count": 35,
     "metadata": {},
     "output_type": "execute_result"
    }
   ],
   "source": [
    "rt.head()"
   ]
  },
  {
   "cell_type": "code",
   "execution_count": null,
   "metadata": {},
   "outputs": [],
   "source": []
  },
  {
   "cell_type": "code",
   "execution_count": null,
   "metadata": {},
   "outputs": [],
   "source": []
  }
 ],
 "metadata": {
  "kernelspec": {
   "display_name": "sharapkova",
   "language": "python",
   "name": "python3"
  },
  "language_info": {
   "codemirror_mode": {
    "name": "ipython",
    "version": 3
   },
   "file_extension": ".py",
   "mimetype": "text/x-python",
   "name": "python",
   "nbconvert_exporter": "python",
   "pygments_lexer": "ipython3",
   "version": "3.12.2"
  }
 },
 "nbformat": 4,
 "nbformat_minor": 2
}
