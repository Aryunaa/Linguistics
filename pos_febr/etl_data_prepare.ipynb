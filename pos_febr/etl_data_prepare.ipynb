{
 "cells": [
  {
   "cell_type": "markdown",
   "metadata": {},
   "source": [
    "# Work preparation"
   ]
  },
  {
   "cell_type": "markdown",
   "metadata": {},
   "source": [
    "## libraries"
   ]
  },
  {
   "cell_type": "code",
   "execution_count": 1,
   "metadata": {},
   "outputs": [],
   "source": [
    "import pandas as pd\n",
    "import matplotlib.pyplot as plt\n",
    "import numpy as np"
   ]
  },
  {
   "cell_type": "code",
   "execution_count": 2,
   "metadata": {},
   "outputs": [],
   "source": [
    "import warnings\n",
    "import pandas as pd\n",
    "import numpy as np\n",
    "import random\n",
    "import seaborn as sns\n",
    "import matplotlib.pyplot as plt\n",
    "\n",
    "from os.path import join\n",
    "from IPython import display\n",
    "from sklearn.datasets import load_digits\n",
    "from sklearn.datasets import make_blobs\n",
    "from sklearn.decomposition import PCA\n",
    "from sklearn.manifold import TSNE\n",
    "from sklearn.metrics import silhouette_score # и другие метрики\n",
    "from sklearn.cluster import KMeans # а также другие алгоритмы\n",
    "from sklearn.preprocessing import StandardScaler"
   ]
  },
  {
   "cell_type": "code",
   "execution_count": 3,
   "metadata": {},
   "outputs": [],
   "source": [
    "from scipy.stats import f_oneway\n",
    "from statsmodels.multivariate.manova import MANOVA\n",
    "from scipy.stats.mstats import kruskal\n",
    "import scikit_posthocs as sp"
   ]
  },
  {
   "cell_type": "code",
   "execution_count": 4,
   "metadata": {},
   "outputs": [],
   "source": [
    "ppalette={'senior academics':'r', 'students':'g'}"
   ]
  },
  {
   "cell_type": "markdown",
   "metadata": {},
   "source": [
    "## data import and preprocessing"
   ]
  },
  {
   "cell_type": "code",
   "execution_count": 5,
   "metadata": {},
   "outputs": [],
   "source": [
    "students = pd.read_csv('students.tsv',sep='\\t' )\n",
    "dolgolets = pd.read_csv('dolgolets.tsv', sep = '\\t')"
   ]
  },
  {
   "cell_type": "code",
   "execution_count": 6,
   "metadata": {},
   "outputs": [],
   "source": [
    "students.columns = ['ID', 'квота сек', 'Слово', 'Предыдущее + слово', 'Первая_буква',\n",
    "       'Стратегия', 'Порядок_буква', 'Порядок_весь_тест', 'Частотность',\n",
    "       'Пауза', 'VP', 'VS', 'N of words', 'N of words_P', 'N of words_O',\n",
    "       'N of words_S', 'Mean pause']\n",
    "\n",
    "dolgolets.loc[(dolgolets['ID']=='pr_A_1') & (dolgolets['Слово']=='оква'), 'Стратегия']=11\n",
    "dolgolets.loc[(dolgolets['ID']=='pr_G_1') & (dolgolets['Стратегия']=='9'),'Стратегия']=1\n",
    "dolgolets.loc[(dolgolets['ID']=='pr_I_1') & (dolgolets['Стратегия']=='9'),'Стратегия']=3\n",
    "dolgolets.loc[(dolgolets['ID']=='pr_K_1') & (dolgolets['Стратегия']=='9'),'Стратегия']=2\n",
    "dolgolets.loc[(dolgolets['ID']=='pr_L_1') & (dolgolets['Стратегия']=='9') & (dolgolets['Слово']=='овеин'),'Стратегия']=8\n",
    "dolgolets.loc[(dolgolets['ID']=='pr_L_1') & (dolgolets['Стратегия']=='9') & (dolgolets['Слово']=='сапан'),'Стратегия']=8\n",
    "dolgolets.loc[(dolgolets['ID']=='pr_M_2') & (dolgolets['Стратегия']=='9') ,'Стратегия']=8\n",
    "dolgolets.loc[(dolgolets['ID']=='pr_N_2') & (dolgolets['Стратегия']=='9') & (dolgolets['Слово']=='олелуй'),'Стратегия']=1\n",
    "dolgolets.loc[(dolgolets['ID']=='pr_N_2') & (dolgolets['Стратегия']=='9') & (dolgolets['Слово']=='сопсизм'),'Стратегия']=8\n",
    "dolgolets.loc[(dolgolets['ID']=='pr_S_1') & (dolgolets['Стратегия']=='9') ,'Стратегия']=4\n",
    "dolgolets.loc[(dolgolets['ID']=='pr_T_1') & (dolgolets['Стратегия']=='9') ,'Стратегия']=8\n",
    "\n",
    "\n",
    "dolgolets.loc[(dolgolets['ID']=='pr_N_2') & (dolgolets['Стратегия']=='9') & (dolgolets['Слово']=='перл'), 'Стратегия' ]=8\n",
    "dolgolets.loc[(dolgolets['ID']=='pr_L_1') & (dolgolets['Стратегия']=='9') & (dolgolets['Слово']=='скрип'),'Стратегия'] = 11\n",
    "\n",
    "dolgolets = dolgolets[students.columns]\n",
    "dolgolets['type'] = 'senior academics'\n",
    "students['type'] = 'students'\n",
    "\n",
    "df = pd.concat([students, dolgolets])\n",
    "\n",
    "df['Стратегия'] = df['Стратегия'].astype(str)\n",
    "#df[df['Стратегия'].notnull()].Стратегия.astype('int32', errors = 'ignore')\n",
    "df['Стратегия'] = df['Стратегия'].str.replace(r'.0', '')\n",
    "df['Частотность'] = df['Частотность'].str.replace(r',', '.')\n",
    "df['Частотность'] = df['Частотность'].astype('float', errors = 'ignore')\n",
    "df['Пауза'] = df['Пауза'].str.replace(r',', '.')\n",
    "df['Пауза'] = df['Пауза'].astype('float', errors='ignore' )\n",
    "df['Порядок_буква'] = df['Порядок_буква'].astype(str)\n",
    "df['Порядок_буква'] = df['Порядок_буква'].str.replace(r'.0', '')\n",
    "df['Предыдущее + слово'] = df['Предыдущее + слово'].str.split(' ')\n",
    "\n",
    "df1 = df.groupby(\"ID\").agg(list)\n",
    "df1['N of words_O'] = df1['N of words_O'].str[0]\n",
    "df1['N of words'] = df1['N of words'].str[0]\n",
    "df1['N of words_P'] = df1['N of words_P'].str[0]\n",
    "df1['N of words_S'] = df1['N of words_S'].str[0]\n",
    "df1['Mean pause'] = df1['Mean pause'].str[0]\n",
    "df1['type'] = df1['type'].str[0]"
   ]
  },
  {
   "cell_type": "code",
   "execution_count": 7,
   "metadata": {},
   "outputs": [],
   "source": [
    "def count_values_freq(lst):\n",
    "    freq_dict = {}\n",
    "    for value in lst:\n",
    "        if value in freq_dict:\n",
    "            freq_dict[value] += 1\n",
    "        else:\n",
    "            freq_dict[value] = 1\n",
    "    return freq_dict\n",
    "df1['strategyfreq_dict'] = df1['Стратегия'].apply(count_values_freq)"
   ]
  },
  {
   "cell_type": "code",
   "execution_count": 8,
   "metadata": {},
   "outputs": [
    {
     "data": {
      "text/html": [
       "<div>\n",
       "<style scoped>\n",
       "    .dataframe tbody tr th:only-of-type {\n",
       "        vertical-align: middle;\n",
       "    }\n",
       "\n",
       "    .dataframe tbody tr th {\n",
       "        vertical-align: top;\n",
       "    }\n",
       "\n",
       "    .dataframe thead th {\n",
       "        text-align: right;\n",
       "    }\n",
       "</style>\n",
       "<table border=\"1\" class=\"dataframe\">\n",
       "  <thead>\n",
       "    <tr style=\"text-align: right;\">\n",
       "      <th></th>\n",
       "      <th>fonetics</th>\n",
       "      <th>derivation</th>\n",
       "      <th>lexico-semantic field</th>\n",
       "      <th>other</th>\n",
       "    </tr>\n",
       "    <tr>\n",
       "      <th>ID</th>\n",
       "      <th></th>\n",
       "      <th></th>\n",
       "      <th></th>\n",
       "      <th></th>\n",
       "    </tr>\n",
       "  </thead>\n",
       "  <tbody>\n",
       "    <tr>\n",
       "      <th>pr_A_1</th>\n",
       "      <td>0.227273</td>\n",
       "      <td>0.113636</td>\n",
       "      <td>0.295455</td>\n",
       "      <td>0.363636</td>\n",
       "    </tr>\n",
       "    <tr>\n",
       "      <th>pr_B_1</th>\n",
       "      <td>0.196078</td>\n",
       "      <td>0.058824</td>\n",
       "      <td>0.313725</td>\n",
       "      <td>0.431373</td>\n",
       "    </tr>\n",
       "    <tr>\n",
       "      <th>pr_E_1</th>\n",
       "      <td>0.096154</td>\n",
       "      <td>0.019231</td>\n",
       "      <td>0.192308</td>\n",
       "      <td>0.692308</td>\n",
       "    </tr>\n",
       "    <tr>\n",
       "      <th>pr_G_1</th>\n",
       "      <td>0.254545</td>\n",
       "      <td>0.018182</td>\n",
       "      <td>0.127273</td>\n",
       "      <td>0.600000</td>\n",
       "    </tr>\n",
       "    <tr>\n",
       "      <th>pr_I_1</th>\n",
       "      <td>0.083333</td>\n",
       "      <td>0.020833</td>\n",
       "      <td>0.187500</td>\n",
       "      <td>0.708333</td>\n",
       "    </tr>\n",
       "  </tbody>\n",
       "</table>\n",
       "</div>"
      ],
      "text/plain": [
       "        fonetics  derivation  lexico-semantic field     other\n",
       "ID                                                           \n",
       "pr_A_1  0.227273    0.113636               0.295455  0.363636\n",
       "pr_B_1  0.196078    0.058824               0.313725  0.431373\n",
       "pr_E_1  0.096154    0.019231               0.192308  0.692308\n",
       "pr_G_1  0.254545    0.018182               0.127273  0.600000\n",
       "pr_I_1  0.083333    0.020833               0.187500  0.708333"
      ]
     },
     "execution_count": 8,
     "metadata": {},
     "output_type": "execute_result"
    }
   ],
   "source": [
    "df = df1[['strategyfreq_dict']]\n",
    "\n",
    "def expand_dict_column(row):\n",
    "    for key, value in row['strategyfreq_dict'].items():\n",
    "        row[key] = int(value)\n",
    "    return row\n",
    "\n",
    "# Применяем функцию к каждой строке DataFrame\n",
    "df = df.apply(expand_dict_column, axis=1)\n",
    "\n",
    "# Удаляем столбец со словарями (если требуется)\n",
    "#df.drop('dict_column', axis=1, inplace=True)\n",
    "\n",
    "\n",
    "\n",
    "# Выводим DataFrame с новыми столбцами\n",
    "df = df.fillna(0)\n",
    "df['1'] = df['1'] + df['11'] + df['1а']\n",
    "df['2'] = df['2'] + df['22'] + df['2а']\n",
    "df['3'] = df['3'] + df['33'] + df['3a'] + df['3а'] + df['3а’']\n",
    "df['4'] = df['4'] + df['4а']\n",
    "df['6'] = df['6'] + df['66']\n",
    "\n",
    "columns_to_drop = ['11', '1а', '22', '2а',  '33', '3a', '3а', '3а’', '4а', '66']\n",
    "df = df.drop(columns=columns_to_drop)\n",
    "\n",
    "df['fonetics'] = df['1'] \n",
    "df['derivation'] = df['2']\n",
    "df['lexico-semantic field'] = df['3'] + df['4'] + df['5'] + df['6'] + df['7']\n",
    "df['other'] = df['8']\n",
    "columns_to_drop = ['1', '2', '3', '4',  '5', '6', '7', '8']\n",
    "df = df.drop(columns=columns_to_drop)\n",
    "df.columns\n",
    "df = df.drop(['nan'], axis=1)\n",
    "df.head()\n",
    "df = df.drop(['strategyfreq_dict'], axis = 1)\n",
    "\n",
    "df['strat_sum'] = df['fonetics'] + df['derivation'] + df['lexico-semantic field'] + df['other']\n",
    "\n",
    "dff = df.copy()\n",
    "for col in dff.columns[:-1]:  # Исключаем последний столбец strat_sum\n",
    "    dff[col] = dff[col] / df['strat_sum']\n",
    "\n",
    "dff = dff.drop(['strat_sum'], axis = 1)\n",
    "dff.head()"
   ]
  },
  {
   "cell_type": "code",
   "execution_count": 9,
   "metadata": {},
   "outputs": [
    {
     "data": {
      "text/html": [
       "<div>\n",
       "<style scoped>\n",
       "    .dataframe tbody tr th:only-of-type {\n",
       "        vertical-align: middle;\n",
       "    }\n",
       "\n",
       "    .dataframe tbody tr th {\n",
       "        vertical-align: top;\n",
       "    }\n",
       "\n",
       "    .dataframe thead th {\n",
       "        text-align: right;\n",
       "    }\n",
       "</style>\n",
       "<table border=\"1\" class=\"dataframe\">\n",
       "  <thead>\n",
       "    <tr style=\"text-align: right;\">\n",
       "      <th></th>\n",
       "      <th>fonetics</th>\n",
       "      <th>derivation</th>\n",
       "      <th>lexico-semantic field</th>\n",
       "      <th>other</th>\n",
       "      <th>strat_sum</th>\n",
       "    </tr>\n",
       "    <tr>\n",
       "      <th>ID</th>\n",
       "      <th></th>\n",
       "      <th></th>\n",
       "      <th></th>\n",
       "      <th></th>\n",
       "      <th></th>\n",
       "    </tr>\n",
       "  </thead>\n",
       "  <tbody>\n",
       "    <tr>\n",
       "      <th>pr_A_1</th>\n",
       "      <td>10.0</td>\n",
       "      <td>5.0</td>\n",
       "      <td>13.0</td>\n",
       "      <td>16</td>\n",
       "      <td>44.0</td>\n",
       "    </tr>\n",
       "    <tr>\n",
       "      <th>pr_B_1</th>\n",
       "      <td>10.0</td>\n",
       "      <td>3.0</td>\n",
       "      <td>16.0</td>\n",
       "      <td>22</td>\n",
       "      <td>51.0</td>\n",
       "    </tr>\n",
       "    <tr>\n",
       "      <th>pr_E_1</th>\n",
       "      <td>5.0</td>\n",
       "      <td>1.0</td>\n",
       "      <td>10.0</td>\n",
       "      <td>36</td>\n",
       "      <td>52.0</td>\n",
       "    </tr>\n",
       "    <tr>\n",
       "      <th>pr_G_1</th>\n",
       "      <td>14.0</td>\n",
       "      <td>1.0</td>\n",
       "      <td>7.0</td>\n",
       "      <td>33</td>\n",
       "      <td>55.0</td>\n",
       "    </tr>\n",
       "    <tr>\n",
       "      <th>pr_I_1</th>\n",
       "      <td>4.0</td>\n",
       "      <td>1.0</td>\n",
       "      <td>9.0</td>\n",
       "      <td>34</td>\n",
       "      <td>48.0</td>\n",
       "    </tr>\n",
       "  </tbody>\n",
       "</table>\n",
       "</div>"
      ],
      "text/plain": [
       "        fonetics  derivation  lexico-semantic field  other  strat_sum\n",
       "ID                                                                   \n",
       "pr_A_1      10.0         5.0                   13.0     16       44.0\n",
       "pr_B_1      10.0         3.0                   16.0     22       51.0\n",
       "pr_E_1       5.0         1.0                   10.0     36       52.0\n",
       "pr_G_1      14.0         1.0                    7.0     33       55.0\n",
       "pr_I_1       4.0         1.0                    9.0     34       48.0"
      ]
     },
     "execution_count": 9,
     "metadata": {},
     "output_type": "execute_result"
    }
   ],
   "source": [
    "df.head()"
   ]
  },
  {
   "cell_type": "code",
   "execution_count": 10,
   "metadata": {},
   "outputs": [
    {
     "data": {
      "text/plain": [
       "<Axes: xlabel='strat_sum', ylabel='Count'>"
      ]
     },
     "execution_count": 10,
     "metadata": {},
     "output_type": "execute_result"
    },
    {
     "data": {
      "image/png": "[encoded data removed]",
      "text/plain": [
       "<Figure size 640x480 with 1 Axes>"
      ]
     },
     "metadata": {},
     "output_type": "display_data"
    }
   ],
   "source": [
    "sns.histplot(df['strat_sum'])"
   ]
  },
  {
   "cell_type": "code",
   "execution_count": 11,
   "metadata": {},
   "outputs": [
    {
     "data": {
      "text/plain": [
       "Index(['квота сек', 'Слово', 'Предыдущее + слово', 'Первая_буква', 'Стратегия',\n",
       "       'Порядок_буква', 'Порядок_весь_тест', 'Частотность', 'Пауза', 'VP',\n",
       "       'VS', 'N of words', 'N of words_P', 'N of words_O', 'N of words_S',\n",
       "       'Mean pause', 'type', 'strategyfreq_dict'],\n",
       "      dtype='object')"
      ]
     },
     "execution_count": 11,
     "metadata": {},
     "output_type": "execute_result"
    }
   ],
   "source": [
    "df1.columns"
   ]
  },
  {
   "cell_type": "code",
   "execution_count": 12,
   "metadata": {},
   "outputs": [],
   "source": [
    "analysis_df = df1[['квота сек', 'Первая_буква',\n",
    "       'Порядок_буква', 'Порядок_весь_тест','Частотность', 'strategyfreq_dict','Пауза', \n",
    "       'Mean pause', 'type']]\n",
    "\n",
    "analysis_df = pd.concat([analysis_df, dff], axis=1)"
   ]
  },
  {
   "cell_type": "code",
   "execution_count": 16,
   "metadata": {},
   "outputs": [
    {
     "data": {
      "text/html": [
       "<div>\n",
       "<style scoped>\n",
       "    .dataframe tbody tr th:only-of-type {\n",
       "        vertical-align: middle;\n",
       "    }\n",
       "\n",
       "    .dataframe tbody tr th {\n",
       "        vertical-align: top;\n",
       "    }\n",
       "\n",
       "    .dataframe thead th {\n",
       "        text-align: right;\n",
       "    }\n",
       "</style>\n",
       "<table border=\"1\" class=\"dataframe\">\n",
       "  <thead>\n",
       "    <tr style=\"text-align: right;\">\n",
       "      <th></th>\n",
       "      <th>fonetics</th>\n",
       "      <th>derivation</th>\n",
       "      <th>lexico-semantic field</th>\n",
       "      <th>other</th>\n",
       "      <th>strat_sum</th>\n",
       "    </tr>\n",
       "    <tr>\n",
       "      <th>ID</th>\n",
       "      <th></th>\n",
       "      <th></th>\n",
       "      <th></th>\n",
       "      <th></th>\n",
       "      <th></th>\n",
       "    </tr>\n",
       "  </thead>\n",
       "  <tbody>\n",
       "    <tr>\n",
       "      <th>pr_A_1</th>\n",
       "      <td>10.0</td>\n",
       "      <td>5.0</td>\n",
       "      <td>13.0</td>\n",
       "      <td>16</td>\n",
       "      <td>44.0</td>\n",
       "    </tr>\n",
       "    <tr>\n",
       "      <th>pr_B_1</th>\n",
       "      <td>10.0</td>\n",
       "      <td>3.0</td>\n",
       "      <td>16.0</td>\n",
       "      <td>22</td>\n",
       "      <td>51.0</td>\n",
       "    </tr>\n",
       "    <tr>\n",
       "      <th>pr_E_1</th>\n",
       "      <td>5.0</td>\n",
       "      <td>1.0</td>\n",
       "      <td>10.0</td>\n",
       "      <td>36</td>\n",
       "      <td>52.0</td>\n",
       "    </tr>\n",
       "    <tr>\n",
       "      <th>pr_G_1</th>\n",
       "      <td>14.0</td>\n",
       "      <td>1.0</td>\n",
       "      <td>7.0</td>\n",
       "      <td>33</td>\n",
       "      <td>55.0</td>\n",
       "    </tr>\n",
       "    <tr>\n",
       "      <th>pr_I_1</th>\n",
       "      <td>4.0</td>\n",
       "      <td>1.0</td>\n",
       "      <td>9.0</td>\n",
       "      <td>34</td>\n",
       "      <td>48.0</td>\n",
       "    </tr>\n",
       "  </tbody>\n",
       "</table>\n",
       "</div>"
      ],
      "text/plain": [
       "        fonetics  derivation  lexico-semantic field  other  strat_sum\n",
       "ID                                                                   \n",
       "pr_A_1      10.0         5.0                   13.0     16       44.0\n",
       "pr_B_1      10.0         3.0                   16.0     22       51.0\n",
       "pr_E_1       5.0         1.0                   10.0     36       52.0\n",
       "pr_G_1      14.0         1.0                    7.0     33       55.0\n",
       "pr_I_1       4.0         1.0                    9.0     34       48.0"
      ]
     },
     "execution_count": 16,
     "metadata": {},
     "output_type": "execute_result"
    }
   ],
   "source": [
    "df.head()"
   ]
  },
  {
   "cell_type": "code",
   "execution_count": 23,
   "metadata": {},
   "outputs": [],
   "source": [
    "humans = df.join(df1[['type']])\n",
    "humans.to_csv('humans.tsv', sep='\\t')\n"
   ]
  },
  {
   "cell_type": "code",
   "execution_count": 27,
   "metadata": {},
   "outputs": [],
   "source": [
    "words = pd.concat([students, dolgolets])\n",
    "words.to_csv('words.tsv', sep='\\t')"
   ]
  }
 ],
 "metadata": {
  "kernelspec": {
   "display_name": "sharapkova",
   "language": "python",
   "name": "python3"
  },
  "language_info": {
   "codemirror_mode": {
    "name": "ipython",
    "version": 3
   },
   "file_extension": ".py",
   "mimetype": "text/x-python",
   "name": "python",
   "nbconvert_exporter": "python",
   "pygments_lexer": "ipython3",
   "version": "3.12.2"
  }
 },
 "nbformat": 4,
 "nbformat_minor": 2
}
